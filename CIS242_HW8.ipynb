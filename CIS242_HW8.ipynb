{
 "cells": [
  {
   "cell_type": "markdown",
   "metadata": {},
   "source": [
    "##### CIS 242\n",
    "\n",
    "## Spring 2020\n",
    "\n",
    "## HOMEWORK ASSIGNMENT 8\n",
    "\n",
    "\n",
    "Please compile your responses use markdown in your Jupyter notebook to answer the questions.  If you prefer, you may also submit a Word or PDF document with the responses along the PDF or HTML version of the completed notebook.   \n",
    "\n",
    "#### Active notebooks (.ipynb files) or raw code (.py files) will NOT be accepted and no points will be given.\n",
    "\n",
    "The code part of the files will not be graded, but they will be checked if necessary to verify your findings and recommendations. Point deductions may occur if there are major discrepancies between your written answers and the output from the code. \n",
    "\n",
    "Please organize your notebook to have the homework responses at the top and the working code underneath.\n",
    "\n",
    "Questions are worth 2 points each for a total of **20 points**.  "
   ]
  },
  {
   "cell_type": "markdown",
   "metadata": {},
   "source": [
    "## Clustering crime\n",
    "\n",
    "You have been hired as a consultant to help the FBI understand how to best support local law enforcement to keep crime rates down.  The FBI has the ability to start one crime prevention program and wants to identify which states are similar enough to benefit from the same program.  They have asked you to help with that identification process.  There is no requirement that the states be located near each other but they need to have similar \"profiles\". \n",
    "\n",
    "The CrimeData.csv file contains data on state level crime in 2014 from the Unified Crime Report from the FBI.  It also contains some other state level information such as population, unemployment rates, and average hourly wages. Definitions for the crime variables can be found here: https://www.ucrdatatool.gov/offenses.cfm"
   ]
  },
  {
   "cell_type": "markdown",
   "metadata": {},
   "source": [
    "#### 1.  Perform some preliminary EDA on the data and describe the sample.  List 3 things you learn about crime from this exercise. How can you use that information? "
   ]
  },
  {
   "cell_type": "code",
   "execution_count": 1,
   "metadata": {},
   "outputs": [
    {
     "data": {
      "text/html": [
       "<div>\n",
       "<style scoped>\n",
       "    .dataframe tbody tr th:only-of-type {\n",
       "        vertical-align: middle;\n",
       "    }\n",
       "\n",
       "    .dataframe tbody tr th {\n",
       "        vertical-align: top;\n",
       "    }\n",
       "\n",
       "    .dataframe thead th {\n",
       "        text-align: right;\n",
       "    }\n",
       "</style>\n",
       "<table border=\"1\" class=\"dataframe\">\n",
       "  <thead>\n",
       "    <tr style=\"text-align: right;\">\n",
       "      <th></th>\n",
       "      <th>State</th>\n",
       "      <th>Population</th>\n",
       "      <th>Murder and nonnegligent manslaughter rate</th>\n",
       "      <th>Legacy rape rate /1</th>\n",
       "      <th>Revised rape rate /2</th>\n",
       "      <th>Robbery rate</th>\n",
       "      <th>Aggravated assault rate</th>\n",
       "      <th>Burglary rate</th>\n",
       "      <th>Larceny-theft rate</th>\n",
       "      <th>Motor vehicle theft rate</th>\n",
       "      <th>Unemployment rate</th>\n",
       "      <th>Average Hourly Wage</th>\n",
       "    </tr>\n",
       "  </thead>\n",
       "  <tbody>\n",
       "    <tr>\n",
       "      <th>0</th>\n",
       "      <td>Alabama</td>\n",
       "      <td>4849377</td>\n",
       "      <td>5.70</td>\n",
       "      <td>29.60</td>\n",
       "      <td>41.30</td>\n",
       "      <td>96.90</td>\n",
       "      <td>283.40</td>\n",
       "      <td>819.00</td>\n",
       "      <td>2149.50</td>\n",
       "      <td>209.10</td>\n",
       "      <td>6.10</td>\n",
       "      <td>19.66</td>\n",
       "    </tr>\n",
       "    <tr>\n",
       "      <th>1</th>\n",
       "      <td>Alaska</td>\n",
       "      <td>736732</td>\n",
       "      <td>5.60</td>\n",
       "      <td>75.30</td>\n",
       "      <td>104.70</td>\n",
       "      <td>85.40</td>\n",
       "      <td>440.20</td>\n",
       "      <td>427.60</td>\n",
       "      <td>2096.40</td>\n",
       "      <td>236.00</td>\n",
       "      <td>6.50</td>\n",
       "      <td>25.98</td>\n",
       "    </tr>\n",
       "    <tr>\n",
       "      <th>2</th>\n",
       "      <td>Arizona</td>\n",
       "      <td>6731484</td>\n",
       "      <td>4.70</td>\n",
       "      <td>36.60</td>\n",
       "      <td>50.20</td>\n",
       "      <td>92.80</td>\n",
       "      <td>252.10</td>\n",
       "      <td>647.10</td>\n",
       "      <td>2289.10</td>\n",
       "      <td>261.30</td>\n",
       "      <td>6.10</td>\n",
       "      <td>21.43</td>\n",
       "    </tr>\n",
       "    <tr>\n",
       "      <th>3</th>\n",
       "      <td>Arkansas</td>\n",
       "      <td>2966369</td>\n",
       "      <td>5.60</td>\n",
       "      <td>39.80</td>\n",
       "      <td>59.40</td>\n",
       "      <td>69.10</td>\n",
       "      <td>346.00</td>\n",
       "      <td>835.70</td>\n",
       "      <td>2313.50</td>\n",
       "      <td>188.80</td>\n",
       "      <td>5.00</td>\n",
       "      <td>18.24</td>\n",
       "    </tr>\n",
       "    <tr>\n",
       "      <th>4</th>\n",
       "      <td>California</td>\n",
       "      <td>38802500</td>\n",
       "      <td>4.40</td>\n",
       "      <td>21.60</td>\n",
       "      <td>29.70</td>\n",
       "      <td>125.50</td>\n",
       "      <td>236.60</td>\n",
       "      <td>522.30</td>\n",
       "      <td>1527.40</td>\n",
       "      <td>391.30</td>\n",
       "      <td>6.20</td>\n",
       "      <td>25.91</td>\n",
       "    </tr>\n",
       "  </tbody>\n",
       "</table>\n",
       "</div>"
      ],
      "text/plain": [
       "        State  Population  Murder and nonnegligent manslaughter rate  \\\n",
       "0     Alabama     4849377                                       5.70   \n",
       "1      Alaska      736732                                       5.60   \n",
       "2     Arizona     6731484                                       4.70   \n",
       "3    Arkansas     2966369                                       5.60   \n",
       "4  California    38802500                                       4.40   \n",
       "\n",
       "   Legacy rape rate /1  Revised rape rate /2  Robbery rate  \\\n",
       "0                29.60                 41.30         96.90   \n",
       "1                75.30                104.70         85.40   \n",
       "2                36.60                 50.20         92.80   \n",
       "3                39.80                 59.40         69.10   \n",
       "4                21.60                 29.70        125.50   \n",
       "\n",
       "   Aggravated assault rate  Burglary rate  Larceny-theft rate  \\\n",
       "0                   283.40         819.00             2149.50   \n",
       "1                   440.20         427.60             2096.40   \n",
       "2                   252.10         647.10             2289.10   \n",
       "3                   346.00         835.70             2313.50   \n",
       "4                   236.60         522.30             1527.40   \n",
       "\n",
       "   Motor vehicle theft rate  Unemployment rate  Average Hourly Wage  \n",
       "0                    209.10               6.10                19.66  \n",
       "1                    236.00               6.50                25.98  \n",
       "2                    261.30               6.10                21.43  \n",
       "3                    188.80               5.00                18.24  \n",
       "4                    391.30               6.20                25.91  "
      ]
     },
     "execution_count": 1,
     "metadata": {},
     "output_type": "execute_result"
    }
   ],
   "source": [
    "import numpy as np\n",
    "import pandas as pd\n",
    "pd.options.display.float_format = '{:.2f}'.format\n",
    "crimes = pd.read_csv('CrimeData.csv')\n",
    "crimes.head()"
   ]
  },
  {
   "cell_type": "code",
   "execution_count": 2,
   "metadata": {},
   "outputs": [
    {
     "data": {
      "text/plain": [
       "State                                         object\n",
       "Population                                     int64\n",
       "Murder and nonnegligent manslaughter rate    float64\n",
       "Legacy rape rate /1                          float64\n",
       "Revised rape rate /2                         float64\n",
       "Robbery rate                                 float64\n",
       "Aggravated assault rate                      float64\n",
       "Burglary rate                                float64\n",
       "Larceny-theft rate                           float64\n",
       "Motor vehicle theft rate                     float64\n",
       "Unemployment rate                            float64\n",
       "Average Hourly Wage                          float64\n",
       "dtype: object"
      ]
     },
     "execution_count": 2,
     "metadata": {},
     "output_type": "execute_result"
    }
   ],
   "source": [
    "crimes.dtypes"
   ]
  },
  {
   "cell_type": "markdown",
   "metadata": {},
   "source": [
    "Seeing that all of the variables are numeric data types (integers and floats), we know that they are ideal for K-clustering models that measures distances between data points."
   ]
  },
  {
   "cell_type": "code",
   "execution_count": 3,
   "metadata": {},
   "outputs": [
    {
     "data": {
      "text/plain": [
       "State                                        51\n",
       "Population                                   51\n",
       "Murder and nonnegligent manslaughter rate    51\n",
       "Legacy rape rate /1                          51\n",
       "Revised rape rate /2                         51\n",
       "Robbery rate                                 51\n",
       "Aggravated assault rate                      51\n",
       "Burglary rate                                51\n",
       "Larceny-theft rate                           51\n",
       "Motor vehicle theft rate                     51\n",
       "Unemployment rate                            51\n",
       "Average Hourly Wage                          51\n",
       "dtype: int64"
      ]
     },
     "execution_count": 3,
     "metadata": {},
     "output_type": "execute_result"
    }
   ],
   "source": [
    "crimes.count()"
   ]
  },
  {
   "cell_type": "code",
   "execution_count": 4,
   "metadata": {},
   "outputs": [
    {
     "data": {
      "text/plain": [
       "State                                        0\n",
       "Population                                   0\n",
       "Murder and nonnegligent manslaughter rate    0\n",
       "Legacy rape rate /1                          0\n",
       "Revised rape rate /2                         0\n",
       "Robbery rate                                 0\n",
       "Aggravated assault rate                      0\n",
       "Burglary rate                                0\n",
       "Larceny-theft rate                           0\n",
       "Motor vehicle theft rate                     0\n",
       "Unemployment rate                            0\n",
       "Average Hourly Wage                          0\n",
       "dtype: int64"
      ]
     },
     "execution_count": 4,
     "metadata": {},
     "output_type": "execute_result"
    }
   ],
   "source": [
    "crimes.isnull().sum()"
   ]
  },
  {
   "cell_type": "markdown",
   "metadata": {},
   "source": [
    "There are 51 rows with no value missing, thus not requiring us to clean the data."
   ]
  },
  {
   "cell_type": "code",
   "execution_count": 5,
   "metadata": {
    "scrolled": true
   },
   "outputs": [
    {
     "data": {
      "text/html": [
       "<div>\n",
       "<style scoped>\n",
       "    .dataframe tbody tr th:only-of-type {\n",
       "        vertical-align: middle;\n",
       "    }\n",
       "\n",
       "    .dataframe tbody tr th {\n",
       "        vertical-align: top;\n",
       "    }\n",
       "\n",
       "    .dataframe thead th {\n",
       "        text-align: right;\n",
       "    }\n",
       "</style>\n",
       "<table border=\"1\" class=\"dataframe\">\n",
       "  <thead>\n",
       "    <tr style=\"text-align: right;\">\n",
       "      <th></th>\n",
       "      <th>Population</th>\n",
       "      <th>Murder and nonnegligent manslaughter rate</th>\n",
       "      <th>Legacy rape rate /1</th>\n",
       "      <th>Revised rape rate /2</th>\n",
       "      <th>Robbery rate</th>\n",
       "      <th>Aggravated assault rate</th>\n",
       "      <th>Burglary rate</th>\n",
       "      <th>Larceny-theft rate</th>\n",
       "      <th>Motor vehicle theft rate</th>\n",
       "      <th>Unemployment rate</th>\n",
       "      <th>Average Hourly Wage</th>\n",
       "    </tr>\n",
       "  </thead>\n",
       "  <tbody>\n",
       "    <tr>\n",
       "      <th>count</th>\n",
       "      <td>51.00</td>\n",
       "      <td>51.00</td>\n",
       "      <td>51.00</td>\n",
       "      <td>51.00</td>\n",
       "      <td>51.00</td>\n",
       "      <td>51.00</td>\n",
       "      <td>51.00</td>\n",
       "      <td>51.00</td>\n",
       "      <td>51.00</td>\n",
       "      <td>51.00</td>\n",
       "      <td>51.00</td>\n",
       "    </tr>\n",
       "    <tr>\n",
       "      <th>mean</th>\n",
       "      <td>6252099.14</td>\n",
       "      <td>4.30</td>\n",
       "      <td>29.38</td>\n",
       "      <td>40.51</td>\n",
       "      <td>88.96</td>\n",
       "      <td>230.64</td>\n",
       "      <td>527.28</td>\n",
       "      <td>1876.24</td>\n",
       "      <td>199.98</td>\n",
       "      <td>5.04</td>\n",
       "      <td>21.99</td>\n",
       "    </tr>\n",
       "    <tr>\n",
       "      <th>std</th>\n",
       "      <td>7124005.19</td>\n",
       "      <td>2.52</td>\n",
       "      <td>11.35</td>\n",
       "      <td>15.27</td>\n",
       "      <td>75.23</td>\n",
       "      <td>110.31</td>\n",
       "      <td>181.70</td>\n",
       "      <td>485.93</td>\n",
       "      <td>98.28</td>\n",
       "      <td>1.08</td>\n",
       "      <td>3.39</td>\n",
       "    </tr>\n",
       "    <tr>\n",
       "      <th>min</th>\n",
       "      <td>584153.00</td>\n",
       "      <td>0.90</td>\n",
       "      <td>10.70</td>\n",
       "      <td>14.30</td>\n",
       "      <td>9.10</td>\n",
       "      <td>66.90</td>\n",
       "      <td>257.20</td>\n",
       "      <td>1160.80</td>\n",
       "      <td>38.90</td>\n",
       "      <td>2.80</td>\n",
       "      <td>17.67</td>\n",
       "    </tr>\n",
       "    <tr>\n",
       "      <th>25%</th>\n",
       "      <td>1742395.00</td>\n",
       "      <td>2.45</td>\n",
       "      <td>21.60</td>\n",
       "      <td>30.05</td>\n",
       "      <td>50.80</td>\n",
       "      <td>150.75</td>\n",
       "      <td>374.15</td>\n",
       "      <td>1533.45</td>\n",
       "      <td>134.50</td>\n",
       "      <td>4.25</td>\n",
       "      <td>19.76</td>\n",
       "    </tr>\n",
       "    <tr>\n",
       "      <th>50%</th>\n",
       "      <td>4413457.00</td>\n",
       "      <td>4.00</td>\n",
       "      <td>27.10</td>\n",
       "      <td>37.30</td>\n",
       "      <td>82.70</td>\n",
       "      <td>218.40</td>\n",
       "      <td>468.70</td>\n",
       "      <td>1864.10</td>\n",
       "      <td>199.60</td>\n",
       "      <td>5.10</td>\n",
       "      <td>21.20</td>\n",
       "    </tr>\n",
       "    <tr>\n",
       "      <th>75%</th>\n",
       "      <td>6903469.00</td>\n",
       "      <td>5.60</td>\n",
       "      <td>34.75</td>\n",
       "      <td>46.80</td>\n",
       "      <td>110.45</td>\n",
       "      <td>277.35</td>\n",
       "      <td>696.10</td>\n",
       "      <td>2180.30</td>\n",
       "      <td>244.25</td>\n",
       "      <td>6.00</td>\n",
       "      <td>23.63</td>\n",
       "    </tr>\n",
       "    <tr>\n",
       "      <th>max</th>\n",
       "      <td>38802500.00</td>\n",
       "      <td>15.90</td>\n",
       "      <td>75.30</td>\n",
       "      <td>104.70</td>\n",
       "      <td>530.70</td>\n",
       "      <td>626.10</td>\n",
       "      <td>887.30</td>\n",
       "      <td>4082.30</td>\n",
       "      <td>574.10</td>\n",
       "      <td>6.90</td>\n",
       "      <td>37.78</td>\n",
       "    </tr>\n",
       "  </tbody>\n",
       "</table>\n",
       "</div>"
      ],
      "text/plain": [
       "       Population  Murder and nonnegligent manslaughter rate  \\\n",
       "count       51.00                                      51.00   \n",
       "mean   6252099.14                                       4.30   \n",
       "std    7124005.19                                       2.52   \n",
       "min     584153.00                                       0.90   \n",
       "25%    1742395.00                                       2.45   \n",
       "50%    4413457.00                                       4.00   \n",
       "75%    6903469.00                                       5.60   \n",
       "max   38802500.00                                      15.90   \n",
       "\n",
       "       Legacy rape rate /1  Revised rape rate /2  Robbery rate  \\\n",
       "count                51.00                 51.00         51.00   \n",
       "mean                 29.38                 40.51         88.96   \n",
       "std                  11.35                 15.27         75.23   \n",
       "min                  10.70                 14.30          9.10   \n",
       "25%                  21.60                 30.05         50.80   \n",
       "50%                  27.10                 37.30         82.70   \n",
       "75%                  34.75                 46.80        110.45   \n",
       "max                  75.30                104.70        530.70   \n",
       "\n",
       "       Aggravated assault rate  Burglary rate  Larceny-theft rate  \\\n",
       "count                    51.00          51.00               51.00   \n",
       "mean                    230.64         527.28             1876.24   \n",
       "std                     110.31         181.70              485.93   \n",
       "min                      66.90         257.20             1160.80   \n",
       "25%                     150.75         374.15             1533.45   \n",
       "50%                     218.40         468.70             1864.10   \n",
       "75%                     277.35         696.10             2180.30   \n",
       "max                     626.10         887.30             4082.30   \n",
       "\n",
       "       Motor vehicle theft rate  Unemployment rate  Average Hourly Wage  \n",
       "count                     51.00              51.00                51.00  \n",
       "mean                     199.98               5.04                21.99  \n",
       "std                       98.28               1.08                 3.39  \n",
       "min                       38.90               2.80                17.67  \n",
       "25%                      134.50               4.25                19.76  \n",
       "50%                      199.60               5.10                21.20  \n",
       "75%                      244.25               6.00                23.63  \n",
       "max                      574.10               6.90                37.78  "
      ]
     },
     "execution_count": 5,
     "metadata": {},
     "output_type": "execute_result"
    }
   ],
   "source": [
    "crimes.describe()"
   ]
  },
  {
   "cell_type": "markdown",
   "metadata": {},
   "source": [
    "The summary statistics above lets us know which states have a higher or lower rate of a given crime compared to other states. It could help us initially divide the states into lower rate group and higher rate group with the mean or median as the center point. Because the scale of the variables are quite different (ex. Murder and nonnegligent manslaughter rate ranges from 0.90 to 15.90 while Larceny-theft rate ranges from 1160.80 to 4082.30), we will have to normalize the data set at some point."
   ]
  },
  {
   "cell_type": "markdown",
   "metadata": {},
   "source": [
    "#### 2.  Name 3 questions you might want to try to answer with these data. How would you answer them?"
   ]
  },
  {
   "cell_type": "markdown",
   "metadata": {},
   "source": [
    "1. Is there a positive correlation between rates of different types of crime?\n",
    "2. Is there a positive correlation between population and crime rates?\n",
    "3. Is there a positive correlation between higher unemployment rate and crime rates?"
   ]
  },
  {
   "cell_type": "markdown",
   "metadata": {},
   "source": [
    "#### 3.  Answer one of your questions.  Does the answer surprise you?  Why or why not?"
   ]
  },
  {
   "cell_type": "code",
   "execution_count": 6,
   "metadata": {},
   "outputs": [
    {
     "data": {
      "text/html": [
       "<div>\n",
       "<style scoped>\n",
       "    .dataframe tbody tr th:only-of-type {\n",
       "        vertical-align: middle;\n",
       "    }\n",
       "\n",
       "    .dataframe tbody tr th {\n",
       "        vertical-align: top;\n",
       "    }\n",
       "\n",
       "    .dataframe thead th {\n",
       "        text-align: right;\n",
       "    }\n",
       "</style>\n",
       "<table border=\"1\" class=\"dataframe\">\n",
       "  <thead>\n",
       "    <tr style=\"text-align: right;\">\n",
       "      <th></th>\n",
       "      <th>Population</th>\n",
       "      <th>Murder and nonnegligent manslaughter rate</th>\n",
       "      <th>Legacy rape rate /1</th>\n",
       "      <th>Revised rape rate /2</th>\n",
       "      <th>Robbery rate</th>\n",
       "      <th>Aggravated assault rate</th>\n",
       "      <th>Burglary rate</th>\n",
       "      <th>Larceny-theft rate</th>\n",
       "      <th>Motor vehicle theft rate</th>\n",
       "      <th>Unemployment rate</th>\n",
       "      <th>Average Hourly Wage</th>\n",
       "    </tr>\n",
       "  </thead>\n",
       "  <tbody>\n",
       "    <tr>\n",
       "      <th>Population</th>\n",
       "      <td>1.00</td>\n",
       "      <td>0.06</td>\n",
       "      <td>-0.24</td>\n",
       "      <td>-0.23</td>\n",
       "      <td>0.16</td>\n",
       "      <td>0.02</td>\n",
       "      <td>0.07</td>\n",
       "      <td>-0.07</td>\n",
       "      <td>0.15</td>\n",
       "      <td>0.22</td>\n",
       "      <td>0.17</td>\n",
       "    </tr>\n",
       "    <tr>\n",
       "      <th>Murder and nonnegligent manslaughter rate</th>\n",
       "      <td>0.06</td>\n",
       "      <td>1.00</td>\n",
       "      <td>0.24</td>\n",
       "      <td>0.27</td>\n",
       "      <td>0.80</td>\n",
       "      <td>0.74</td>\n",
       "      <td>0.49</td>\n",
       "      <td>0.69</td>\n",
       "      <td>0.53</td>\n",
       "      <td>0.62</td>\n",
       "      <td>0.30</td>\n",
       "    </tr>\n",
       "    <tr>\n",
       "      <th>Legacy rape rate /1</th>\n",
       "      <td>-0.24</td>\n",
       "      <td>0.24</td>\n",
       "      <td>1.00</td>\n",
       "      <td>0.98</td>\n",
       "      <td>0.20</td>\n",
       "      <td>0.56</td>\n",
       "      <td>0.14</td>\n",
       "      <td>0.43</td>\n",
       "      <td>0.41</td>\n",
       "      <td>0.02</td>\n",
       "      <td>0.09</td>\n",
       "    </tr>\n",
       "    <tr>\n",
       "      <th>Revised rape rate /2</th>\n",
       "      <td>-0.23</td>\n",
       "      <td>0.27</td>\n",
       "      <td>0.98</td>\n",
       "      <td>1.00</td>\n",
       "      <td>0.21</td>\n",
       "      <td>0.59</td>\n",
       "      <td>0.17</td>\n",
       "      <td>0.44</td>\n",
       "      <td>0.42</td>\n",
       "      <td>0.08</td>\n",
       "      <td>0.09</td>\n",
       "    </tr>\n",
       "    <tr>\n",
       "      <th>Robbery rate</th>\n",
       "      <td>0.16</td>\n",
       "      <td>0.80</td>\n",
       "      <td>0.20</td>\n",
       "      <td>0.21</td>\n",
       "      <td>1.00</td>\n",
       "      <td>0.65</td>\n",
       "      <td>0.25</td>\n",
       "      <td>0.65</td>\n",
       "      <td>0.65</td>\n",
       "      <td>0.52</td>\n",
       "      <td>0.67</td>\n",
       "    </tr>\n",
       "    <tr>\n",
       "      <th>Aggravated assault rate</th>\n",
       "      <td>0.02</td>\n",
       "      <td>0.74</td>\n",
       "      <td>0.56</td>\n",
       "      <td>0.59</td>\n",
       "      <td>0.65</td>\n",
       "      <td>1.00</td>\n",
       "      <td>0.48</td>\n",
       "      <td>0.64</td>\n",
       "      <td>0.58</td>\n",
       "      <td>0.50</td>\n",
       "      <td>0.24</td>\n",
       "    </tr>\n",
       "    <tr>\n",
       "      <th>Burglary rate</th>\n",
       "      <td>0.07</td>\n",
       "      <td>0.49</td>\n",
       "      <td>0.14</td>\n",
       "      <td>0.17</td>\n",
       "      <td>0.25</td>\n",
       "      <td>0.48</td>\n",
       "      <td>1.00</td>\n",
       "      <td>0.55</td>\n",
       "      <td>0.46</td>\n",
       "      <td>0.50</td>\n",
       "      <td>-0.31</td>\n",
       "    </tr>\n",
       "    <tr>\n",
       "      <th>Larceny-theft rate</th>\n",
       "      <td>-0.07</td>\n",
       "      <td>0.69</td>\n",
       "      <td>0.43</td>\n",
       "      <td>0.44</td>\n",
       "      <td>0.65</td>\n",
       "      <td>0.64</td>\n",
       "      <td>0.55</td>\n",
       "      <td>1.00</td>\n",
       "      <td>0.72</td>\n",
       "      <td>0.33</td>\n",
       "      <td>0.29</td>\n",
       "    </tr>\n",
       "    <tr>\n",
       "      <th>Motor vehicle theft rate</th>\n",
       "      <td>0.15</td>\n",
       "      <td>0.53</td>\n",
       "      <td>0.41</td>\n",
       "      <td>0.42</td>\n",
       "      <td>0.65</td>\n",
       "      <td>0.58</td>\n",
       "      <td>0.46</td>\n",
       "      <td>0.72</td>\n",
       "      <td>1.00</td>\n",
       "      <td>0.37</td>\n",
       "      <td>0.39</td>\n",
       "    </tr>\n",
       "    <tr>\n",
       "      <th>Unemployment rate</th>\n",
       "      <td>0.22</td>\n",
       "      <td>0.62</td>\n",
       "      <td>0.02</td>\n",
       "      <td>0.08</td>\n",
       "      <td>0.52</td>\n",
       "      <td>0.50</td>\n",
       "      <td>0.50</td>\n",
       "      <td>0.33</td>\n",
       "      <td>0.37</td>\n",
       "      <td>1.00</td>\n",
       "      <td>0.24</td>\n",
       "    </tr>\n",
       "    <tr>\n",
       "      <th>Average Hourly Wage</th>\n",
       "      <td>0.17</td>\n",
       "      <td>0.30</td>\n",
       "      <td>0.09</td>\n",
       "      <td>0.09</td>\n",
       "      <td>0.67</td>\n",
       "      <td>0.24</td>\n",
       "      <td>-0.31</td>\n",
       "      <td>0.29</td>\n",
       "      <td>0.39</td>\n",
       "      <td>0.24</td>\n",
       "      <td>1.00</td>\n",
       "    </tr>\n",
       "  </tbody>\n",
       "</table>\n",
       "</div>"
      ],
      "text/plain": [
       "                                           Population  \\\n",
       "Population                                       1.00   \n",
       "Murder and nonnegligent manslaughter rate        0.06   \n",
       "Legacy rape rate /1                             -0.24   \n",
       "Revised rape rate /2                            -0.23   \n",
       "Robbery rate                                     0.16   \n",
       "Aggravated assault rate                          0.02   \n",
       "Burglary rate                                    0.07   \n",
       "Larceny-theft rate                              -0.07   \n",
       "Motor vehicle theft rate                         0.15   \n",
       "Unemployment rate                                0.22   \n",
       "Average Hourly Wage                              0.17   \n",
       "\n",
       "                                           Murder and nonnegligent manslaughter rate  \\\n",
       "Population                                                                      0.06   \n",
       "Murder and nonnegligent manslaughter rate                                       1.00   \n",
       "Legacy rape rate /1                                                             0.24   \n",
       "Revised rape rate /2                                                            0.27   \n",
       "Robbery rate                                                                    0.80   \n",
       "Aggravated assault rate                                                         0.74   \n",
       "Burglary rate                                                                   0.49   \n",
       "Larceny-theft rate                                                              0.69   \n",
       "Motor vehicle theft rate                                                        0.53   \n",
       "Unemployment rate                                                               0.62   \n",
       "Average Hourly Wage                                                             0.30   \n",
       "\n",
       "                                           Legacy rape rate /1  \\\n",
       "Population                                               -0.24   \n",
       "Murder and nonnegligent manslaughter rate                 0.24   \n",
       "Legacy rape rate /1                                       1.00   \n",
       "Revised rape rate /2                                      0.98   \n",
       "Robbery rate                                              0.20   \n",
       "Aggravated assault rate                                   0.56   \n",
       "Burglary rate                                             0.14   \n",
       "Larceny-theft rate                                        0.43   \n",
       "Motor vehicle theft rate                                  0.41   \n",
       "Unemployment rate                                         0.02   \n",
       "Average Hourly Wage                                       0.09   \n",
       "\n",
       "                                           Revised rape rate /2  Robbery rate  \\\n",
       "Population                                                -0.23          0.16   \n",
       "Murder and nonnegligent manslaughter rate                  0.27          0.80   \n",
       "Legacy rape rate /1                                        0.98          0.20   \n",
       "Revised rape rate /2                                       1.00          0.21   \n",
       "Robbery rate                                               0.21          1.00   \n",
       "Aggravated assault rate                                    0.59          0.65   \n",
       "Burglary rate                                              0.17          0.25   \n",
       "Larceny-theft rate                                         0.44          0.65   \n",
       "Motor vehicle theft rate                                   0.42          0.65   \n",
       "Unemployment rate                                          0.08          0.52   \n",
       "Average Hourly Wage                                        0.09          0.67   \n",
       "\n",
       "                                           Aggravated assault rate  \\\n",
       "Population                                                    0.02   \n",
       "Murder and nonnegligent manslaughter rate                     0.74   \n",
       "Legacy rape rate /1                                           0.56   \n",
       "Revised rape rate /2                                          0.59   \n",
       "Robbery rate                                                  0.65   \n",
       "Aggravated assault rate                                       1.00   \n",
       "Burglary rate                                                 0.48   \n",
       "Larceny-theft rate                                            0.64   \n",
       "Motor vehicle theft rate                                      0.58   \n",
       "Unemployment rate                                             0.50   \n",
       "Average Hourly Wage                                           0.24   \n",
       "\n",
       "                                           Burglary rate  Larceny-theft rate  \\\n",
       "Population                                          0.07               -0.07   \n",
       "Murder and nonnegligent manslaughter rate           0.49                0.69   \n",
       "Legacy rape rate /1                                 0.14                0.43   \n",
       "Revised rape rate /2                                0.17                0.44   \n",
       "Robbery rate                                        0.25                0.65   \n",
       "Aggravated assault rate                             0.48                0.64   \n",
       "Burglary rate                                       1.00                0.55   \n",
       "Larceny-theft rate                                  0.55                1.00   \n",
       "Motor vehicle theft rate                            0.46                0.72   \n",
       "Unemployment rate                                   0.50                0.33   \n",
       "Average Hourly Wage                                -0.31                0.29   \n",
       "\n",
       "                                           Motor vehicle theft rate  \\\n",
       "Population                                                     0.15   \n",
       "Murder and nonnegligent manslaughter rate                      0.53   \n",
       "Legacy rape rate /1                                            0.41   \n",
       "Revised rape rate /2                                           0.42   \n",
       "Robbery rate                                                   0.65   \n",
       "Aggravated assault rate                                        0.58   \n",
       "Burglary rate                                                  0.46   \n",
       "Larceny-theft rate                                             0.72   \n",
       "Motor vehicle theft rate                                       1.00   \n",
       "Unemployment rate                                              0.37   \n",
       "Average Hourly Wage                                            0.39   \n",
       "\n",
       "                                           Unemployment rate  \\\n",
       "Population                                              0.22   \n",
       "Murder and nonnegligent manslaughter rate               0.62   \n",
       "Legacy rape rate /1                                     0.02   \n",
       "Revised rape rate /2                                    0.08   \n",
       "Robbery rate                                            0.52   \n",
       "Aggravated assault rate                                 0.50   \n",
       "Burglary rate                                           0.50   \n",
       "Larceny-theft rate                                      0.33   \n",
       "Motor vehicle theft rate                                0.37   \n",
       "Unemployment rate                                       1.00   \n",
       "Average Hourly Wage                                     0.24   \n",
       "\n",
       "                                           Average Hourly Wage  \n",
       "Population                                                0.17  \n",
       "Murder and nonnegligent manslaughter rate                 0.30  \n",
       "Legacy rape rate /1                                       0.09  \n",
       "Revised rape rate /2                                      0.09  \n",
       "Robbery rate                                              0.67  \n",
       "Aggravated assault rate                                   0.24  \n",
       "Burglary rate                                            -0.31  \n",
       "Larceny-theft rate                                        0.29  \n",
       "Motor vehicle theft rate                                  0.39  \n",
       "Unemployment rate                                         0.24  \n",
       "Average Hourly Wage                                       1.00  "
      ]
     },
     "execution_count": 6,
     "metadata": {},
     "output_type": "execute_result"
    }
   ],
   "source": [
    "crimes.corr()"
   ]
  },
  {
   "cell_type": "markdown",
   "metadata": {},
   "source": [
    "Higher unemployment rate turns out to have a positive correlation with the rates of all different types of crime, which is not surprising as people tend to turn to illegal activities during financial hardships to support themselves."
   ]
  },
  {
   "cell_type": "markdown",
   "metadata": {},
   "source": [
    "#### 4.  You are asked to find similarities in the data (i.e. clusters).  What do you need to consider when choosing a clustering method?"
   ]
  },
  {
   "cell_type": "markdown",
   "metadata": {},
   "source": [
    "We must consider the varaible data types and what data transformations are required for the chosen clustering method, depending on the variable types."
   ]
  },
  {
   "cell_type": "markdown",
   "metadata": {},
   "source": [
    "#### 5. What preparation do you need to do to the data, if any?  Why or why not? (Hint: you should use the state name as the index for the dataframe)"
   ]
  },
  {
   "cell_type": "markdown",
   "metadata": {},
   "source": [
    "As mentioend in question 1, the scale of the variables are quite different so we will have to normalize the data set. We will use Z-score normalization."
   ]
  },
  {
   "cell_type": "code",
   "execution_count": 7,
   "metadata": {},
   "outputs": [],
   "source": [
    "crimes = crimes.set_index('State')"
   ]
  },
  {
   "cell_type": "code",
   "execution_count": 8,
   "metadata": {},
   "outputs": [
    {
     "data": {
      "text/html": [
       "<div>\n",
       "<style scoped>\n",
       "    .dataframe tbody tr th:only-of-type {\n",
       "        vertical-align: middle;\n",
       "    }\n",
       "\n",
       "    .dataframe tbody tr th {\n",
       "        vertical-align: top;\n",
       "    }\n",
       "\n",
       "    .dataframe thead th {\n",
       "        text-align: right;\n",
       "    }\n",
       "</style>\n",
       "<table border=\"1\" class=\"dataframe\">\n",
       "  <thead>\n",
       "    <tr style=\"text-align: right;\">\n",
       "      <th></th>\n",
       "      <th>Population</th>\n",
       "      <th>Murder and nonnegligent manslaughter rate</th>\n",
       "      <th>Legacy rape rate /1</th>\n",
       "      <th>Revised rape rate /2</th>\n",
       "      <th>Robbery rate</th>\n",
       "      <th>Aggravated assault rate</th>\n",
       "      <th>Burglary rate</th>\n",
       "      <th>Larceny-theft rate</th>\n",
       "      <th>Motor vehicle theft rate</th>\n",
       "      <th>Unemployment rate</th>\n",
       "      <th>Average Hourly Wage</th>\n",
       "    </tr>\n",
       "  </thead>\n",
       "  <tbody>\n",
       "    <tr>\n",
       "      <th>count</th>\n",
       "      <td>51.00</td>\n",
       "      <td>51.00</td>\n",
       "      <td>51.00</td>\n",
       "      <td>51.00</td>\n",
       "      <td>51.00</td>\n",
       "      <td>51.00</td>\n",
       "      <td>51.00</td>\n",
       "      <td>51.00</td>\n",
       "      <td>51.00</td>\n",
       "      <td>51.00</td>\n",
       "      <td>51.00</td>\n",
       "    </tr>\n",
       "    <tr>\n",
       "      <th>mean</th>\n",
       "      <td>-0.00</td>\n",
       "      <td>-0.00</td>\n",
       "      <td>0.00</td>\n",
       "      <td>0.00</td>\n",
       "      <td>0.00</td>\n",
       "      <td>0.00</td>\n",
       "      <td>0.00</td>\n",
       "      <td>-0.00</td>\n",
       "      <td>-0.00</td>\n",
       "      <td>0.00</td>\n",
       "      <td>0.00</td>\n",
       "    </tr>\n",
       "    <tr>\n",
       "      <th>std</th>\n",
       "      <td>1.01</td>\n",
       "      <td>1.01</td>\n",
       "      <td>1.01</td>\n",
       "      <td>1.01</td>\n",
       "      <td>1.01</td>\n",
       "      <td>1.01</td>\n",
       "      <td>1.01</td>\n",
       "      <td>1.01</td>\n",
       "      <td>1.01</td>\n",
       "      <td>1.01</td>\n",
       "      <td>1.01</td>\n",
       "    </tr>\n",
       "    <tr>\n",
       "      <th>min</th>\n",
       "      <td>-0.80</td>\n",
       "      <td>-1.36</td>\n",
       "      <td>-1.66</td>\n",
       "      <td>-1.73</td>\n",
       "      <td>-1.07</td>\n",
       "      <td>-1.50</td>\n",
       "      <td>-1.50</td>\n",
       "      <td>-1.49</td>\n",
       "      <td>-1.66</td>\n",
       "      <td>-2.10</td>\n",
       "      <td>-1.29</td>\n",
       "    </tr>\n",
       "    <tr>\n",
       "      <th>25%</th>\n",
       "      <td>-0.64</td>\n",
       "      <td>-0.74</td>\n",
       "      <td>-0.69</td>\n",
       "      <td>-0.69</td>\n",
       "      <td>-0.51</td>\n",
       "      <td>-0.73</td>\n",
       "      <td>-0.85</td>\n",
       "      <td>-0.71</td>\n",
       "      <td>-0.67</td>\n",
       "      <td>-0.74</td>\n",
       "      <td>-0.67</td>\n",
       "    </tr>\n",
       "    <tr>\n",
       "      <th>50%</th>\n",
       "      <td>-0.26</td>\n",
       "      <td>-0.12</td>\n",
       "      <td>-0.20</td>\n",
       "      <td>-0.21</td>\n",
       "      <td>-0.08</td>\n",
       "      <td>-0.11</td>\n",
       "      <td>-0.33</td>\n",
       "      <td>-0.03</td>\n",
       "      <td>-0.00</td>\n",
       "      <td>0.05</td>\n",
       "      <td>-0.24</td>\n",
       "    </tr>\n",
       "    <tr>\n",
       "      <th>75%</th>\n",
       "      <td>0.09</td>\n",
       "      <td>0.52</td>\n",
       "      <td>0.48</td>\n",
       "      <td>0.42</td>\n",
       "      <td>0.29</td>\n",
       "      <td>0.43</td>\n",
       "      <td>0.94</td>\n",
       "      <td>0.63</td>\n",
       "      <td>0.45</td>\n",
       "      <td>0.90</td>\n",
       "      <td>0.49</td>\n",
       "    </tr>\n",
       "    <tr>\n",
       "      <th>max</th>\n",
       "      <td>4.61</td>\n",
       "      <td>4.65</td>\n",
       "      <td>4.09</td>\n",
       "      <td>4.25</td>\n",
       "      <td>5.93</td>\n",
       "      <td>3.62</td>\n",
       "      <td>2.00</td>\n",
       "      <td>4.59</td>\n",
       "      <td>3.84</td>\n",
       "      <td>1.74</td>\n",
       "      <td>4.70</td>\n",
       "    </tr>\n",
       "  </tbody>\n",
       "</table>\n",
       "</div>"
      ],
      "text/plain": [
       "       Population  Murder and nonnegligent manslaughter rate  \\\n",
       "count       51.00                                      51.00   \n",
       "mean        -0.00                                      -0.00   \n",
       "std          1.01                                       1.01   \n",
       "min         -0.80                                      -1.36   \n",
       "25%         -0.64                                      -0.74   \n",
       "50%         -0.26                                      -0.12   \n",
       "75%          0.09                                       0.52   \n",
       "max          4.61                                       4.65   \n",
       "\n",
       "       Legacy rape rate /1  Revised rape rate /2  Robbery rate  \\\n",
       "count                51.00                 51.00         51.00   \n",
       "mean                  0.00                  0.00          0.00   \n",
       "std                   1.01                  1.01          1.01   \n",
       "min                  -1.66                 -1.73         -1.07   \n",
       "25%                  -0.69                 -0.69         -0.51   \n",
       "50%                  -0.20                 -0.21         -0.08   \n",
       "75%                   0.48                  0.42          0.29   \n",
       "max                   4.09                  4.25          5.93   \n",
       "\n",
       "       Aggravated assault rate  Burglary rate  Larceny-theft rate  \\\n",
       "count                    51.00          51.00               51.00   \n",
       "mean                      0.00           0.00               -0.00   \n",
       "std                       1.01           1.01                1.01   \n",
       "min                      -1.50          -1.50               -1.49   \n",
       "25%                      -0.73          -0.85               -0.71   \n",
       "50%                      -0.11          -0.33               -0.03   \n",
       "75%                       0.43           0.94                0.63   \n",
       "max                       3.62           2.00                4.59   \n",
       "\n",
       "       Motor vehicle theft rate  Unemployment rate  Average Hourly Wage  \n",
       "count                     51.00              51.00                51.00  \n",
       "mean                      -0.00               0.00                 0.00  \n",
       "std                        1.01               1.01                 1.01  \n",
       "min                       -1.66              -2.10                -1.29  \n",
       "25%                       -0.67              -0.74                -0.67  \n",
       "50%                       -0.00               0.05                -0.24  \n",
       "75%                        0.45               0.90                 0.49  \n",
       "max                        3.84               1.74                 4.70  "
      ]
     },
     "execution_count": 8,
     "metadata": {},
     "output_type": "execute_result"
    }
   ],
   "source": [
    "from sklearn.preprocessing import StandardScaler\n",
    "crimes_num_z = pd.DataFrame(StandardScaler().fit_transform(crimes), columns = crimes.columns, index = crimes.index)\n",
    "crimes_num_z.describe()\n",
    "#code borrowed from Professor Cannon."
   ]
  },
  {
   "cell_type": "markdown",
   "metadata": {},
   "source": [
    "#### 6. Perform a clusturing analysis using Kmeans.  How many clusters did you \"find\"? "
   ]
  },
  {
   "cell_type": "markdown",
   "metadata": {},
   "source": [
    "Let's start with K=3 and see what result it yields. We will use unemployment rate as x and murder rate as y since one of the questions I want to explore is the relationship between unemployment rate and crime rates. When using unemployment rate as the independent variable, murder rate has the highest correlation of 0.62 as seen above in question 3."
   ]
  },
  {
   "cell_type": "code",
   "execution_count": 9,
   "metadata": {},
   "outputs": [],
   "source": [
    "import matplotlib.pyplot as plt\n",
    "from sklearn.cluster import KMeans\n",
    "crimes_km = KMeans(n_clusters = 3, random_state = 1234)\n",
    "kmeans_out = crimes_km.fit_predict(crimes_num_z)\n",
    "#code borrowed from Professor Cannon."
   ]
  },
  {
   "cell_type": "code",
   "execution_count": 10,
   "metadata": {},
   "outputs": [
    {
     "data": {
      "text/html": [
       "<div>\n",
       "<style scoped>\n",
       "    .dataframe tbody tr th:only-of-type {\n",
       "        vertical-align: middle;\n",
       "    }\n",
       "\n",
       "    .dataframe tbody tr th {\n",
       "        vertical-align: top;\n",
       "    }\n",
       "\n",
       "    .dataframe thead th {\n",
       "        text-align: right;\n",
       "    }\n",
       "</style>\n",
       "<table border=\"1\" class=\"dataframe\">\n",
       "  <thead>\n",
       "    <tr style=\"text-align: right;\">\n",
       "      <th></th>\n",
       "      <th>Population</th>\n",
       "      <th>Murder and nonnegligent manslaughter rate</th>\n",
       "      <th>Legacy rape rate /1</th>\n",
       "      <th>Revised rape rate /2</th>\n",
       "      <th>Robbery rate</th>\n",
       "      <th>Aggravated assault rate</th>\n",
       "      <th>Burglary rate</th>\n",
       "      <th>Larceny-theft rate</th>\n",
       "      <th>Motor vehicle theft rate</th>\n",
       "      <th>Unemployment rate</th>\n",
       "      <th>Average Hourly Wage</th>\n",
       "      <th>kmeans</th>\n",
       "    </tr>\n",
       "    <tr>\n",
       "      <th>State</th>\n",
       "      <th></th>\n",
       "      <th></th>\n",
       "      <th></th>\n",
       "      <th></th>\n",
       "      <th></th>\n",
       "      <th></th>\n",
       "      <th></th>\n",
       "      <th></th>\n",
       "      <th></th>\n",
       "      <th></th>\n",
       "      <th></th>\n",
       "      <th></th>\n",
       "    </tr>\n",
       "  </thead>\n",
       "  <tbody>\n",
       "    <tr>\n",
       "      <th>Alabama</th>\n",
       "      <td>4849377</td>\n",
       "      <td>5.70</td>\n",
       "      <td>29.60</td>\n",
       "      <td>41.30</td>\n",
       "      <td>96.90</td>\n",
       "      <td>283.40</td>\n",
       "      <td>819.00</td>\n",
       "      <td>2149.50</td>\n",
       "      <td>209.10</td>\n",
       "      <td>6.10</td>\n",
       "      <td>19.66</td>\n",
       "      <td>0</td>\n",
       "    </tr>\n",
       "    <tr>\n",
       "      <th>Alaska</th>\n",
       "      <td>736732</td>\n",
       "      <td>5.60</td>\n",
       "      <td>75.30</td>\n",
       "      <td>104.70</td>\n",
       "      <td>85.40</td>\n",
       "      <td>440.20</td>\n",
       "      <td>427.60</td>\n",
       "      <td>2096.40</td>\n",
       "      <td>236.00</td>\n",
       "      <td>6.50</td>\n",
       "      <td>25.98</td>\n",
       "      <td>0</td>\n",
       "    </tr>\n",
       "    <tr>\n",
       "      <th>Arizona</th>\n",
       "      <td>6731484</td>\n",
       "      <td>4.70</td>\n",
       "      <td>36.60</td>\n",
       "      <td>50.20</td>\n",
       "      <td>92.80</td>\n",
       "      <td>252.10</td>\n",
       "      <td>647.10</td>\n",
       "      <td>2289.10</td>\n",
       "      <td>261.30</td>\n",
       "      <td>6.10</td>\n",
       "      <td>21.43</td>\n",
       "      <td>0</td>\n",
       "    </tr>\n",
       "    <tr>\n",
       "      <th>Arkansas</th>\n",
       "      <td>2966369</td>\n",
       "      <td>5.60</td>\n",
       "      <td>39.80</td>\n",
       "      <td>59.40</td>\n",
       "      <td>69.10</td>\n",
       "      <td>346.00</td>\n",
       "      <td>835.70</td>\n",
       "      <td>2313.50</td>\n",
       "      <td>188.80</td>\n",
       "      <td>5.00</td>\n",
       "      <td>18.24</td>\n",
       "      <td>0</td>\n",
       "    </tr>\n",
       "    <tr>\n",
       "      <th>California</th>\n",
       "      <td>38802500</td>\n",
       "      <td>4.40</td>\n",
       "      <td>21.60</td>\n",
       "      <td>29.70</td>\n",
       "      <td>125.50</td>\n",
       "      <td>236.60</td>\n",
       "      <td>522.30</td>\n",
       "      <td>1527.40</td>\n",
       "      <td>391.30</td>\n",
       "      <td>6.20</td>\n",
       "      <td>25.91</td>\n",
       "      <td>0</td>\n",
       "    </tr>\n",
       "  </tbody>\n",
       "</table>\n",
       "</div>"
      ],
      "text/plain": [
       "            Population  Murder and nonnegligent manslaughter rate  \\\n",
       "State                                                               \n",
       "Alabama        4849377                                       5.70   \n",
       "Alaska          736732                                       5.60   \n",
       "Arizona        6731484                                       4.70   \n",
       "Arkansas       2966369                                       5.60   \n",
       "California    38802500                                       4.40   \n",
       "\n",
       "            Legacy rape rate /1  Revised rape rate /2  Robbery rate  \\\n",
       "State                                                                 \n",
       "Alabama                   29.60                 41.30         96.90   \n",
       "Alaska                    75.30                104.70         85.40   \n",
       "Arizona                   36.60                 50.20         92.80   \n",
       "Arkansas                  39.80                 59.40         69.10   \n",
       "California                21.60                 29.70        125.50   \n",
       "\n",
       "            Aggravated assault rate  Burglary rate  Larceny-theft rate  \\\n",
       "State                                                                    \n",
       "Alabama                      283.40         819.00             2149.50   \n",
       "Alaska                       440.20         427.60             2096.40   \n",
       "Arizona                      252.10         647.10             2289.10   \n",
       "Arkansas                     346.00         835.70             2313.50   \n",
       "California                   236.60         522.30             1527.40   \n",
       "\n",
       "            Motor vehicle theft rate  Unemployment rate  Average Hourly Wage  \\\n",
       "State                                                                          \n",
       "Alabama                       209.10               6.10                19.66   \n",
       "Alaska                        236.00               6.50                25.98   \n",
       "Arizona                       261.30               6.10                21.43   \n",
       "Arkansas                      188.80               5.00                18.24   \n",
       "California                    391.30               6.20                25.91   \n",
       "\n",
       "            kmeans  \n",
       "State               \n",
       "Alabama          0  \n",
       "Alaska           0  \n",
       "Arizona          0  \n",
       "Arkansas         0  \n",
       "California       0  "
      ]
     },
     "execution_count": 10,
     "metadata": {},
     "output_type": "execute_result"
    }
   ],
   "source": [
    "crimes = crimes.assign(kmeans=crimes_km.labels_)\n",
    "crimes.head(5)"
   ]
  },
  {
   "cell_type": "code",
   "execution_count": 11,
   "metadata": {
    "scrolled": true
   },
   "outputs": [
    {
     "data": {
      "image/png": "[encoded data removed]",
      "text/plain": [
       "<Figure size 432x288 with 1 Axes>"
      ]
     },
     "metadata": {
      "needs_background": "light"
     },
     "output_type": "display_data"
    }
   ],
   "source": [
    "plt.scatter(crimes_num_z['Unemployment rate'], crimes_num_z['Murder and nonnegligent manslaughter rate'], c=crimes.kmeans)\n",
    "plt.scatter(crimes_km.cluster_centers_[:, 0], crimes_km.cluster_centers_[:, 1], c='red', s=50)\n",
    "plt.show()\n",
    "#code borrowed from Professor Cannon."
   ]
  },
  {
   "cell_type": "code",
   "execution_count": 12,
   "metadata": {},
   "outputs": [
    {
     "data": {
      "text/html": [
       "<div>\n",
       "<style scoped>\n",
       "    .dataframe tbody tr th:only-of-type {\n",
       "        vertical-align: middle;\n",
       "    }\n",
       "\n",
       "    .dataframe tbody tr th {\n",
       "        vertical-align: top;\n",
       "    }\n",
       "\n",
       "    .dataframe thead th {\n",
       "        text-align: right;\n",
       "    }\n",
       "</style>\n",
       "<table border=\"1\" class=\"dataframe\">\n",
       "  <thead>\n",
       "    <tr style=\"text-align: right;\">\n",
       "      <th></th>\n",
       "      <th>Population</th>\n",
       "      <th>Murder and nonnegligent manslaughter rate</th>\n",
       "      <th>Legacy rape rate /1</th>\n",
       "      <th>Revised rape rate /2</th>\n",
       "      <th>Robbery rate</th>\n",
       "      <th>Aggravated assault rate</th>\n",
       "      <th>Burglary rate</th>\n",
       "      <th>Larceny-theft rate</th>\n",
       "      <th>Motor vehicle theft rate</th>\n",
       "      <th>Unemployment rate</th>\n",
       "      <th>Average Hourly Wage</th>\n",
       "    </tr>\n",
       "    <tr>\n",
       "      <th>kmeans</th>\n",
       "      <th></th>\n",
       "      <th></th>\n",
       "      <th></th>\n",
       "      <th></th>\n",
       "      <th></th>\n",
       "      <th></th>\n",
       "      <th></th>\n",
       "      <th></th>\n",
       "      <th></th>\n",
       "      <th></th>\n",
       "      <th></th>\n",
       "    </tr>\n",
       "  </thead>\n",
       "  <tbody>\n",
       "    <tr>\n",
       "      <th>0</th>\n",
       "      <td>8779576.57</td>\n",
       "      <td>5.60</td>\n",
       "      <td>32.83</td>\n",
       "      <td>45.77</td>\n",
       "      <td>104.88</td>\n",
       "      <td>294.23</td>\n",
       "      <td>704.37</td>\n",
       "      <td>2099.33</td>\n",
       "      <td>243.91</td>\n",
       "      <td>5.68</td>\n",
       "      <td>21.13</td>\n",
       "    </tr>\n",
       "    <tr>\n",
       "      <th>1</th>\n",
       "      <td>4614726.03</td>\n",
       "      <td>2.96</td>\n",
       "      <td>26.05</td>\n",
       "      <td>35.62</td>\n",
       "      <td>62.21</td>\n",
       "      <td>170.95</td>\n",
       "      <td>399.09</td>\n",
       "      <td>1638.62</td>\n",
       "      <td>155.26</td>\n",
       "      <td>4.52</td>\n",
       "      <td>22.08</td>\n",
       "    </tr>\n",
       "    <tr>\n",
       "      <th>2</th>\n",
       "      <td>658893.00</td>\n",
       "      <td>15.90</td>\n",
       "      <td>53.40</td>\n",
       "      <td>71.60</td>\n",
       "      <td>530.70</td>\n",
       "      <td>626.10</td>\n",
       "      <td>526.00</td>\n",
       "      <td>4082.30</td>\n",
       "      <td>574.10</td>\n",
       "      <td>6.90</td>\n",
       "      <td>37.78</td>\n",
       "    </tr>\n",
       "  </tbody>\n",
       "</table>\n",
       "</div>"
      ],
      "text/plain": [
       "        Population  Murder and nonnegligent manslaughter rate  \\\n",
       "kmeans                                                          \n",
       "0       8779576.57                                       5.60   \n",
       "1       4614726.03                                       2.96   \n",
       "2        658893.00                                      15.90   \n",
       "\n",
       "        Legacy rape rate /1  Revised rape rate /2  Robbery rate  \\\n",
       "kmeans                                                            \n",
       "0                     32.83                 45.77        104.88   \n",
       "1                     26.05                 35.62         62.21   \n",
       "2                     53.40                 71.60        530.70   \n",
       "\n",
       "        Aggravated assault rate  Burglary rate  Larceny-theft rate  \\\n",
       "kmeans                                                               \n",
       "0                        294.23         704.37             2099.33   \n",
       "1                        170.95         399.09             1638.62   \n",
       "2                        626.10         526.00             4082.30   \n",
       "\n",
       "        Motor vehicle theft rate  Unemployment rate  Average Hourly Wage  \n",
       "kmeans                                                                    \n",
       "0                         243.91               5.68                21.13  \n",
       "1                         155.26               4.52                22.08  \n",
       "2                         574.10               6.90                37.78  "
      ]
     },
     "execution_count": 12,
     "metadata": {},
     "output_type": "execute_result"
    }
   ],
   "source": [
    "crimes.groupby(\"kmeans\").mean()"
   ]
  },
  {
   "cell_type": "markdown",
   "metadata": {},
   "source": [
    "#### 7. Is that the right number of clusters?  How do you know?  Describe the quality of the clusters - be specific. "
   ]
  },
  {
   "cell_type": "markdown",
   "metadata": {},
   "source": [
    "For this question, we will examine two values to find the \"right\" number of clusters K; the within sum of squares and between sum of squares."
   ]
  },
  {
   "cell_type": "markdown",
   "metadata": {},
   "source": [
    "Objective with withinss: Must minimize."
   ]
  },
  {
   "cell_type": "code",
   "execution_count": 13,
   "metadata": {},
   "outputs": [
    {
     "name": "stdout",
     "output_type": "stream",
     "text": [
      "298.95634925917017\n"
     ]
    }
   ],
   "source": [
    "withinss = crimes_km.inertia_\n",
    "print(withinss)\n",
    "#code borrowed from Professor Cannon."
   ]
  },
  {
   "cell_type": "markdown",
   "metadata": {},
   "source": [
    "Objective with betweenss: Must maximize."
   ]
  },
  {
   "cell_type": "code",
   "execution_count": 14,
   "metadata": {},
   "outputs": [
    {
     "name": "stdout",
     "output_type": "stream",
     "text": [
      "262.04365074083\n"
     ]
    }
   ],
   "source": [
    "def getBetweenss(data, kmeans_clusters):\n",
    "    betweenss = 0\n",
    "    mean = data.mean()\n",
    "    for i in np.arange(len(data)):\n",
    "        betweenss += np.sum((kmeans_clusters.cluster_centers_[kmeans_clusters.labels_[i]]-mean)**2)\n",
    "    return betweenss\n",
    "betweenss = getBetweenss(crimes_num_z, crimes_km)\n",
    "print(betweenss)\n",
    "#code borrowed from Professor Cannon."
   ]
  },
  {
   "cell_type": "markdown",
   "metadata": {},
   "source": [
    "Silhouette analysis:"
   ]
  },
  {
   "cell_type": "code",
   "execution_count": 15,
   "metadata": {},
   "outputs": [],
   "source": [
    "#adapted from sklearn documentation: https://scikit-learn.org/stable/auto_examples/cluster/plot_kmeans_silhouette_analysis.html\n",
    "def silhouette_chart(sample_silhouette_values, n_clusters):\n",
    "    y_lower = 10\n",
    "   \n",
    "    for i in range(n_clusters):\n",
    "        # Aggregate the silhouette scores for samples belonging to\n",
    "        # cluster i, and sort them\n",
    "        ith_cluster_silhouette_values = sample_silhouette_values[cluster_labels == i]\n",
    "        ith_cluster_silhouette_values.sort()\n",
    "\n",
    "        size_cluster_i = ith_cluster_silhouette_values.shape[0]\n",
    "        y_upper = y_lower + size_cluster_i\n",
    "\n",
    "        color = cm.nipy_spectral(float(i) / n_clusters)\n",
    "        plt.fill_betweenx(np.arange(y_lower, y_upper), 0, ith_cluster_silhouette_values,\n",
    "                          facecolor=color, edgecolor=color, alpha=0.7)\n",
    "\n",
    "        # Label the silhouette plots with their cluster numbers at the middle\n",
    "        plt.text(-0.05, y_lower + 0.5 * size_cluster_i, str(i))\n",
    "\n",
    "        # Compute the new y_lower for next plot\n",
    "        y_lower = y_upper + 10  # 10 for the 0 samples\n",
    "        \n",
    "    plt.title(\"The silhouette plot for the various clusters.\")\n",
    "    plt.xlabel(\"The silhouette coefficient values\")\n",
    "    plt.ylabel(\"Cluster label\")\n",
    "\n",
    "    # The vertical line for average silhouette score of all the values\n",
    "    plt.axvline(x=silhouette_avg, color=\"red\", linestyle=\"--\")\n",
    "    plt.show()"
   ]
  },
  {
   "cell_type": "code",
   "execution_count": 16,
   "metadata": {
    "scrolled": false
   },
   "outputs": [
    {
     "name": "stdout",
     "output_type": "stream",
     "text": [
      "For n_clusters = 2 The average silhouette_score is : 0.26206849148021655\n"
     ]
    },
    {
     "data": {
      "image/png": "[encoded data removed]",
      "text/plain": [
       "<Figure size 432x288 with 1 Axes>"
      ]
     },
     "metadata": {
      "needs_background": "light"
     },
     "output_type": "display_data"
    },
    {
     "name": "stdout",
     "output_type": "stream",
     "text": [
      "For n_clusters = 3 The average silhouette_score is : 0.2502459949407346\n"
     ]
    },
    {
     "data": {
      "image/png": "[encoded data removed]",
      "text/plain": [
       "<Figure size 432x288 with 1 Axes>"
      ]
     },
     "metadata": {
      "needs_background": "light"
     },
     "output_type": "display_data"
    },
    {
     "name": "stdout",
     "output_type": "stream",
     "text": [
      "For n_clusters = 4 The average silhouette_score is : 0.21106411959965726\n"
     ]
    },
    {
     "data": {
      "image/png": "[encoded data removed]",
      "text/plain": [
       "<Figure size 432x288 with 1 Axes>"
      ]
     },
     "metadata": {
      "needs_background": "light"
     },
     "output_type": "display_data"
    },
    {
     "name": "stdout",
     "output_type": "stream",
     "text": [
      "For n_clusters = 5 The average silhouette_score is : 0.21848109278494326\n"
     ]
    },
    {
     "data": {
      "image/png": "[encoded data removed]",
      "text/plain": [
       "<Figure size 432x288 with 1 Axes>"
      ]
     },
     "metadata": {
      "needs_background": "light"
     },
     "output_type": "display_data"
    },
    {
     "name": "stdout",
     "output_type": "stream",
     "text": [
      "For n_clusters = 6 The average silhouette_score is : 0.22484966770069673\n"
     ]
    },
    {
     "data": {
      "image/png": "[encoded data removed]",
      "text/plain": [
       "<Figure size 432x288 with 1 Axes>"
      ]
     },
     "metadata": {
      "needs_background": "light"
     },
     "output_type": "display_data"
    },
    {
     "name": "stdout",
     "output_type": "stream",
     "text": [
      "For n_clusters = 7 The average silhouette_score is : 0.20798047615809975\n"
     ]
    },
    {
     "data": {
      "image/png": "[encoded data removed]",
      "text/plain": [
       "<Figure size 432x288 with 1 Axes>"
      ]
     },
     "metadata": {
      "needs_background": "light"
     },
     "output_type": "display_data"
    },
    {
     "name": "stdout",
     "output_type": "stream",
     "text": [
      "For n_clusters = 8 The average silhouette_score is : 0.17565311988450286\n"
     ]
    },
    {
     "data": {
      "image/png": "[encoded data removed]",
      "text/plain": [
       "<Figure size 432x288 with 1 Axes>"
      ]
     },
     "metadata": {
      "needs_background": "light"
     },
     "output_type": "display_data"
    },
    {
     "name": "stdout",
     "output_type": "stream",
     "text": [
      "For n_clusters = 9 The average silhouette_score is : 0.16386403481240205\n"
     ]
    },
    {
     "data": {
      "image/png": "[encoded data removed]",
      "text/plain": [
       "<Figure size 432x288 with 1 Axes>"
      ]
     },
     "metadata": {
      "needs_background": "light"
     },
     "output_type": "display_data"
    },
    {
     "name": "stdout",
     "output_type": "stream",
     "text": [
      "For n_clusters = 10 The average silhouette_score is : 0.17369783359976151\n"
     ]
    },
    {
     "data": {
      "image/png": "[encoded data removed]",
      "text/plain": [
       "<Figure size 432x288 with 1 Axes>"
      ]
     },
     "metadata": {
      "needs_background": "light"
     },
     "output_type": "display_data"
    }
   ],
   "source": [
    "from sklearn.metrics import silhouette_samples, silhouette_score\n",
    "import matplotlib.cm as cm\n",
    "for n_clusters in range(2,11):\n",
    "    clusterer = KMeans(n_clusters=n_clusters, random_state=10)\n",
    "    cluster_labels = clusterer.fit_predict(crimes_num_z)\n",
    "\n",
    "    # The silhouette_score gives the average value for all the samples.\n",
    "    # This gives a perspective into the density and separation of the formed\n",
    "    # clusters\n",
    "    silhouette_avg = silhouette_score(crimes_num_z, cluster_labels)\n",
    "    print(\"For n_clusters =\", n_clusters,\n",
    "          \"The average silhouette_score is :\", silhouette_avg)\n",
    "    sample_silhouette_values = silhouette_samples(crimes_num_z, cluster_labels)\n",
    "    silhouette_chart(sample_silhouette_values, n_clusters)\n",
    "    \n",
    "#code borrowed from Professor Cannon."
   ]
  },
  {
   "cell_type": "markdown",
   "metadata": {},
   "source": [
    "The silhouette coefficient is highest when K = 2 at 0.26."
   ]
  },
  {
   "cell_type": "code",
   "execution_count": 17,
   "metadata": {},
   "outputs": [],
   "source": [
    "np.random.seed(123)\n",
    "\n",
    "crimes_km2 = KMeans(n_clusters = 2).fit(crimes_num_z)\n",
    "crimes_km3 = KMeans(n_clusters = 3).fit(crimes_num_z)\n",
    "crimes_km4 = KMeans(n_clusters = 4).fit(crimes_num_z)\n",
    "crimes_km5 = KMeans(n_clusters = 5).fit(crimes_num_z)\n",
    "crimes_km6 = KMeans(n_clusters = 6).fit(crimes_num_z)\n",
    "crimes_km7 = KMeans(n_clusters = 7).fit(crimes_num_z)\n",
    "\n",
    "#code borrowed from Professor Cannon."
   ]
  },
  {
   "cell_type": "markdown",
   "metadata": {},
   "source": [
    "Cluster separation:"
   ]
  },
  {
   "cell_type": "code",
   "execution_count": 18,
   "metadata": {},
   "outputs": [
    {
     "name": "stdout",
     "output_type": "stream",
     "text": [
      "[0.26046434016383785, 0.46710098171270925, 0.5517624945344107, 0.6220724153003406, 0.67283744615588, 0.7033582059228983]\n"
     ]
    }
   ],
   "source": [
    "clusters2 = getBetweenss(crimes_num_z, crimes_km2)/(getBetweenss(crimes_num_z, crimes_km2) + crimes_km2.inertia_)\n",
    "clusters3 = getBetweenss(crimes_num_z, crimes_km3)/(getBetweenss(crimes_num_z, crimes_km3) + crimes_km3.inertia_)\n",
    "clusters4 = getBetweenss(crimes_num_z, crimes_km4)/(getBetweenss(crimes_num_z, crimes_km4) + crimes_km4.inertia_)\n",
    "clusters5 = getBetweenss(crimes_num_z, crimes_km5)/(getBetweenss(crimes_num_z, crimes_km5) + crimes_km5.inertia_)\n",
    "clusters6 = getBetweenss(crimes_num_z, crimes_km6)/(getBetweenss(crimes_num_z, crimes_km6) + crimes_km6.inertia_)\n",
    "clusters7 = getBetweenss(crimes_num_z, crimes_km7)/(getBetweenss(crimes_num_z, crimes_km7) + crimes_km7.inertia_)\n",
    "\n",
    "betweenss_metric = [clusters2, clusters3, clusters4, clusters5, clusters6, clusters7]\n",
    "print(betweenss_metric)\n",
    "\n",
    "#code borrowed from Professor Cannon."
   ]
  },
  {
   "cell_type": "markdown",
   "metadata": {},
   "source": [
    "Cluster separation is highest at K=7, at least in this sample. It seems to keep increasing as K increases."
   ]
  },
  {
   "cell_type": "markdown",
   "metadata": {},
   "source": [
    "Cluster cohesion:"
   ]
  },
  {
   "cell_type": "code",
   "execution_count": 19,
   "metadata": {},
   "outputs": [
    {
     "name": "stdout",
     "output_type": "stream",
     "text": [
      "[0.7395356598361621, 0.5328990182872906, 0.4482375054655894, 0.3779275846996594, 0.32716255384412, 0.2966417940771016]\n"
     ]
    }
   ],
   "source": [
    "clusters2 = crimes_km2.inertia_/(getBetweenss(crimes_num_z, crimes_km2) + crimes_km2.inertia_)\n",
    "clusters3 = crimes_km3.inertia_/(getBetweenss(crimes_num_z, crimes_km3) + crimes_km3.inertia_)\n",
    "clusters4 = crimes_km4.inertia_/(getBetweenss(crimes_num_z, crimes_km4) + crimes_km4.inertia_)\n",
    "clusters5 = crimes_km5.inertia_/(getBetweenss(crimes_num_z, crimes_km5) + crimes_km5.inertia_)\n",
    "clusters6 = crimes_km6.inertia_/(getBetweenss(crimes_num_z, crimes_km6) + crimes_km6.inertia_)\n",
    "clusters7 = crimes_km7.inertia_/(getBetweenss(crimes_num_z, crimes_km7) + crimes_km7.inertia_)\n",
    "\n",
    "totwithinss_metric = [clusters2, clusters3, clusters4, clusters5, clusters6, clusters7]\n",
    "print(totwithinss_metric) #Looking for a ratio that is closer to 0. \n",
    "\n",
    "#code borrowed from Professor Cannon."
   ]
  },
  {
   "cell_type": "markdown",
   "metadata": {},
   "source": [
    "Cluster cohesion is highest at K=2. \n",
    "\n",
    "Based on the silhouette analysis and the betweenss & withinss ratios, K=2 is the \"right\" number of clusters since silhouette coefficient indicates how far away the sample is from neighboring clusters, which is highest at K=2, and cluster cohesion is also highest at K=2. However, cluster separation ratio seems to suggest that a higher number of clusters can result in more distance between clusters."
   ]
  },
  {
   "cell_type": "markdown",
   "metadata": {},
   "source": [
    "#### 8. Describe the characteristics of each cluster.  What do they have in common?  What is different about them?"
   ]
  },
  {
   "cell_type": "markdown",
   "metadata": {},
   "source": [
    "Most data points in the clusters seem to be in assigned to the correct cluster, although the silhouette analysis suggests that there are some data points that are assigned to the wrong clusters. That might be why the cluster separation ratio seems to improve with increasing number of clusters, because if some data points are assigned to the wrong clusters, just separating them into smaller clusters may increase the distance between clusters. It's also evident that some clusters have much more data points than others as can be observed in the silhouette plot for when K=10."
   ]
  },
  {
   "cell_type": "markdown",
   "metadata": {},
   "source": [
    "#### 9. Investigate the members of each cluster.  Given the description of your clusters above, do any of the cluster assignments seem surprising?  Why or why not?"
   ]
  },
  {
   "cell_type": "markdown",
   "metadata": {},
   "source": [
    "No, it is not surprising because we were already able to anticipate that states with higher unemployment rates also have higher crime rates overall as seen in the correlation table."
   ]
  },
  {
   "cell_type": "markdown",
   "metadata": {},
   "source": [
    "#### 10. Look for the same number of clusters using Kmediods. How do the clusters compare to Kmeans? Do any of the differences surprise you?"
   ]
  },
  {
   "cell_type": "markdown",
   "metadata": {},
   "source": [
    "Since we concluded that K=2 is the \"correct\" number of clusters when using K mean, we'll set K as 2 for this analysis."
   ]
  },
  {
   "cell_type": "code",
   "execution_count": 22,
   "metadata": {},
   "outputs": [
    {
     "data": {
      "image/png": "[encoded data removed]",
      "text/plain": [
       "<Figure size 432x288 with 1 Axes>"
      ]
     },
     "metadata": {
      "needs_background": "light"
     },
     "output_type": "display_data"
    }
   ],
   "source": [
    "from sklearn_extra.cluster import KMedoids \n",
    "\n",
    "crimes_kmd2 = KMedoids(n_clusters = 2).fit(crimes_num_z)\n",
    "crimes = crimes.assign(kmed=crimes_kmd2.labels_)\n",
    "plt.scatter(crimes_num_z['Unemployment rate'], crimes_num_z['Murder and nonnegligent manslaughter rate'], c=crimes.kmed)\n",
    "plt.scatter(crimes_kmd2.cluster_centers_[:, 0], crimes_kmd2.cluster_centers_[:, 1], c='red', s=50)\n",
    "plt.show()\n",
    "#code borrowed from Professor Cannon."
   ]
  },
  {
   "cell_type": "markdown",
   "metadata": {},
   "source": [
    "The results actually seem to be quite similar, althoug K medoids seem to yield more centrally located cluster center points since unlike the K mean, it doesn't take the mean value of the object in the cluster. This means that it is less affected by outliers than K mean, so the difference does not surprise me."
   ]
  },
  {
   "cell_type": "markdown",
   "metadata": {},
   "source": [
    "#### Extra credit (2 points) What is the mediod state for each of your clusters?  "
   ]
  },
  {
   "cell_type": "code",
   "execution_count": 25,
   "metadata": {},
   "outputs": [
    {
     "data": {
      "image/png": "[encoded data removed]",
      "text/plain": [
       "<Figure size 432x288 with 1 Axes>"
      ]
     },
     "metadata": {
      "needs_background": "light"
     },
     "output_type": "display_data"
    }
   ],
   "source": [
    "crimes_kmd2 = KMedoids(n_clusters = 4).fit(crimes_num_z)\n",
    "crimes = crimes.assign(kmed=crimes_kmd2.labels_)\n",
    "plt.scatter(crimes_num_z['Unemployment rate'], crimes_num_z['Murder and nonnegligent manslaughter rate'], c=crimes.kmed)\n",
    "plt.scatter(crimes_kmd2.cluster_centers_[:, 0], crimes_kmd2.cluster_centers_[:, 1], c='red', s=50)\n",
    "plt.show()"
   ]
  },
  {
   "cell_type": "markdown",
   "metadata": {},
   "source": [
    "When we set K=4, we can see that the medoids are quite close to each other, indicating that the clusters are overlapping one another and similarly spread out."
   ]
  }
 ],
 "metadata": {
  "kernelspec": {
   "display_name": "Python 3",
   "language": "python",
   "name": "python3"
  },
  "language_info": {
   "codemirror_mode": {
    "name": "ipython",
    "version": 3
   },
   "file_extension": ".py",
   "mimetype": "text/x-python",
   "name": "python",
   "nbconvert_exporter": "python",
   "pygments_lexer": "ipython3",
   "version": "3.7.3"
  }
 },
 "nbformat": 4,
 "nbformat_minor": 2
}
