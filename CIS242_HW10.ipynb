{
 "cells": [
  {
   "cell_type": "markdown",
   "metadata": {},
   "source": [
    "##### CIS 242\n",
    "\n",
    "## Spring 2020\n",
    "\n",
    "## HOMEWORK ASSIGNMENT 10\n",
    "\n",
    "\n",
    "Please compile your responses use markdown in your Jupyter notebook to answer the questions.  If you prefer, you may also submit a Word or PDF document with the responses along the PDF or HTML version of the completed notebook.   \n",
    "\n",
    "#### Active notebooks (.ipynb files) or raw code (.py files) will NOT be accepted and no points will be given.\n",
    "\n",
    "The code part of the files will not be graded, but they will be checked if necessary to verify your findings and recommendations. Point deductions may occur if there are major discrepancies between your written answers and the output from the code. \n",
    "\n",
    "Please organize your notebook to have the homework responses at the top and the working code underneath.\n",
    "\n",
    "Questions are worth 2 points each for a total of **20 points**.  "
   ]
  },
  {
   "cell_type": "markdown",
   "metadata": {},
   "source": [
    "## Mining the Titanic\n",
    "\n",
    "There are a variety of datasets available to predict who would survive the Titanic.  We are going to work with one to do some unsupervised learning.  Let's look to see what patterns we can find in the dataset titanic_cat.csv"
   ]
  },
  {
   "cell_type": "markdown",
   "metadata": {},
   "source": [
    "#### 1.  Perform some preliminary EDA on the data and describe the data.  List 3 things you learn about the passengers from this exercise. How can you use that information? "
   ]
  },
  {
   "cell_type": "code",
   "execution_count": 1,
   "metadata": {},
   "outputs": [],
   "source": [
    "import pandas as pd\n",
    "import numpy as np\n",
    "import matplotlib.pyplot as plt\n",
    "import arules\n",
    "from arules.utils import five_quantile_based_bins, top_bottom_10, top_5_variant_variables\n",
    "import csv\n",
    "#code borrowed from Professor Cannon."
   ]
  },
  {
   "cell_type": "code",
   "execution_count": 2,
   "metadata": {},
   "outputs": [
    {
     "data": {
      "text/html": [
       "<div>\n",
       "<style scoped>\n",
       "    .dataframe tbody tr th:only-of-type {\n",
       "        vertical-align: middle;\n",
       "    }\n",
       "\n",
       "    .dataframe tbody tr th {\n",
       "        vertical-align: top;\n",
       "    }\n",
       "\n",
       "    .dataframe thead th {\n",
       "        text-align: right;\n",
       "    }\n",
       "</style>\n",
       "<table border=\"1\" class=\"dataframe\">\n",
       "  <thead>\n",
       "    <tr style=\"text-align: right;\">\n",
       "      <th></th>\n",
       "      <th>Class</th>\n",
       "      <th>Sex</th>\n",
       "      <th>Age</th>\n",
       "      <th>Survived</th>\n",
       "    </tr>\n",
       "  </thead>\n",
       "  <tbody>\n",
       "    <tr>\n",
       "      <th>count</th>\n",
       "      <td>2201</td>\n",
       "      <td>2201</td>\n",
       "      <td>2201</td>\n",
       "      <td>2201</td>\n",
       "    </tr>\n",
       "    <tr>\n",
       "      <th>unique</th>\n",
       "      <td>4</td>\n",
       "      <td>2</td>\n",
       "      <td>2</td>\n",
       "      <td>2</td>\n",
       "    </tr>\n",
       "    <tr>\n",
       "      <th>top</th>\n",
       "      <td>Crew</td>\n",
       "      <td>Male</td>\n",
       "      <td>Adult</td>\n",
       "      <td>No</td>\n",
       "    </tr>\n",
       "    <tr>\n",
       "      <th>freq</th>\n",
       "      <td>885</td>\n",
       "      <td>1731</td>\n",
       "      <td>2092</td>\n",
       "      <td>1490</td>\n",
       "    </tr>\n",
       "  </tbody>\n",
       "</table>\n",
       "</div>"
      ],
      "text/plain": [
       "       Class   Sex    Age Survived\n",
       "count   2201  2201   2201     2201\n",
       "unique     4     2      2        2\n",
       "top     Crew  Male  Adult       No\n",
       "freq     885  1731   2092     1490"
      ]
     },
     "execution_count": 2,
     "metadata": {},
     "output_type": "execute_result"
    }
   ],
   "source": [
    "titanic = pd.read_csv('titanic_cat.csv')\n",
    "titanic.describe()"
   ]
  },
  {
   "cell_type": "code",
   "execution_count": 3,
   "metadata": {},
   "outputs": [
    {
     "name": "stdout",
     "output_type": "stream",
     "text": [
      "Crew    885\n",
      "3rd     706\n",
      "1st     325\n",
      "2nd     285\n",
      "Name: Class, dtype: int64\n",
      "\n",
      "Male      1731\n",
      "Female     470\n",
      "Name: Sex, dtype: int64\n",
      "\n",
      "Adult    2092\n",
      "Child     109\n",
      "Name: Age, dtype: int64\n",
      "\n",
      "No     1490\n",
      "Yes     711\n",
      "Name: Survived, dtype: int64\n",
      "\n"
     ]
    }
   ],
   "source": [
    "for column in titanic:\n",
    "    print(titanic[column].value_counts())\n",
    "    print()"
   ]
  },
  {
   "cell_type": "code",
   "execution_count": 13,
   "metadata": {},
   "outputs": [
    {
     "name": "stdout",
     "output_type": "stream",
     "text": [
      "Number of class 1 passengers that survived: 203\n",
      "Number of class 2 passengers that survived: 118\n",
      "Number of class 3 passengers that survived: 178\n",
      "Number of class 3 passengers that survived: 178\n",
      "Number of crew members that survived: 212\n"
     ]
    }
   ],
   "source": [
    "#Create a function that displays all the classes of each survived passenger.\n",
    "def getNumPassengers(column_name, group):\n",
    "    survived_passengers = (titanic.loc[titanic[column_name] == group, 'Class'])\n",
    "    return survived_passengers\n",
    "\n",
    "#Number of class 1 passengers that survived:\n",
    "passenger_classes = getNumPassengers('Survived', 'Yes')\n",
    "class1_survivors = 0\n",
    "for passenger in passenger_classes:\n",
    "    if passenger == '1st':\n",
    "        class1_survivors += 1\n",
    "print('Number of class 1 passengers that survived:', class1_survivors)\n",
    "\n",
    "#Number of class 2 passengers that survived:\n",
    "passenger_classes = getNumPassengers('Survived', 'Yes')\n",
    "class2_survivors = 0\n",
    "for passenger in passenger_classes:\n",
    "    if passenger == '2nd':\n",
    "        class2_survivors += 1\n",
    "print('Number of class 2 passengers that survived:', class2_survivors)\n",
    "\n",
    "#Number of class 3 passengers that survived:\n",
    "passenger_classes = getNumPassengers('Survived', 'Yes')\n",
    "class3_survivors = 0\n",
    "for passenger in passenger_classes:\n",
    "    if passenger == '3rd':\n",
    "        class3_survivors += 1\n",
    "print('Number of class 3 passengers that survived:', class3_survivors)\n",
    "\n",
    "#Number of class 3 passengers that survived:\n",
    "passenger_classes = getNumPassengers('Survived', 'Yes')\n",
    "class3_survivors = 0\n",
    "for passenger in passenger_classes:\n",
    "    if passenger == '3rd':\n",
    "        class3_survivors += 1\n",
    "print('Number of class 3 passengers that survived:', class3_survivors)\n",
    "\n",
    "#Number of crew members that survived:\n",
    "passenger_classes = getNumPassengers('Survived', 'Yes')\n",
    "crew_survivors = 0\n",
    "for passenger in passenger_classes:\n",
    "    if passenger == 'Crew':\n",
    "        crew_survivors += 1\n",
    "print('Number of crew members that survived:', crew_survivors)"
   ]
  },
  {
   "cell_type": "markdown",
   "metadata": {},
   "source": [
    "Out of 325 1st class passengers, 203 survived. 1st class survival rate: 203/325 = 62.46% <br>\n",
    "Out of 285 2nd class passengers, 118 survived. 2nd class survival rate: 118/285 = 41.40% <br>\n",
    "Out of 706 3rd class passengers, 178 survived. 3rd class survival rate: 178/706 = 25.21% <br>\n",
    "Out of 885 3rd class passengers, 212 survived. crew member survival rate: 212/885 = 23.95%"
   ]
  },
  {
   "cell_type": "code",
   "execution_count": 12,
   "metadata": {},
   "outputs": [
    {
     "name": "stdout",
     "output_type": "stream",
     "text": [
      "Number of male passengers that survived: 367\n",
      "Number of female passengers that survived: 344\n"
     ]
    }
   ],
   "source": [
    "def getNumPassengers(column_name, group):\n",
    "    survived_passengers = (titanic.loc[titanic[column_name] == group, 'Sex'])\n",
    "    return survived_passengers\n",
    "\n",
    "#Number of male passengers that survived:\n",
    "passenger_sex = getNumPassengers('Survived', 'Yes')\n",
    "male_survivors = 0\n",
    "for passenger in passenger_sex:\n",
    "    if passenger == 'Male':\n",
    "        male_survivors += 1\n",
    "print('Number of male passengers that survived:', male_survivors)\n",
    "\n",
    "#Number of female passengers that survived:\n",
    "passenger_sex = getNumPassengers('Survived', 'Yes')\n",
    "female_survivors = 0\n",
    "for passenger in passenger_sex:\n",
    "    if passenger == 'Female':\n",
    "        female_survivors += 1\n",
    "print('Number of female passengers that survived:', female_survivors)"
   ]
  },
  {
   "cell_type": "markdown",
   "metadata": {},
   "source": [
    "Out of 1,731 male passengers, 367 survived. Male survival rate: 367/1731 = 21.20% <br>\n",
    "Out of 470 female passengers, 344 survived. Female survival rate: 344/470 = 73.19%"
   ]
  },
  {
   "cell_type": "code",
   "execution_count": 16,
   "metadata": {},
   "outputs": [
    {
     "name": "stdout",
     "output_type": "stream",
     "text": [
      "Number of adult passengers that survived: 654\n",
      "Number of child passengers that survived: 57\n"
     ]
    }
   ],
   "source": [
    "def getNumPassengers(column_name, group):\n",
    "    survived_passengers = (titanic.loc[titanic[column_name] == group, 'Age'])\n",
    "    return survived_passengers\n",
    "\n",
    "#Number of adult passengers that survived:\n",
    "passenger_age = getNumPassengers('Survived', 'Yes')\n",
    "adult_survivors = 0\n",
    "for passenger in passenger_age:\n",
    "    if passenger == 'Adult':\n",
    "        adult_survivors += 1\n",
    "print('Number of adult passengers that survived:', adult_survivors)\n",
    "\n",
    "#Number of child passengers that survived:\n",
    "passenger_age = getNumPassengers('Survived', 'Yes')\n",
    "child_survivors = 0\n",
    "for passenger in passenger_age:\n",
    "    if passenger == 'Child':\n",
    "        child_survivors += 1\n",
    "print('Number of child passengers that survived:', child_survivors)"
   ]
  },
  {
   "cell_type": "markdown",
   "metadata": {},
   "source": [
    "Out of 2,092 adult passengers, 654 survived. Adult survival rate: 654/2092 = 32.26% <br>\n",
    "Out of 109 child passengers, 57 survived. Child survival rate: 57/109 = 52.29%"
   ]
  },
  {
   "cell_type": "markdown",
   "metadata": {},
   "source": [
    "1. There were 2,201 passengers in total and 711 passengers survived.\n",
    "2. Proportionately speaking, children had a much higher survival rate than adults.\n",
    "3. Proportionately speaking, females had a much higher survival rate than males.\n",
    "4. 1st class passengers survived the most both in terms of numbers and percentage.\n",
    "\n",
    "We can use this information to see if certain demographic groups (ex. 1st class female child passenger) appear more freqeuntly in the list of survivors."
   ]
  },
  {
   "cell_type": "markdown",
   "metadata": {},
   "source": [
    "#### 2. What patterns might you expect to see in the data?  Why do you think that? "
   ]
  },
  {
   "cell_type": "markdown",
   "metadata": {},
   "source": [
    "I think within those who survived the Titanic, we will be seeing '1st class' appear a lot because 1st class passengers survived the most both in terms of numbers and percentage as mentioned in question 1. Within those who didn't survive, I think we will be seeing a lot of association between the traits 'male', 'adult', and 'crew member' as passengers that fall under those cateogries were less likely to survive according to our EDA."
   ]
  },
  {
   "cell_type": "markdown",
   "metadata": {},
   "source": [
    "#### 3.  You are asked to look for frequent patterns in the data.  What changes, if any,  do you need to make to the data?  Why or why not?"
   ]
  },
  {
   "cell_type": "markdown",
   "metadata": {},
   "source": [
    "Because all four variables are cateogorical, we must transform them into dummy varaibles in order to calculate various frequency values like we did with the groceries.csv data frame using Transaction Encoder in class. In other words, we much change them into transactional format."
   ]
  },
  {
   "cell_type": "code",
   "execution_count": 23,
   "metadata": {},
   "outputs": [
    {
     "data": {
      "text/html": [
       "<div>\n",
       "<style scoped>\n",
       "    .dataframe tbody tr th:only-of-type {\n",
       "        vertical-align: middle;\n",
       "    }\n",
       "\n",
       "    .dataframe tbody tr th {\n",
       "        vertical-align: top;\n",
       "    }\n",
       "\n",
       "    .dataframe thead th {\n",
       "        text-align: right;\n",
       "    }\n",
       "</style>\n",
       "<table border=\"1\" class=\"dataframe\">\n",
       "  <thead>\n",
       "    <tr style=\"text-align: right;\">\n",
       "      <th></th>\n",
       "      <th>Class_1st</th>\n",
       "      <th>Class_2nd</th>\n",
       "      <th>Class_3rd</th>\n",
       "      <th>Class_Crew</th>\n",
       "      <th>Sex_Female</th>\n",
       "      <th>Sex_Male</th>\n",
       "      <th>Age_Adult</th>\n",
       "      <th>Age_Child</th>\n",
       "      <th>Survived_No</th>\n",
       "      <th>Survived_Yes</th>\n",
       "    </tr>\n",
       "  </thead>\n",
       "  <tbody>\n",
       "    <tr>\n",
       "      <th>0</th>\n",
       "      <td>0</td>\n",
       "      <td>0</td>\n",
       "      <td>1</td>\n",
       "      <td>0</td>\n",
       "      <td>0</td>\n",
       "      <td>1</td>\n",
       "      <td>0</td>\n",
       "      <td>1</td>\n",
       "      <td>1</td>\n",
       "      <td>0</td>\n",
       "    </tr>\n",
       "    <tr>\n",
       "      <th>1</th>\n",
       "      <td>0</td>\n",
       "      <td>0</td>\n",
       "      <td>1</td>\n",
       "      <td>0</td>\n",
       "      <td>0</td>\n",
       "      <td>1</td>\n",
       "      <td>0</td>\n",
       "      <td>1</td>\n",
       "      <td>1</td>\n",
       "      <td>0</td>\n",
       "    </tr>\n",
       "    <tr>\n",
       "      <th>2</th>\n",
       "      <td>0</td>\n",
       "      <td>0</td>\n",
       "      <td>1</td>\n",
       "      <td>0</td>\n",
       "      <td>0</td>\n",
       "      <td>1</td>\n",
       "      <td>0</td>\n",
       "      <td>1</td>\n",
       "      <td>1</td>\n",
       "      <td>0</td>\n",
       "    </tr>\n",
       "    <tr>\n",
       "      <th>3</th>\n",
       "      <td>0</td>\n",
       "      <td>0</td>\n",
       "      <td>1</td>\n",
       "      <td>0</td>\n",
       "      <td>0</td>\n",
       "      <td>1</td>\n",
       "      <td>0</td>\n",
       "      <td>1</td>\n",
       "      <td>1</td>\n",
       "      <td>0</td>\n",
       "    </tr>\n",
       "    <tr>\n",
       "      <th>4</th>\n",
       "      <td>0</td>\n",
       "      <td>0</td>\n",
       "      <td>1</td>\n",
       "      <td>0</td>\n",
       "      <td>0</td>\n",
       "      <td>1</td>\n",
       "      <td>0</td>\n",
       "      <td>1</td>\n",
       "      <td>1</td>\n",
       "      <td>0</td>\n",
       "    </tr>\n",
       "  </tbody>\n",
       "</table>\n",
       "</div>"
      ],
      "text/plain": [
       "   Class_1st  Class_2nd  Class_3rd  Class_Crew  Sex_Female  Sex_Male  \\\n",
       "0          0          0          1           0           0         1   \n",
       "1          0          0          1           0           0         1   \n",
       "2          0          0          1           0           0         1   \n",
       "3          0          0          1           0           0         1   \n",
       "4          0          0          1           0           0         1   \n",
       "\n",
       "   Age_Adult  Age_Child  Survived_No  Survived_Yes  \n",
       "0          0          1            1             0  \n",
       "1          0          1            1             0  \n",
       "2          0          1            1             0  \n",
       "3          0          1            1             0  \n",
       "4          0          1            1             0  "
      ]
     },
     "execution_count": 23,
     "metadata": {},
     "output_type": "execute_result"
    }
   ],
   "source": [
    "titanic_dummies = pd.get_dummies(titanic, columns=['Class','Sex','Age','Survived'])\n",
    "titanic_dummies.head()"
   ]
  },
  {
   "cell_type": "markdown",
   "metadata": {},
   "source": [
    "Absolute support (frequency):"
   ]
  },
  {
   "cell_type": "code",
   "execution_count": 28,
   "metadata": {},
   "outputs": [
    {
     "data": {
      "text/plain": [
       "Class_1st        325\n",
       "Class_2nd        285\n",
       "Class_3rd        706\n",
       "Class_Crew       885\n",
       "Sex_Female       470\n",
       "Sex_Male        1731\n",
       "Age_Adult       2092\n",
       "Age_Child        109\n",
       "Survived_No     1490\n",
       "Survived_Yes     711\n",
       "dtype: int64"
      ]
     },
     "execution_count": 28,
     "metadata": {},
     "output_type": "execute_result"
    }
   ],
   "source": [
    "titanic_dummies.sum()"
   ]
  },
  {
   "cell_type": "markdown",
   "metadata": {},
   "source": [
    "Relative support:"
   ]
  },
  {
   "cell_type": "code",
   "execution_count": 29,
   "metadata": {},
   "outputs": [
    {
     "name": "stdout",
     "output_type": "stream",
     "text": [
      "Age_Adult       0.950477\n",
      "Sex_Male        0.786461\n",
      "Survived_No     0.676965\n",
      "Class_Crew      0.402090\n",
      "Survived_Yes    0.323035\n",
      "Class_3rd       0.320763\n",
      "Sex_Female      0.213539\n",
      "Class_1st       0.147660\n",
      "Class_2nd       0.129487\n",
      "Age_Child       0.049523\n",
      "dtype: float64\n"
     ]
    }
   ],
   "source": [
    "relsup = titanic_dummies.sum()/len(titanic_dummies)\n",
    "print(relsup.sort_values(ascending = False))\n",
    "#code borrowed from Professor Cannon."
   ]
  },
  {
   "cell_type": "markdown",
   "metadata": {},
   "source": [
    "#### 4.  Find the itemsets in the data that have at least a minimum support of 0.01.  How many are there?  Choose two itemsets and explain them. How does the information in your itemsets compare to what you found in your EDA?"
   ]
  },
  {
   "cell_type": "markdown",
   "metadata": {},
   "source": [
    "We will use the Apriori Algorithm to find the most frequent itemsets."
   ]
  },
  {
   "cell_type": "code",
   "execution_count": 30,
   "metadata": {},
   "outputs": [
    {
     "name": "stdout",
     "output_type": "stream",
     "text": [
      "<class 'pandas.core.frame.DataFrame'>\n",
      "(96, 2)\n"
     ]
    }
   ],
   "source": [
    "from mlxtend.frequent_patterns import apriori\n",
    "frequent_itemsets=apriori(titanic_dummies, min_support=0.01, use_colnames=True)\n",
    "print(type(frequent_itemsets))\n",
    "print(frequent_itemsets.shape)\n",
    "#code borrowed from Professor Cannon."
   ]
  },
  {
   "cell_type": "markdown",
   "metadata": {},
   "source": [
    "There are a total of 96 itemsets that have at least a minimum support of 0.01."
   ]
  },
  {
   "cell_type": "code",
   "execution_count": 33,
   "metadata": {},
   "outputs": [
    {
     "data": {
      "text/html": [
       "<div>\n",
       "<style scoped>\n",
       "    .dataframe tbody tr th:only-of-type {\n",
       "        vertical-align: middle;\n",
       "    }\n",
       "\n",
       "    .dataframe tbody tr th {\n",
       "        vertical-align: top;\n",
       "    }\n",
       "\n",
       "    .dataframe thead th {\n",
       "        text-align: right;\n",
       "    }\n",
       "</style>\n",
       "<table border=\"1\" class=\"dataframe\">\n",
       "  <thead>\n",
       "    <tr style=\"text-align: right;\">\n",
       "      <th></th>\n",
       "      <th>support</th>\n",
       "      <th>itemsets</th>\n",
       "    </tr>\n",
       "  </thead>\n",
       "  <tbody>\n",
       "    <tr>\n",
       "      <th>0</th>\n",
       "      <td>0.147660</td>\n",
       "      <td>(Class_1st)</td>\n",
       "    </tr>\n",
       "    <tr>\n",
       "      <th>1</th>\n",
       "      <td>0.129487</td>\n",
       "      <td>(Class_2nd)</td>\n",
       "    </tr>\n",
       "    <tr>\n",
       "      <th>2</th>\n",
       "      <td>0.320763</td>\n",
       "      <td>(Class_3rd)</td>\n",
       "    </tr>\n",
       "    <tr>\n",
       "      <th>3</th>\n",
       "      <td>0.402090</td>\n",
       "      <td>(Class_Crew)</td>\n",
       "    </tr>\n",
       "    <tr>\n",
       "      <th>4</th>\n",
       "      <td>0.213539</td>\n",
       "      <td>(Sex_Female)</td>\n",
       "    </tr>\n",
       "  </tbody>\n",
       "</table>\n",
       "</div>"
      ],
      "text/plain": [
       "    support      itemsets\n",
       "0  0.147660   (Class_1st)\n",
       "1  0.129487   (Class_2nd)\n",
       "2  0.320763   (Class_3rd)\n",
       "3  0.402090  (Class_Crew)\n",
       "4  0.213539  (Sex_Female)"
      ]
     },
     "execution_count": 33,
     "metadata": {},
     "output_type": "execute_result"
    }
   ],
   "source": [
    "frequent_itemsets.head()"
   ]
  },
  {
   "cell_type": "code",
   "execution_count": 34,
   "metadata": {},
   "outputs": [
    {
     "data": {
      "text/html": [
       "<div>\n",
       "<style scoped>\n",
       "    .dataframe tbody tr th:only-of-type {\n",
       "        vertical-align: middle;\n",
       "    }\n",
       "\n",
       "    .dataframe tbody tr th {\n",
       "        vertical-align: top;\n",
       "    }\n",
       "\n",
       "    .dataframe thead th {\n",
       "        text-align: right;\n",
       "    }\n",
       "</style>\n",
       "<table border=\"1\" class=\"dataframe\">\n",
       "  <thead>\n",
       "    <tr style=\"text-align: right;\">\n",
       "      <th></th>\n",
       "      <th>support</th>\n",
       "      <th>itemsets</th>\n",
       "    </tr>\n",
       "  </thead>\n",
       "  <tbody>\n",
       "    <tr>\n",
       "      <th>6</th>\n",
       "      <td>0.950477</td>\n",
       "      <td>(Age_Adult)</td>\n",
       "    </tr>\n",
       "    <tr>\n",
       "      <th>5</th>\n",
       "      <td>0.786461</td>\n",
       "      <td>(Sex_Male)</td>\n",
       "    </tr>\n",
       "    <tr>\n",
       "      <th>36</th>\n",
       "      <td>0.757383</td>\n",
       "      <td>(Age_Adult, Sex_Male)</td>\n",
       "    </tr>\n",
       "    <tr>\n",
       "      <th>8</th>\n",
       "      <td>0.676965</td>\n",
       "      <td>(Survived_No)</td>\n",
       "    </tr>\n",
       "    <tr>\n",
       "      <th>40</th>\n",
       "      <td>0.653339</td>\n",
       "      <td>(Survived_No, Age_Adult)</td>\n",
       "    </tr>\n",
       "  </tbody>\n",
       "</table>\n",
       "</div>"
      ],
      "text/plain": [
       "     support                  itemsets\n",
       "6   0.950477               (Age_Adult)\n",
       "5   0.786461                (Sex_Male)\n",
       "36  0.757383     (Age_Adult, Sex_Male)\n",
       "8   0.676965             (Survived_No)\n",
       "40  0.653339  (Survived_No, Age_Adult)"
      ]
     },
     "execution_count": 34,
     "metadata": {},
     "output_type": "execute_result"
    }
   ],
   "source": [
    "frequent_itemsets.sort_values(by='support',inplace=True, ascending=False)\n",
    "frequent_itemsets.head()\n",
    "#code borrowed from Professor Cannon."
   ]
  },
  {
   "cell_type": "markdown",
   "metadata": {},
   "source": [
    "The information we see here reveals the same information we gained from the EDA. (Age_Adult, Sex_Male): Large majority of passengers were adults and males, (Survived_No, Age_Adult): with more than half of the passengers that didn't survive being adults."
   ]
  },
  {
   "cell_type": "markdown",
   "metadata": {},
   "source": [
    "#### 5. What is the most common itemset? What does that mean in this context? What is the distribution of items in the itemsets?  Smallest? Largest? "
   ]
  },
  {
   "cell_type": "markdown",
   "metadata": {},
   "source": [
    "The most common itemset is an 'Adult'. In this context, it means that the vast majority of passengers on the Titanic were adults, which makes sense as 2,092 out of 2,201 passengers were adults."
   ]
  },
  {
   "cell_type": "code",
   "execution_count": 39,
   "metadata": {},
   "outputs": [
    {
     "name": "stdout",
     "output_type": "stream",
     "text": [
      "<class 'pandas.core.frame.DataFrame'>\n",
      "(8804, 2)\n",
      "  columns Index\n",
      "0   Class   3rd\n",
      "1   Class   3rd\n",
      "2   Class   3rd\n",
      "3   Class   3rd\n",
      "4   Class   3rd\n"
     ]
    }
   ],
   "source": [
    "passenger_info = titanic.melt(var_name='columns', value_name='Index')\n",
    "print(type(passenger_info))\n",
    "print(passenger_info.shape)\n",
    "print(passenger_info.head())\n",
    "#code borrowed from Professor Cannon."
   ]
  },
  {
   "cell_type": "code",
   "execution_count": 41,
   "metadata": {},
   "outputs": [
    {
     "data": {
      "image/png": "[encoded data removed]",
      "text/plain": [
       "<Figure size 432x288 with 1 Axes>"
      ]
     },
     "metadata": {
      "needs_background": "light"
     },
     "output_type": "display_data"
    }
   ],
   "source": [
    "passenger_info.loc[:,'Index'].value_counts().plot(kind='bar')\n",
    "plt.show()\n",
    "#code borrowed from Professor Cannon."
   ]
  },
  {
   "cell_type": "markdown",
   "metadata": {},
   "source": [
    "Bar graph above shows the distribution of items in the itemsets. 'Adult' has the largest frequency and 'Child' has the smallest frequency as expected."
   ]
  },
  {
   "cell_type": "markdown",
   "metadata": {},
   "source": [
    "#### 6. Find some association rules for these data.  Start with the default settings.  How many rules do you find?  Describe or explain two of them (including the meaning of the support, confidence, and lift metrics)."
   ]
  },
  {
   "cell_type": "code",
   "execution_count": 42,
   "metadata": {
    "scrolled": true
   },
   "outputs": [
    {
     "name": "stdout",
     "output_type": "stream",
     "text": [
      "(73, 9)\n"
     ]
    },
    {
     "data": {
      "text/html": [
       "<div>\n",
       "<style scoped>\n",
       "    .dataframe tbody tr th:only-of-type {\n",
       "        vertical-align: middle;\n",
       "    }\n",
       "\n",
       "    .dataframe tbody tr th {\n",
       "        vertical-align: top;\n",
       "    }\n",
       "\n",
       "    .dataframe thead th {\n",
       "        text-align: right;\n",
       "    }\n",
       "</style>\n",
       "<table border=\"1\" class=\"dataframe\">\n",
       "  <thead>\n",
       "    <tr style=\"text-align: right;\">\n",
       "      <th></th>\n",
       "      <th>antecedents</th>\n",
       "      <th>consequents</th>\n",
       "      <th>antecedent support</th>\n",
       "      <th>consequent support</th>\n",
       "      <th>support</th>\n",
       "      <th>confidence</th>\n",
       "      <th>lift</th>\n",
       "      <th>leverage</th>\n",
       "      <th>conviction</th>\n",
       "    </tr>\n",
       "  </thead>\n",
       "  <tbody>\n",
       "    <tr>\n",
       "      <th>0</th>\n",
       "      <td>(Sex_Male)</td>\n",
       "      <td>(Age_Adult)</td>\n",
       "      <td>0.786461</td>\n",
       "      <td>0.950477</td>\n",
       "      <td>0.757383</td>\n",
       "      <td>0.963027</td>\n",
       "      <td>1.013204</td>\n",
       "      <td>0.009870</td>\n",
       "      <td>1.339441</td>\n",
       "    </tr>\n",
       "    <tr>\n",
       "      <th>1</th>\n",
       "      <td>(Survived_No)</td>\n",
       "      <td>(Age_Adult)</td>\n",
       "      <td>0.676965</td>\n",
       "      <td>0.950477</td>\n",
       "      <td>0.653339</td>\n",
       "      <td>0.965101</td>\n",
       "      <td>1.015386</td>\n",
       "      <td>0.009900</td>\n",
       "      <td>1.419023</td>\n",
       "    </tr>\n",
       "    <tr>\n",
       "      <th>2</th>\n",
       "      <td>(Survived_No)</td>\n",
       "      <td>(Sex_Male)</td>\n",
       "      <td>0.676965</td>\n",
       "      <td>0.786461</td>\n",
       "      <td>0.619718</td>\n",
       "      <td>0.915436</td>\n",
       "      <td>1.163995</td>\n",
       "      <td>0.087312</td>\n",
       "      <td>2.525187</td>\n",
       "    </tr>\n",
       "    <tr>\n",
       "      <th>3</th>\n",
       "      <td>(Survived_No, Age_Adult)</td>\n",
       "      <td>(Sex_Male)</td>\n",
       "      <td>0.653339</td>\n",
       "      <td>0.786461</td>\n",
       "      <td>0.603816</td>\n",
       "      <td>0.924200</td>\n",
       "      <td>1.175139</td>\n",
       "      <td>0.089991</td>\n",
       "      <td>2.817152</td>\n",
       "    </tr>\n",
       "    <tr>\n",
       "      <th>4</th>\n",
       "      <td>(Survived_No, Sex_Male)</td>\n",
       "      <td>(Age_Adult)</td>\n",
       "      <td>0.619718</td>\n",
       "      <td>0.950477</td>\n",
       "      <td>0.603816</td>\n",
       "      <td>0.974340</td>\n",
       "      <td>1.025106</td>\n",
       "      <td>0.014788</td>\n",
       "      <td>1.929980</td>\n",
       "    </tr>\n",
       "  </tbody>\n",
       "</table>\n",
       "</div>"
      ],
      "text/plain": [
       "                antecedents  consequents  antecedent support  \\\n",
       "0                (Sex_Male)  (Age_Adult)            0.786461   \n",
       "1             (Survived_No)  (Age_Adult)            0.676965   \n",
       "2             (Survived_No)   (Sex_Male)            0.676965   \n",
       "3  (Survived_No, Age_Adult)   (Sex_Male)            0.653339   \n",
       "4   (Survived_No, Sex_Male)  (Age_Adult)            0.619718   \n",
       "\n",
       "   consequent support   support  confidence      lift  leverage  conviction  \n",
       "0            0.950477  0.757383    0.963027  1.013204  0.009870    1.339441  \n",
       "1            0.950477  0.653339    0.965101  1.015386  0.009900    1.419023  \n",
       "2            0.786461  0.619718    0.915436  1.163995  0.087312    2.525187  \n",
       "3            0.786461  0.603816    0.924200  1.175139  0.089991    2.817152  \n",
       "4            0.950477  0.603816    0.974340  1.025106  0.014788    1.929980  "
      ]
     },
     "execution_count": 42,
     "metadata": {},
     "output_type": "execute_result"
    }
   ],
   "source": [
    "from mlxtend.frequent_patterns import association_rules\n",
    "\n",
    "rules_conf=association_rules(frequent_itemsets, metric=\"confidence\", min_threshold=0.8)\n",
    "print(rules_conf.shape)\n",
    "rules_conf.head()\n",
    "#code borrowed from Professor Cannon."
   ]
  },
  {
   "cell_type": "markdown",
   "metadata": {},
   "source": [
    "In this data set, we find a total of 79 rules. <br>\n",
    "\n",
    "Rule: If-then statement between an antecedent and a consequent. <br>\n",
    "Support: How frequently the rule appears in the data. <br>\n",
    "Confidence: The number of times the if-then statements are true (conditional probability). <br>\n",
    "Lift: Strength of a rule against random chance(independent). Larger the lift ratio, greater the strength of association. <br>\n",
    "\n",
    "Let's examine the first two rule: (Male -> Adult) and (Didn't survive -> Adult). <br>\n",
    "\n",
    "(Male -> Adult): <br>\n",
    "support = 0.757. This means that this rule happens 0.757 times in the dataset. <br>\n",
    "confidence = 0.963. This means that out of all the itemsets that include 'Male', 0.963 of them contain both 'Male' and 'Adult'. <br>\n",
    "lift = 1.013. Since the lift ratio of this rule is larger than 1, we can conclude that there is a relationship between the antecedent and consequent. <br>\n",
    "Conclusion of rule: Out of all the passengers, 0.757 of them were male adults. Out of all the male passengers, 0.963 of them were adults. The lift ratio indicates that in this dataset, there is a relationship between being a male and an adult. \n",
    "\n",
    "(Didn't survive -> Adult): <br>\n",
    "support = 0.653. This means that this rule happens 0.653 times in the dataset. <br>\n",
    "confidence = 0.965. This means that out of all the itemsets that include 'Didn't survive', 0.965 of them contain both 'Didn't survive' and 'Adult'. <br>\n",
    "lift = 1.015. Since the lift ratio of this rule is larger than 1, we can conclude that there is a relationship between the antecedent and consequent. <br>\n",
    "Conclusion of rule: Out of all the passengers, 0.653 of them were adults who didn't survive. Out of all the deaths, 0.965 of them were adults. The lift ratio indicates that in this dataset, there is a relationship between not surviving and being an adult."
   ]
  },
  {
   "cell_type": "markdown",
   "metadata": {},
   "source": [
    "#### 7. Now let's look for some strong rules.  How will you do this? What do you find?"
   ]
  },
  {
   "cell_type": "markdown",
   "metadata": {},
   "source": [
    "We will start by raising the min_support level to 0.5 to root out the itemsets with support level lower than 0.5."
   ]
  },
  {
   "cell_type": "code",
   "execution_count": 43,
   "metadata": {},
   "outputs": [
    {
     "name": "stdout",
     "output_type": "stream",
     "text": [
      "<class 'pandas.core.frame.DataFrame'>\n",
      "(7, 2)\n"
     ]
    }
   ],
   "source": [
    "frequent_itemsets1=apriori(titanic_dummies, min_support=0.5, use_colnames=True)\n",
    "print(type(frequent_itemsets1))\n",
    "print(frequent_itemsets1.shape)\n",
    "#code borrowed from Professor Cannon."
   ]
  },
  {
   "cell_type": "markdown",
   "metadata": {},
   "source": [
    "Doing so already narrows down the number of rules to 7. Now let's recreate the rules again with the same min_threshold value of 0.8."
   ]
  },
  {
   "cell_type": "code",
   "execution_count": 49,
   "metadata": {},
   "outputs": [
    {
     "name": "stdout",
     "output_type": "stream",
     "text": [
      "(6, 9)\n"
     ]
    },
    {
     "data": {
      "text/html": [
       "<div>\n",
       "<style scoped>\n",
       "    .dataframe tbody tr th:only-of-type {\n",
       "        vertical-align: middle;\n",
       "    }\n",
       "\n",
       "    .dataframe tbody tr th {\n",
       "        vertical-align: top;\n",
       "    }\n",
       "\n",
       "    .dataframe thead th {\n",
       "        text-align: right;\n",
       "    }\n",
       "</style>\n",
       "<table border=\"1\" class=\"dataframe\">\n",
       "  <thead>\n",
       "    <tr style=\"text-align: right;\">\n",
       "      <th></th>\n",
       "      <th>antecedents</th>\n",
       "      <th>consequents</th>\n",
       "      <th>antecedent support</th>\n",
       "      <th>consequent support</th>\n",
       "      <th>support</th>\n",
       "      <th>confidence</th>\n",
       "      <th>lift</th>\n",
       "      <th>leverage</th>\n",
       "      <th>conviction</th>\n",
       "    </tr>\n",
       "  </thead>\n",
       "  <tbody>\n",
       "    <tr>\n",
       "      <th>0</th>\n",
       "      <td>(Sex_Male)</td>\n",
       "      <td>(Age_Adult)</td>\n",
       "      <td>0.786461</td>\n",
       "      <td>0.950477</td>\n",
       "      <td>0.757383</td>\n",
       "      <td>0.963027</td>\n",
       "      <td>1.013204</td>\n",
       "      <td>0.009870</td>\n",
       "      <td>1.339441</td>\n",
       "    </tr>\n",
       "    <tr>\n",
       "      <th>1</th>\n",
       "      <td>(Survived_No)</td>\n",
       "      <td>(Sex_Male)</td>\n",
       "      <td>0.676965</td>\n",
       "      <td>0.786461</td>\n",
       "      <td>0.619718</td>\n",
       "      <td>0.915436</td>\n",
       "      <td>1.163995</td>\n",
       "      <td>0.087312</td>\n",
       "      <td>2.525187</td>\n",
       "    </tr>\n",
       "    <tr>\n",
       "      <th>2</th>\n",
       "      <td>(Survived_No)</td>\n",
       "      <td>(Age_Adult)</td>\n",
       "      <td>0.676965</td>\n",
       "      <td>0.950477</td>\n",
       "      <td>0.653339</td>\n",
       "      <td>0.965101</td>\n",
       "      <td>1.015386</td>\n",
       "      <td>0.009900</td>\n",
       "      <td>1.419023</td>\n",
       "    </tr>\n",
       "    <tr>\n",
       "      <th>3</th>\n",
       "      <td>(Survived_No, Age_Adult)</td>\n",
       "      <td>(Sex_Male)</td>\n",
       "      <td>0.653339</td>\n",
       "      <td>0.786461</td>\n",
       "      <td>0.603816</td>\n",
       "      <td>0.924200</td>\n",
       "      <td>1.175139</td>\n",
       "      <td>0.089991</td>\n",
       "      <td>2.817152</td>\n",
       "    </tr>\n",
       "    <tr>\n",
       "      <th>4</th>\n",
       "      <td>(Survived_No, Sex_Male)</td>\n",
       "      <td>(Age_Adult)</td>\n",
       "      <td>0.619718</td>\n",
       "      <td>0.950477</td>\n",
       "      <td>0.603816</td>\n",
       "      <td>0.974340</td>\n",
       "      <td>1.025106</td>\n",
       "      <td>0.014788</td>\n",
       "      <td>1.929980</td>\n",
       "    </tr>\n",
       "    <tr>\n",
       "      <th>5</th>\n",
       "      <td>(Survived_No)</td>\n",
       "      <td>(Age_Adult, Sex_Male)</td>\n",
       "      <td>0.676965</td>\n",
       "      <td>0.757383</td>\n",
       "      <td>0.603816</td>\n",
       "      <td>0.891946</td>\n",
       "      <td>1.177669</td>\n",
       "      <td>0.091095</td>\n",
       "      <td>2.245337</td>\n",
       "    </tr>\n",
       "  </tbody>\n",
       "</table>\n",
       "</div>"
      ],
      "text/plain": [
       "                antecedents            consequents  antecedent support  \\\n",
       "0                (Sex_Male)            (Age_Adult)            0.786461   \n",
       "1             (Survived_No)             (Sex_Male)            0.676965   \n",
       "2             (Survived_No)            (Age_Adult)            0.676965   \n",
       "3  (Survived_No, Age_Adult)             (Sex_Male)            0.653339   \n",
       "4   (Survived_No, Sex_Male)            (Age_Adult)            0.619718   \n",
       "5             (Survived_No)  (Age_Adult, Sex_Male)            0.676965   \n",
       "\n",
       "   consequent support   support  confidence      lift  leverage  conviction  \n",
       "0            0.950477  0.757383    0.963027  1.013204  0.009870    1.339441  \n",
       "1            0.786461  0.619718    0.915436  1.163995  0.087312    2.525187  \n",
       "2            0.950477  0.653339    0.965101  1.015386  0.009900    1.419023  \n",
       "3            0.786461  0.603816    0.924200  1.175139  0.089991    2.817152  \n",
       "4            0.950477  0.603816    0.974340  1.025106  0.014788    1.929980  \n",
       "5            0.757383  0.603816    0.891946  1.177669  0.091095    2.245337  "
      ]
     },
     "execution_count": 49,
     "metadata": {},
     "output_type": "execute_result"
    }
   ],
   "source": [
    "rules_conf=association_rules(frequent_itemsets1, metric=\"confidence\", min_threshold=0.8)\n",
    "print(rules_conf.shape)\n",
    "rules_conf"
   ]
  },
  {
   "cell_type": "markdown",
   "metadata": {},
   "source": [
    "We will now examine if there are any overlapping rules between the confidence and lift methods."
   ]
  },
  {
   "cell_type": "code",
   "execution_count": 51,
   "metadata": {},
   "outputs": [
    {
     "name": "stdout",
     "output_type": "stream",
     "text": [
      "(12, 9)\n"
     ]
    },
    {
     "data": {
      "text/html": [
       "<div>\n",
       "<style scoped>\n",
       "    .dataframe tbody tr th:only-of-type {\n",
       "        vertical-align: middle;\n",
       "    }\n",
       "\n",
       "    .dataframe tbody tr th {\n",
       "        vertical-align: top;\n",
       "    }\n",
       "\n",
       "    .dataframe thead th {\n",
       "        text-align: right;\n",
       "    }\n",
       "</style>\n",
       "<table border=\"1\" class=\"dataframe\">\n",
       "  <thead>\n",
       "    <tr style=\"text-align: right;\">\n",
       "      <th></th>\n",
       "      <th>antecedents</th>\n",
       "      <th>consequents</th>\n",
       "      <th>antecedent support</th>\n",
       "      <th>consequent support</th>\n",
       "      <th>support</th>\n",
       "      <th>confidence</th>\n",
       "      <th>lift</th>\n",
       "      <th>leverage</th>\n",
       "      <th>conviction</th>\n",
       "    </tr>\n",
       "  </thead>\n",
       "  <tbody>\n",
       "    <tr>\n",
       "      <th>0</th>\n",
       "      <td>(Age_Adult)</td>\n",
       "      <td>(Sex_Male)</td>\n",
       "      <td>0.950477</td>\n",
       "      <td>0.786461</td>\n",
       "      <td>0.757383</td>\n",
       "      <td>0.796845</td>\n",
       "      <td>1.013204</td>\n",
       "      <td>0.009870</td>\n",
       "      <td>1.051116</td>\n",
       "    </tr>\n",
       "    <tr>\n",
       "      <th>1</th>\n",
       "      <td>(Sex_Male)</td>\n",
       "      <td>(Age_Adult)</td>\n",
       "      <td>0.786461</td>\n",
       "      <td>0.950477</td>\n",
       "      <td>0.757383</td>\n",
       "      <td>0.963027</td>\n",
       "      <td>1.013204</td>\n",
       "      <td>0.009870</td>\n",
       "      <td>1.339441</td>\n",
       "    </tr>\n",
       "    <tr>\n",
       "      <th>2</th>\n",
       "      <td>(Survived_No)</td>\n",
       "      <td>(Sex_Male)</td>\n",
       "      <td>0.676965</td>\n",
       "      <td>0.786461</td>\n",
       "      <td>0.619718</td>\n",
       "      <td>0.915436</td>\n",
       "      <td>1.163995</td>\n",
       "      <td>0.087312</td>\n",
       "      <td>2.525187</td>\n",
       "    </tr>\n",
       "    <tr>\n",
       "      <th>3</th>\n",
       "      <td>(Sex_Male)</td>\n",
       "      <td>(Survived_No)</td>\n",
       "      <td>0.786461</td>\n",
       "      <td>0.676965</td>\n",
       "      <td>0.619718</td>\n",
       "      <td>0.787984</td>\n",
       "      <td>1.163995</td>\n",
       "      <td>0.087312</td>\n",
       "      <td>1.523634</td>\n",
       "    </tr>\n",
       "    <tr>\n",
       "      <th>4</th>\n",
       "      <td>(Survived_No)</td>\n",
       "      <td>(Age_Adult)</td>\n",
       "      <td>0.676965</td>\n",
       "      <td>0.950477</td>\n",
       "      <td>0.653339</td>\n",
       "      <td>0.965101</td>\n",
       "      <td>1.015386</td>\n",
       "      <td>0.009900</td>\n",
       "      <td>1.419023</td>\n",
       "    </tr>\n",
       "    <tr>\n",
       "      <th>5</th>\n",
       "      <td>(Age_Adult)</td>\n",
       "      <td>(Survived_No)</td>\n",
       "      <td>0.950477</td>\n",
       "      <td>0.676965</td>\n",
       "      <td>0.653339</td>\n",
       "      <td>0.687380</td>\n",
       "      <td>1.015386</td>\n",
       "      <td>0.009900</td>\n",
       "      <td>1.033317</td>\n",
       "    </tr>\n",
       "    <tr>\n",
       "      <th>6</th>\n",
       "      <td>(Survived_No, Age_Adult)</td>\n",
       "      <td>(Sex_Male)</td>\n",
       "      <td>0.653339</td>\n",
       "      <td>0.786461</td>\n",
       "      <td>0.603816</td>\n",
       "      <td>0.924200</td>\n",
       "      <td>1.175139</td>\n",
       "      <td>0.089991</td>\n",
       "      <td>2.817152</td>\n",
       "    </tr>\n",
       "    <tr>\n",
       "      <th>7</th>\n",
       "      <td>(Survived_No, Sex_Male)</td>\n",
       "      <td>(Age_Adult)</td>\n",
       "      <td>0.619718</td>\n",
       "      <td>0.950477</td>\n",
       "      <td>0.603816</td>\n",
       "      <td>0.974340</td>\n",
       "      <td>1.025106</td>\n",
       "      <td>0.014788</td>\n",
       "      <td>1.929980</td>\n",
       "    </tr>\n",
       "    <tr>\n",
       "      <th>8</th>\n",
       "      <td>(Age_Adult, Sex_Male)</td>\n",
       "      <td>(Survived_No)</td>\n",
       "      <td>0.757383</td>\n",
       "      <td>0.676965</td>\n",
       "      <td>0.603816</td>\n",
       "      <td>0.797241</td>\n",
       "      <td>1.177669</td>\n",
       "      <td>0.091095</td>\n",
       "      <td>1.593193</td>\n",
       "    </tr>\n",
       "    <tr>\n",
       "      <th>9</th>\n",
       "      <td>(Survived_No)</td>\n",
       "      <td>(Age_Adult, Sex_Male)</td>\n",
       "      <td>0.676965</td>\n",
       "      <td>0.757383</td>\n",
       "      <td>0.603816</td>\n",
       "      <td>0.891946</td>\n",
       "      <td>1.177669</td>\n",
       "      <td>0.091095</td>\n",
       "      <td>2.245337</td>\n",
       "    </tr>\n",
       "    <tr>\n",
       "      <th>10</th>\n",
       "      <td>(Age_Adult)</td>\n",
       "      <td>(Survived_No, Sex_Male)</td>\n",
       "      <td>0.950477</td>\n",
       "      <td>0.619718</td>\n",
       "      <td>0.603816</td>\n",
       "      <td>0.635277</td>\n",
       "      <td>1.025106</td>\n",
       "      <td>0.014788</td>\n",
       "      <td>1.042660</td>\n",
       "    </tr>\n",
       "    <tr>\n",
       "      <th>11</th>\n",
       "      <td>(Sex_Male)</td>\n",
       "      <td>(Survived_No, Age_Adult)</td>\n",
       "      <td>0.786461</td>\n",
       "      <td>0.653339</td>\n",
       "      <td>0.603816</td>\n",
       "      <td>0.767764</td>\n",
       "      <td>1.175139</td>\n",
       "      <td>0.089991</td>\n",
       "      <td>1.492710</td>\n",
       "    </tr>\n",
       "  </tbody>\n",
       "</table>\n",
       "</div>"
      ],
      "text/plain": [
       "                 antecedents               consequents  antecedent support  \\\n",
       "0                (Age_Adult)                (Sex_Male)            0.950477   \n",
       "1                 (Sex_Male)               (Age_Adult)            0.786461   \n",
       "2              (Survived_No)                (Sex_Male)            0.676965   \n",
       "3                 (Sex_Male)             (Survived_No)            0.786461   \n",
       "4              (Survived_No)               (Age_Adult)            0.676965   \n",
       "5                (Age_Adult)             (Survived_No)            0.950477   \n",
       "6   (Survived_No, Age_Adult)                (Sex_Male)            0.653339   \n",
       "7    (Survived_No, Sex_Male)               (Age_Adult)            0.619718   \n",
       "8      (Age_Adult, Sex_Male)             (Survived_No)            0.757383   \n",
       "9              (Survived_No)     (Age_Adult, Sex_Male)            0.676965   \n",
       "10               (Age_Adult)   (Survived_No, Sex_Male)            0.950477   \n",
       "11                (Sex_Male)  (Survived_No, Age_Adult)            0.786461   \n",
       "\n",
       "    consequent support   support  confidence      lift  leverage  conviction  \n",
       "0             0.786461  0.757383    0.796845  1.013204  0.009870    1.051116  \n",
       "1             0.950477  0.757383    0.963027  1.013204  0.009870    1.339441  \n",
       "2             0.786461  0.619718    0.915436  1.163995  0.087312    2.525187  \n",
       "3             0.676965  0.619718    0.787984  1.163995  0.087312    1.523634  \n",
       "4             0.950477  0.653339    0.965101  1.015386  0.009900    1.419023  \n",
       "5             0.676965  0.653339    0.687380  1.015386  0.009900    1.033317  \n",
       "6             0.786461  0.603816    0.924200  1.175139  0.089991    2.817152  \n",
       "7             0.950477  0.603816    0.974340  1.025106  0.014788    1.929980  \n",
       "8             0.676965  0.603816    0.797241  1.177669  0.091095    1.593193  \n",
       "9             0.757383  0.603816    0.891946  1.177669  0.091095    2.245337  \n",
       "10            0.619718  0.603816    0.635277  1.025106  0.014788    1.042660  \n",
       "11            0.653339  0.603816    0.767764  1.175139  0.089991    1.492710  "
      ]
     },
     "execution_count": 51,
     "metadata": {},
     "output_type": "execute_result"
    }
   ],
   "source": [
    "rules_lift = association_rules(frequent_itemsets1, metric=\"lift\", min_threshold=1.01)\n",
    "print(rules_lift.shape)\n",
    "rules_lift"
   ]
  },
  {
   "cell_type": "markdown",
   "metadata": {},
   "source": [
    "All the rules that are in rules_conf are also in rules_lift, giving us six very strong rules: <br>\n",
    "1. (Sex_Male)->(Age_Adult)\n",
    "2. (Survived_No)->(Sex_Male)\t\n",
    "3. (Survived_No)->(Age_Adult)\t\n",
    "4. (Survived_No, Age_Adult)->(Sex_Male)\t\n",
    "5. (Survived_No, Sex_Male)->(Age_Adult)\t\n",
    "6. (Survived_No)->(Age_Adult, Sex_Male)\t\n",
    "\n",
    "All six rules have the following traits: <br>\n",
    "1. Minimum support of 0.5\n",
    "2. Minimum confidence of 0.8\n",
    "3. Minimum lift of 1.01"
   ]
  },
  {
   "cell_type": "markdown",
   "metadata": {},
   "source": [
    "#### 8. What rules can you find that tell us about survivors? Who was most likely to survive? How confident are we in those rules?"
   ]
  },
  {
   "cell_type": "markdown",
   "metadata": {},
   "source": [
    "The following rules tell us about survivors (confidence): <br>\n",
    "1. (Survived_No)->(Sex_Male) (0.915)\n",
    "2. (Survived_No)->(Age_Adult) (0.965)\n",
    "3. (Survived_No, Age_Adult)->(Sex_Male) (0.924)\n",
    "4. (Survived_No, Sex_Male)->(Age_Adult) (0.974)\n",
    "5. (Survived_No)->(Age_Adult, Sex_Male) (0.892)\n",
    "\n",
    "Based on these rules, the most likely demographic to survive were probably female children."
   ]
  },
  {
   "cell_type": "markdown",
   "metadata": {},
   "source": [
    "#### 9. Investigate your survivor rules further.  Are there any redundant rules?  Give one example."
   ]
  },
  {
   "cell_type": "markdown",
   "metadata": {},
   "source": [
    "1. (Survived_No, Age_Adult)->(Sex_Male) (0.924)\n",
    "2. (Survived_No, Sex_Male)->(Age_Adult) (0.974)\n",
    "3. (Survived_No)->(Age_Adult, Sex_Male) (0.892)\n",
    "\n",
    "The three rules above have different conditional probabilities due to different support values, which leads to different confidence values, but they point to the same implication that adult males were least likely to survive."
   ]
  },
  {
   "cell_type": "markdown",
   "metadata": {},
   "source": [
    "#### 10. Identify and explain one thing you find interesting in your rules that you wouldn't have expected. "
   ]
  },
  {
   "cell_type": "markdown",
   "metadata": {},
   "source": [
    "Although examining the titanic data set through the use of association rules was interesting, there's actually nothing that is surprising about the results. It is a widely known fact that women and children were evacuated first and adult men last during the sinking of the Titanic. If there's one thing interesting it's that none of the rules indicate that the cabin class level had a strong relationship with the likelihood of survival, despite our EDA saying 1st class passengers had the highest survival rate of 62.46% compared to the other cabin classes."
   ]
  },
  {
   "cell_type": "markdown",
   "metadata": {},
   "source": [
    "#### Extra credit (5 points):  Perform an appropriate clustering exercise on the Titanic data. Do you find any relationship between your association rules and the resulting clusters?  If so, give one example.  If not, why do you think that is?"
   ]
  },
  {
   "cell_type": "code",
   "execution_count": 80,
   "metadata": {},
   "outputs": [],
   "source": [
    "from sklearn.preprocessing import StandardScaler\n",
    "titanic_num_z = pd.DataFrame(StandardScaler().fit_transform(titanic_dummies), columns = titanic_dummies.columns, index = titanic_dummies.index)"
   ]
  },
  {
   "cell_type": "code",
   "execution_count": 81,
   "metadata": {},
   "outputs": [],
   "source": [
    "from sklearn.cluster import KMeans\n",
    "titanic_km = KMeans(n_clusters = 2, random_state = 1234)\n",
    "kmeans_out = titanic_km.fit_predict(titanic_num_z)"
   ]
  },
  {
   "cell_type": "code",
   "execution_count": 82,
   "metadata": {},
   "outputs": [
    {
     "data": {
      "text/html": [
       "<div>\n",
       "<style scoped>\n",
       "    .dataframe tbody tr th:only-of-type {\n",
       "        vertical-align: middle;\n",
       "    }\n",
       "\n",
       "    .dataframe tbody tr th {\n",
       "        vertical-align: top;\n",
       "    }\n",
       "\n",
       "    .dataframe thead th {\n",
       "        text-align: right;\n",
       "    }\n",
       "</style>\n",
       "<table border=\"1\" class=\"dataframe\">\n",
       "  <thead>\n",
       "    <tr style=\"text-align: right;\">\n",
       "      <th></th>\n",
       "      <th>Class</th>\n",
       "      <th>Sex</th>\n",
       "      <th>Age</th>\n",
       "      <th>Survived</th>\n",
       "      <th>kmeans</th>\n",
       "    </tr>\n",
       "  </thead>\n",
       "  <tbody>\n",
       "    <tr>\n",
       "      <th>0</th>\n",
       "      <td>3rd</td>\n",
       "      <td>Male</td>\n",
       "      <td>Child</td>\n",
       "      <td>No</td>\n",
       "      <td>0</td>\n",
       "    </tr>\n",
       "    <tr>\n",
       "      <th>1</th>\n",
       "      <td>3rd</td>\n",
       "      <td>Male</td>\n",
       "      <td>Child</td>\n",
       "      <td>No</td>\n",
       "      <td>0</td>\n",
       "    </tr>\n",
       "    <tr>\n",
       "      <th>2</th>\n",
       "      <td>3rd</td>\n",
       "      <td>Male</td>\n",
       "      <td>Child</td>\n",
       "      <td>No</td>\n",
       "      <td>0</td>\n",
       "    </tr>\n",
       "    <tr>\n",
       "      <th>3</th>\n",
       "      <td>3rd</td>\n",
       "      <td>Male</td>\n",
       "      <td>Child</td>\n",
       "      <td>No</td>\n",
       "      <td>0</td>\n",
       "    </tr>\n",
       "    <tr>\n",
       "      <th>4</th>\n",
       "      <td>3rd</td>\n",
       "      <td>Male</td>\n",
       "      <td>Child</td>\n",
       "      <td>No</td>\n",
       "      <td>0</td>\n",
       "    </tr>\n",
       "  </tbody>\n",
       "</table>\n",
       "</div>"
      ],
      "text/plain": [
       "  Class   Sex    Age Survived  kmeans\n",
       "0   3rd  Male  Child       No       0\n",
       "1   3rd  Male  Child       No       0\n",
       "2   3rd  Male  Child       No       0\n",
       "3   3rd  Male  Child       No       0\n",
       "4   3rd  Male  Child       No       0"
      ]
     },
     "execution_count": 82,
     "metadata": {},
     "output_type": "execute_result"
    }
   ],
   "source": [
    "titanic = titanic.assign(kmeans=titanic_km.labels_)\n",
    "titanic.head(5)"
   ]
  },
  {
   "cell_type": "code",
   "execution_count": 83,
   "metadata": {},
   "outputs": [
    {
     "data": {
      "text/html": [
       "<div>\n",
       "<style scoped>\n",
       "    .dataframe tbody tr th:only-of-type {\n",
       "        vertical-align: middle;\n",
       "    }\n",
       "\n",
       "    .dataframe tbody tr th {\n",
       "        vertical-align: top;\n",
       "    }\n",
       "\n",
       "    .dataframe thead th {\n",
       "        text-align: right;\n",
       "    }\n",
       "</style>\n",
       "<table border=\"1\" class=\"dataframe\">\n",
       "  <thead>\n",
       "    <tr style=\"text-align: right;\">\n",
       "      <th></th>\n",
       "      <th>Class_1st</th>\n",
       "      <th>Class_2nd</th>\n",
       "      <th>Class_3rd</th>\n",
       "      <th>Class_Crew</th>\n",
       "      <th>Sex_Female</th>\n",
       "      <th>Sex_Male</th>\n",
       "      <th>Age_Adult</th>\n",
       "      <th>Age_Child</th>\n",
       "      <th>Survived_No</th>\n",
       "      <th>Survived_Yes</th>\n",
       "    </tr>\n",
       "  </thead>\n",
       "  <tbody>\n",
       "    <tr>\n",
       "      <th>0</th>\n",
       "      <td>-0.416222</td>\n",
       "      <td>-0.385678</td>\n",
       "      <td>1.455185</td>\n",
       "      <td>-0.820056</td>\n",
       "      <td>-0.521075</td>\n",
       "      <td>0.521075</td>\n",
       "      <td>-4.380943</td>\n",
       "      <td>4.380943</td>\n",
       "      <td>0.690783</td>\n",
       "      <td>-0.690783</td>\n",
       "    </tr>\n",
       "    <tr>\n",
       "      <th>1</th>\n",
       "      <td>-0.416222</td>\n",
       "      <td>-0.385678</td>\n",
       "      <td>1.455185</td>\n",
       "      <td>-0.820056</td>\n",
       "      <td>-0.521075</td>\n",
       "      <td>0.521075</td>\n",
       "      <td>-4.380943</td>\n",
       "      <td>4.380943</td>\n",
       "      <td>0.690783</td>\n",
       "      <td>-0.690783</td>\n",
       "    </tr>\n",
       "    <tr>\n",
       "      <th>2</th>\n",
       "      <td>-0.416222</td>\n",
       "      <td>-0.385678</td>\n",
       "      <td>1.455185</td>\n",
       "      <td>-0.820056</td>\n",
       "      <td>-0.521075</td>\n",
       "      <td>0.521075</td>\n",
       "      <td>-4.380943</td>\n",
       "      <td>4.380943</td>\n",
       "      <td>0.690783</td>\n",
       "      <td>-0.690783</td>\n",
       "    </tr>\n",
       "    <tr>\n",
       "      <th>3</th>\n",
       "      <td>-0.416222</td>\n",
       "      <td>-0.385678</td>\n",
       "      <td>1.455185</td>\n",
       "      <td>-0.820056</td>\n",
       "      <td>-0.521075</td>\n",
       "      <td>0.521075</td>\n",
       "      <td>-4.380943</td>\n",
       "      <td>4.380943</td>\n",
       "      <td>0.690783</td>\n",
       "      <td>-0.690783</td>\n",
       "    </tr>\n",
       "    <tr>\n",
       "      <th>4</th>\n",
       "      <td>-0.416222</td>\n",
       "      <td>-0.385678</td>\n",
       "      <td>1.455185</td>\n",
       "      <td>-0.820056</td>\n",
       "      <td>-0.521075</td>\n",
       "      <td>0.521075</td>\n",
       "      <td>-4.380943</td>\n",
       "      <td>4.380943</td>\n",
       "      <td>0.690783</td>\n",
       "      <td>-0.690783</td>\n",
       "    </tr>\n",
       "  </tbody>\n",
       "</table>\n",
       "</div>"
      ],
      "text/plain": [
       "   Class_1st  Class_2nd  Class_3rd  Class_Crew  Sex_Female  Sex_Male  \\\n",
       "0  -0.416222  -0.385678   1.455185   -0.820056   -0.521075  0.521075   \n",
       "1  -0.416222  -0.385678   1.455185   -0.820056   -0.521075  0.521075   \n",
       "2  -0.416222  -0.385678   1.455185   -0.820056   -0.521075  0.521075   \n",
       "3  -0.416222  -0.385678   1.455185   -0.820056   -0.521075  0.521075   \n",
       "4  -0.416222  -0.385678   1.455185   -0.820056   -0.521075  0.521075   \n",
       "\n",
       "   Age_Adult  Age_Child  Survived_No  Survived_Yes  \n",
       "0  -4.380943   4.380943     0.690783     -0.690783  \n",
       "1  -4.380943   4.380943     0.690783     -0.690783  \n",
       "2  -4.380943   4.380943     0.690783     -0.690783  \n",
       "3  -4.380943   4.380943     0.690783     -0.690783  \n",
       "4  -4.380943   4.380943     0.690783     -0.690783  "
      ]
     },
     "execution_count": 83,
     "metadata": {},
     "output_type": "execute_result"
    }
   ],
   "source": [
    "titanic_num_z.head()"
   ]
  },
  {
   "cell_type": "code",
   "execution_count": 93,
   "metadata": {},
   "outputs": [
    {
     "data": {
      "text/html": [
       "<div>\n",
       "<style scoped>\n",
       "    .dataframe tbody tr th:only-of-type {\n",
       "        vertical-align: middle;\n",
       "    }\n",
       "\n",
       "    .dataframe tbody tr th {\n",
       "        vertical-align: top;\n",
       "    }\n",
       "\n",
       "    .dataframe thead th {\n",
       "        text-align: right;\n",
       "    }\n",
       "</style>\n",
       "<table border=\"1\" class=\"dataframe\">\n",
       "  <thead>\n",
       "    <tr style=\"text-align: right;\">\n",
       "      <th></th>\n",
       "      <th>0</th>\n",
       "      <th>1</th>\n",
       "      <th>2</th>\n",
       "      <th>3</th>\n",
       "      <th>4</th>\n",
       "      <th>5</th>\n",
       "      <th>6</th>\n",
       "      <th>7</th>\n",
       "      <th>8</th>\n",
       "      <th>9</th>\n",
       "    </tr>\n",
       "  </thead>\n",
       "  <tbody>\n",
       "    <tr>\n",
       "      <th>0</th>\n",
       "      <td>-0.214024</td>\n",
       "      <td>-0.081489</td>\n",
       "      <td>-0.039925</td>\n",
       "      <td>0.248658</td>\n",
       "      <td>-0.521075</td>\n",
       "      <td>0.521075</td>\n",
       "      <td>0.130193</td>\n",
       "      <td>-0.130193</td>\n",
       "      <td>0.325497</td>\n",
       "      <td>-0.325497</td>\n",
       "    </tr>\n",
       "    <tr>\n",
       "      <th>1</th>\n",
       "      <td>0.633218</td>\n",
       "      <td>0.241096</td>\n",
       "      <td>0.118122</td>\n",
       "      <td>-0.735689</td>\n",
       "      <td>1.541670</td>\n",
       "      <td>-1.541670</td>\n",
       "      <td>-0.385194</td>\n",
       "      <td>0.385194</td>\n",
       "      <td>-0.963028</td>\n",
       "      <td>0.963028</td>\n",
       "    </tr>\n",
       "  </tbody>\n",
       "</table>\n",
       "</div>"
      ],
      "text/plain": [
       "          0         1         2         3         4         5         6  \\\n",
       "0 -0.214024 -0.081489 -0.039925  0.248658 -0.521075  0.521075  0.130193   \n",
       "1  0.633218  0.241096  0.118122 -0.735689  1.541670 -1.541670 -0.385194   \n",
       "\n",
       "          7         8         9  \n",
       "0 -0.130193  0.325497 -0.325497  \n",
       "1  0.385194 -0.963028  0.963028  "
      ]
     },
     "execution_count": 93,
     "metadata": {},
     "output_type": "execute_result"
    }
   ],
   "source": [
    "pd.DataFrame(titanic_km.cluster_centers_)"
   ]
  },
  {
   "cell_type": "code",
   "execution_count": 95,
   "metadata": {},
   "outputs": [
    {
     "data": {
      "image/png": "[encoded data removed]",
      "text/plain": [
       "<Figure size 432x288 with 1 Axes>"
      ]
     },
     "metadata": {
      "needs_background": "light"
     },
     "output_type": "display_data"
    }
   ],
   "source": [
    "plt.scatter(titanic_num_z['Sex_Male'], titanic_num_z['Survived_Yes'], c=titanic.kmeans)\n",
    "plt.scatter(titanic_km.cluster_centers_[:, 0], titanic_km.cluster_centers_[:, 1], c='red', s=50)\n",
    "plt.xlabel('Sex=Male')\n",
    "plt.ylabel('Survived=Yes')\n",
    "plt.show()"
   ]
  },
  {
   "cell_type": "markdown",
   "metadata": {},
   "source": [
    "I don't see a relationship between my association rules and the resulting cluster. This is presumably because the underlying calculation for the two methods are different. While association rules use conditional probabilities between variables to find the relationship between them, clustering measures distances between data points and groups the ones that are close to each other. This is especially difficult in a data set such as this one because all the variables are categorical that can only take in two or three values when converted to dummy variables, so there isn't much distance measuring happening."
   ]
  },
  {
   "cell_type": "markdown",
   "metadata": {},
   "source": [
    "## Working code below"
   ]
  },
  {
   "cell_type": "markdown",
   "metadata": {},
   "source": [
    "All working code is shown under each question."
   ]
  }
 ],
 "metadata": {
  "kernelspec": {
   "display_name": "Python 3",
   "language": "python",
   "name": "python3"
  },
  "language_info": {
   "codemirror_mode": {
    "name": "ipython",
    "version": 3
   },
   "file_extension": ".py",
   "mimetype": "text/x-python",
   "name": "python",
   "nbconvert_exporter": "python",
   "pygments_lexer": "ipython3",
   "version": "3.7.3"
  }
 },
 "nbformat": 4,
 "nbformat_minor": 2
}
