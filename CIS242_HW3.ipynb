{
 "cells": [
  {
   "cell_type": "markdown",
   "metadata": {},
   "source": [
    "## CIS 242\n",
    "\n",
    "## Spring 2020\n",
    "\n",
    "## HOMEWORK ASSIGNMENT 3\n",
    "\n",
    "Please compile your responses use markdown in your Jupyter notebook to answer the questions.  If you prefer, you may also submit a Word or PDF document with the responses along the PDF or HTML version of the completed notebook.   \n",
    "\n",
    "#### Active notebooks (.ipynb files) or raw code (.py files) will NOT be accepted and no points will be given.\n",
    "\n",
    "The code part of the files will not be graded, but they will be checked if necessary to verify your findings and recommendations. Point deductions may occur if there are major discrepancies between your written answers and the output from the code. \n",
    "\n",
    "Please organize your notebook to have the homework responses at the top and the working code underneath.\n",
    "\n",
    "Each question is worth 2 points for a total of **20 points**.\n"
   ]
  },
  {
   "cell_type": "markdown",
   "metadata": {},
   "source": [
    "## Predicting Loans for Universal Bank\n",
    "\n",
    "Remember: You were recently hired as a data scientist by Universal Bank. The bank’s Vice President is interested learning what predictive analytics can do for the bank. She supplies you with a dataset containing information on a sample of customers. Here is a description of each variable in the Universal Bank dataset:\n",
    "\n",
    "* ID: Customer ID \n",
    "* Age: Customer’s age in years\n",
    "* Experience: Number of years of professional work experience\n",
    "* Income: Annual income in thousands of dollars (\\$000)\n",
    "* Zip code: Zip code of home address\n",
    "* Family: Customer’s family size\n",
    "* CC Avg: Average spending on credit cards per month in thousands of dollars (\\$000)\n",
    "* Education: Education level where 1 = Undergraduate; 2 = Graduate; and 3=Advanced/Professional\n",
    "* Mortgage: Value of house mortgage if any; in thousands of dollar (\\$000)\n",
    "* Personal.Loan: Did the customer accept a personal loan offered in the bank’s last campaign? 1=Yes; 0 = No.\n",
    "* Securities.Account: Does the customer have a securities account with the bank? 1 = Yes; 0 = No.\n",
    "* CD.Account: Does the customer have a certificate of deposit (CD) account with the bank? 1 = Yes; 0 = No.\n",
    "* Online: Does the customer use Internet banking facilities? 1 = Yes; 0 = No.\n",
    "* Credit.Card: Does the customer use a credit card issued by Universal Bank? 1 = Yes; 0 = No.\n"
   ]
  },
  {
   "cell_type": "markdown",
   "metadata": {},
   "source": [
    "You have already investigated these data and now we are going to try some regression modelling.\n",
    "\n",
    "#### Do NOT use the zip code variable for this analysis. "
   ]
  },
  {
   "cell_type": "markdown",
   "metadata": {},
   "source": [
    "#### 1. You are asked to explain the relationship between credit card balances and income.  How would you do that?  Assume you have data on income and average credit card balances. How strong is the relationship?"
   ]
  },
  {
   "cell_type": "markdown",
   "metadata": {},
   "source": [
    "Set up environment"
   ]
  },
  {
   "cell_type": "code",
   "execution_count": 1,
   "metadata": {},
   "outputs": [],
   "source": [
    "import numpy as np\n",
    "import pandas as pd\n",
    "import matplotlib.pyplot as plt\n",
    "import random\n",
    "random.seed(12345)\n",
    "pd.set_option('precision', 4)\n",
    "import warnings\n",
    "warnings.filterwarnings(\"ignore\", category=FutureWarning)\n",
    "\n",
    "#environment setup code borrowed from Professor Cannon's CIS 242 Lecture_3.pdf."
   ]
  },
  {
   "cell_type": "markdown",
   "metadata": {},
   "source": [
    "Import CSV file"
   ]
  },
  {
   "cell_type": "code",
   "execution_count": 2,
   "metadata": {},
   "outputs": [
    {
     "data": {
      "text/html": [
       "<div>\n",
       "<style scoped>\n",
       "    .dataframe tbody tr th:only-of-type {\n",
       "        vertical-align: middle;\n",
       "    }\n",
       "\n",
       "    .dataframe tbody tr th {\n",
       "        vertical-align: top;\n",
       "    }\n",
       "\n",
       "    .dataframe thead th {\n",
       "        text-align: right;\n",
       "    }\n",
       "</style>\n",
       "<table border=\"1\" class=\"dataframe\">\n",
       "  <thead>\n",
       "    <tr style=\"text-align: right;\">\n",
       "      <th></th>\n",
       "      <th>Income</th>\n",
       "      <th>CCAvg</th>\n",
       "    </tr>\n",
       "  </thead>\n",
       "  <tbody>\n",
       "    <tr>\n",
       "      <th>0</th>\n",
       "      <td>49</td>\n",
       "      <td>1.6</td>\n",
       "    </tr>\n",
       "    <tr>\n",
       "      <th>1</th>\n",
       "      <td>34</td>\n",
       "      <td>1.5</td>\n",
       "    </tr>\n",
       "    <tr>\n",
       "      <th>2</th>\n",
       "      <td>11</td>\n",
       "      <td>1.0</td>\n",
       "    </tr>\n",
       "    <tr>\n",
       "      <th>3</th>\n",
       "      <td>100</td>\n",
       "      <td>2.7</td>\n",
       "    </tr>\n",
       "    <tr>\n",
       "      <th>4</th>\n",
       "      <td>45</td>\n",
       "      <td>1.0</td>\n",
       "    </tr>\n",
       "  </tbody>\n",
       "</table>\n",
       "</div>"
      ],
      "text/plain": [
       "   Income  CCAvg\n",
       "0      49    1.6\n",
       "1      34    1.5\n",
       "2      11    1.0\n",
       "3     100    2.7\n",
       "4      45    1.0"
      ]
     },
     "execution_count": 2,
     "metadata": {},
     "output_type": "execute_result"
    }
   ],
   "source": [
    "UB_df = pd.read_csv('UniversalBank.csv')\n",
    "bank = pd.DataFrame(UB_df)\n",
    "\n",
    "#create a copy of bank dataframe and drop all columns except for 'Income' and 'CCAvg' to get better picture.\n",
    "bank_copy = bank.drop(columns=['Age','Experience','ZIP Code','Family','Education','Mortgage','Personal Loan',\n",
    "                                    'Securities Account', 'CD Account','Online','CreditCard'], axis = 0)\n",
    "bank_copy.head()"
   ]
  },
  {
   "cell_type": "code",
   "execution_count": 3,
   "metadata": {},
   "outputs": [
    {
     "data": {
      "text/html": [
       "<div>\n",
       "<style scoped>\n",
       "    .dataframe tbody tr th:only-of-type {\n",
       "        vertical-align: middle;\n",
       "    }\n",
       "\n",
       "    .dataframe tbody tr th {\n",
       "        vertical-align: top;\n",
       "    }\n",
       "\n",
       "    .dataframe thead th {\n",
       "        text-align: right;\n",
       "    }\n",
       "</style>\n",
       "<table border=\"1\" class=\"dataframe\">\n",
       "  <thead>\n",
       "    <tr style=\"text-align: right;\">\n",
       "      <th></th>\n",
       "      <th>Income</th>\n",
       "      <th>CCAvg</th>\n",
       "    </tr>\n",
       "  </thead>\n",
       "  <tbody>\n",
       "    <tr>\n",
       "      <th>Income</th>\n",
       "      <td>1.00</td>\n",
       "      <td>0.65</td>\n",
       "    </tr>\n",
       "    <tr>\n",
       "      <th>CCAvg</th>\n",
       "      <td>0.65</td>\n",
       "      <td>1.00</td>\n",
       "    </tr>\n",
       "  </tbody>\n",
       "</table>\n",
       "</div>"
      ],
      "text/plain": [
       "        Income  CCAvg\n",
       "Income    1.00   0.65\n",
       "CCAvg     0.65   1.00"
      ]
     },
     "execution_count": 3,
     "metadata": {},
     "output_type": "execute_result"
    }
   ],
   "source": [
    "bank_copy.corr().round(2)"
   ]
  },
  {
   "cell_type": "markdown",
   "metadata": {},
   "source": [
    "The correlation(r) between income and credit card balance is 0.65."
   ]
  },
  {
   "cell_type": "code",
   "execution_count": 4,
   "metadata": {},
   "outputs": [
    {
     "data": {
      "text/plain": [
       "Text(0, 0.5, 'Credit card balance ($000)')"
      ]
     },
     "execution_count": 4,
     "metadata": {},
     "output_type": "execute_result"
    },
    {
     "data": {
      "image/png": "[encoded data removed]",
      "text/plain": [
       "<Figure size 1080x360 with 1 Axes>"
      ]
     },
     "metadata": {
      "needs_background": "light"
     },
     "output_type": "display_data"
    }
   ],
   "source": [
    "plt.figure(figsize=(15,5))\n",
    "\n",
    "feature = bank_copy['Income']\n",
    "target = bank_copy['CCAvg']\n",
    "#code borrowed from Professor Cannon's CIS 242 Lecture_3.pdf.\n",
    "\n",
    "x=feature\n",
    "y=target\n",
    "plt.scatter(x, y, marker='o')\n",
    "plt.title('Income vs. Credit card balance')\n",
    "plt.xlabel('Income ($000)')\n",
    "plt.ylabel('Credit card balance ($000)')\n",
    "#create a scatter plot between income and credit card balance."
   ]
  },
  {
   "cell_type": "code",
   "execution_count": 5,
   "metadata": {},
   "outputs": [
    {
     "name": "stdout",
     "output_type": "stream",
     "text": [
      "(5000, 1) (5000,)\n"
     ]
    }
   ],
   "source": [
    "import statsmodels.api as sm\n",
    "from sklearn.linear_model import LinearRegression\n",
    "\n",
    "X = pd.DataFrame(bank_copy.Income)\n",
    "Y = bank_copy.CCAvg\n",
    "print(X.shape, Y.shape)\n",
    "#code borrowed from Professor Cannon's CIS 242 Lecture_3.pdf."
   ]
  },
  {
   "cell_type": "code",
   "execution_count": 6,
   "metadata": {},
   "outputs": [
    {
     "name": "stdout",
     "output_type": "stream",
     "text": [
      "                            OLS Regression Results                            \n",
      "==============================================================================\n",
      "Dep. Variable:                  CCAvg   R-squared:                       0.417\n",
      "Model:                            OLS   Adj. R-squared:                  0.417\n",
      "Method:                 Least Squares   F-statistic:                     3579.\n",
      "Date:                Sun, 28 Jun 2020   Prob (F-statistic):               0.00\n",
      "Time:                        15:45:16   Log-Likelihood:                -8535.4\n",
      "No. Observations:                5000   AIC:                         1.707e+04\n",
      "Df Residuals:                    4998   BIC:                         1.709e+04\n",
      "Df Model:                           1                                         \n",
      "Covariance Type:            nonrobust                                         \n",
      "==============================================================================\n",
      "                 coef    std err          t      P>|t|      [0.025      0.975]\n",
      "------------------------------------------------------------------------------\n",
      "const          0.1286      0.036      3.608      0.000       0.059       0.198\n",
      "Income         0.0245      0.000     59.828      0.000       0.024       0.025\n",
      "==============================================================================\n",
      "Omnibus:                      216.105   Durbin-Watson:                   1.965\n",
      "Prob(Omnibus):                  0.000   Jarque-Bera (JB):              501.146\n",
      "Skew:                           0.259   Prob(JB):                    1.50e-109\n",
      "Kurtosis:                       4.462   Cond. No.                         164.\n",
      "==============================================================================\n",
      "\n",
      "Warnings:\n",
      "[1] Standard Errors assume that the covariance matrix of the errors is correctly specified.\n"
     ]
    }
   ],
   "source": [
    "x2 = sm.add_constant(X)\n",
    "models = sm.OLS(Y, x2)\n",
    "result = models.fit()\n",
    "print(result.summary())\n",
    "#code borrowed from Professor Cannon's CIS 242 Lecture_3.pdf."
   ]
  },
  {
   "cell_type": "markdown",
   "metadata": {},
   "source": [
    "R^2 = 0.417, indicating that around 41.7% of variability in credit card balance is attributable to income level."
   ]
  },
  {
   "cell_type": "code",
   "execution_count": 10,
   "metadata": {},
   "outputs": [
    {
     "name": "stdout",
     "output_type": "stream",
     "text": [
      "Intercept:  0.12859758458618797\n",
      "Coefficient of Income:  [0.02452505]\n"
     ]
    }
   ],
   "source": [
    "lin_model = LinearRegression()\n",
    "lin_model.fit(X, bank_copy.CCAvg)\n",
    "\n",
    "print('Intercept: ', lin_model.intercept_)\n",
    "print('Coefficient of Income: ', lin_model.coef_)\n",
    "#code borrowed from Professor Cannon's CIS 242 Lecture_3.pdf."
   ]
  },
  {
   "cell_type": "markdown",
   "metadata": {},
   "source": [
    "Linear regression model of income as independent variable and credit card balance as dependent variable:\n",
    "CCAvg = 0.129 + 0.025 * Income"
   ]
  },
  {
   "cell_type": "code",
   "execution_count": 11,
   "metadata": {},
   "outputs": [
    {
     "data": {
      "text/html": [
       "<div>\n",
       "<style scoped>\n",
       "    .dataframe tbody tr th:only-of-type {\n",
       "        vertical-align: middle;\n",
       "    }\n",
       "\n",
       "    .dataframe tbody tr th {\n",
       "        vertical-align: top;\n",
       "    }\n",
       "\n",
       "    .dataframe thead th {\n",
       "        text-align: right;\n",
       "    }\n",
       "</style>\n",
       "<table border=\"1\" class=\"dataframe\">\n",
       "  <thead>\n",
       "    <tr style=\"text-align: right;\">\n",
       "      <th></th>\n",
       "      <th>Actual</th>\n",
       "      <th>Fitted</th>\n",
       "    </tr>\n",
       "  </thead>\n",
       "  <tbody>\n",
       "    <tr>\n",
       "      <th>0</th>\n",
       "      <td>1.6</td>\n",
       "      <td>1.3303</td>\n",
       "    </tr>\n",
       "    <tr>\n",
       "      <th>1</th>\n",
       "      <td>1.5</td>\n",
       "      <td>0.9624</td>\n",
       "    </tr>\n",
       "    <tr>\n",
       "      <th>2</th>\n",
       "      <td>1.0</td>\n",
       "      <td>0.3984</td>\n",
       "    </tr>\n",
       "    <tr>\n",
       "      <th>3</th>\n",
       "      <td>2.7</td>\n",
       "      <td>2.5811</td>\n",
       "    </tr>\n",
       "    <tr>\n",
       "      <th>4</th>\n",
       "      <td>1.0</td>\n",
       "      <td>1.2322</td>\n",
       "    </tr>\n",
       "  </tbody>\n",
       "</table>\n",
       "</div>"
      ],
      "text/plain": [
       "   Actual  Fitted\n",
       "0     1.6  1.3303\n",
       "1     1.5  0.9624\n",
       "2     1.0  0.3984\n",
       "3     2.7  2.5811\n",
       "4     1.0  1.2322"
      ]
     },
     "execution_count": 11,
     "metadata": {},
     "output_type": "execute_result"
    }
   ],
   "source": [
    "Y_pred = lin_model.predict(X)\n",
    "\n",
    "frame = {'Actual': Y, 'Fitted': Y_pred}\n",
    "compare = pd.DataFrame(frame)\n",
    "\n",
    "compare.head()\n",
    "#code borrowed from Professor Cannon's CIS 242 Lecture_3.pdf."
   ]
  },
  {
   "cell_type": "code",
   "execution_count": 12,
   "metadata": {},
   "outputs": [
    {
     "data": {
      "image/png": "[encoded data removed]",
      "text/plain": [
       "<Figure size 1080x360 with 1 Axes>"
      ]
     },
     "metadata": {
      "needs_background": "light"
     },
     "output_type": "display_data"
    }
   ],
   "source": [
    "plt.figure(figsize=(15,5))\n",
    "plt.scatter(X, Y)\n",
    "plt.plot(X, Y_pred, color='red')\n",
    "plt.show()"
   ]
  },
  {
   "cell_type": "markdown",
   "metadata": {},
   "source": [
    "#### 2. Now consider all the data you have.   What changes do you need to make to the data, if any? How much does credit use co-vary with income when you consider all the information? How strong is the relationship?"
   ]
  },
  {
   "cell_type": "markdown",
   "metadata": {},
   "source": [
    "Drop ZIP Code from the dataframe as the numeric input of a variable that is actually categorical would impact the correlation coefficient values. As discussed in HW 2, zip codes provides no relevant information about the customer, besides assumptions. Because our assumptions that areas/zip codes are related to wealth or demographics of the population, it could introduce bias."
   ]
  },
  {
   "cell_type": "code",
   "execution_count": 20,
   "metadata": {},
   "outputs": [
    {
     "data": {
      "text/html": [
       "<div>\n",
       "<style scoped>\n",
       "    .dataframe tbody tr th:only-of-type {\n",
       "        vertical-align: middle;\n",
       "    }\n",
       "\n",
       "    .dataframe tbody tr th {\n",
       "        vertical-align: top;\n",
       "    }\n",
       "\n",
       "    .dataframe thead th {\n",
       "        text-align: right;\n",
       "    }\n",
       "</style>\n",
       "<table border=\"1\" class=\"dataframe\">\n",
       "  <thead>\n",
       "    <tr style=\"text-align: right;\">\n",
       "      <th></th>\n",
       "      <th>Age</th>\n",
       "      <th>Experience</th>\n",
       "      <th>Income</th>\n",
       "      <th>Family</th>\n",
       "      <th>CCAvg</th>\n",
       "      <th>Education</th>\n",
       "      <th>Mortgage</th>\n",
       "      <th>Personal Loan</th>\n",
       "      <th>Securities Account</th>\n",
       "      <th>CD Account</th>\n",
       "      <th>Online</th>\n",
       "      <th>CreditCard</th>\n",
       "    </tr>\n",
       "  </thead>\n",
       "  <tbody>\n",
       "    <tr>\n",
       "      <th>0</th>\n",
       "      <td>25</td>\n",
       "      <td>1</td>\n",
       "      <td>49</td>\n",
       "      <td>4</td>\n",
       "      <td>1.6</td>\n",
       "      <td>1</td>\n",
       "      <td>0</td>\n",
       "      <td>0</td>\n",
       "      <td>1</td>\n",
       "      <td>0</td>\n",
       "      <td>0</td>\n",
       "      <td>0</td>\n",
       "    </tr>\n",
       "    <tr>\n",
       "      <th>1</th>\n",
       "      <td>45</td>\n",
       "      <td>19</td>\n",
       "      <td>34</td>\n",
       "      <td>3</td>\n",
       "      <td>1.5</td>\n",
       "      <td>1</td>\n",
       "      <td>0</td>\n",
       "      <td>0</td>\n",
       "      <td>1</td>\n",
       "      <td>0</td>\n",
       "      <td>0</td>\n",
       "      <td>0</td>\n",
       "    </tr>\n",
       "    <tr>\n",
       "      <th>2</th>\n",
       "      <td>39</td>\n",
       "      <td>15</td>\n",
       "      <td>11</td>\n",
       "      <td>1</td>\n",
       "      <td>1.0</td>\n",
       "      <td>1</td>\n",
       "      <td>0</td>\n",
       "      <td>0</td>\n",
       "      <td>0</td>\n",
       "      <td>0</td>\n",
       "      <td>0</td>\n",
       "      <td>0</td>\n",
       "    </tr>\n",
       "    <tr>\n",
       "      <th>3</th>\n",
       "      <td>35</td>\n",
       "      <td>9</td>\n",
       "      <td>100</td>\n",
       "      <td>1</td>\n",
       "      <td>2.7</td>\n",
       "      <td>2</td>\n",
       "      <td>0</td>\n",
       "      <td>0</td>\n",
       "      <td>0</td>\n",
       "      <td>0</td>\n",
       "      <td>0</td>\n",
       "      <td>0</td>\n",
       "    </tr>\n",
       "    <tr>\n",
       "      <th>4</th>\n",
       "      <td>35</td>\n",
       "      <td>8</td>\n",
       "      <td>45</td>\n",
       "      <td>4</td>\n",
       "      <td>1.0</td>\n",
       "      <td>2</td>\n",
       "      <td>0</td>\n",
       "      <td>0</td>\n",
       "      <td>0</td>\n",
       "      <td>0</td>\n",
       "      <td>0</td>\n",
       "      <td>1</td>\n",
       "    </tr>\n",
       "  </tbody>\n",
       "</table>\n",
       "</div>"
      ],
      "text/plain": [
       "   Age  Experience  Income  Family  CCAvg  Education  Mortgage  Personal Loan  \\\n",
       "0   25           1      49       4    1.6          1         0              0   \n",
       "1   45          19      34       3    1.5          1         0              0   \n",
       "2   39          15      11       1    1.0          1         0              0   \n",
       "3   35           9     100       1    2.7          2         0              0   \n",
       "4   35           8      45       4    1.0          2         0              0   \n",
       "\n",
       "   Securities Account  CD Account  Online  CreditCard  \n",
       "0                   1           0       0           0  \n",
       "1                   1           0       0           0  \n",
       "2                   0           0       0           0  \n",
       "3                   0           0       0           0  \n",
       "4                   0           0       0           1  "
      ]
     },
     "execution_count": 20,
     "metadata": {},
     "output_type": "execute_result"
    }
   ],
   "source": [
    "bank_copy1 = bank\n",
    "del bank_copy1['ZIP Code']\n",
    "bank_copy1.head()"
   ]
  },
  {
   "cell_type": "markdown",
   "metadata": {},
   "source": [
    "Another variable that needs to be modified is education because the variable is ordinal. If we compute the correlation with 'Edcuation' as it is, the linear regression model would interpret the value as 'years of education' instead of 'levels of education', which would lead us to misinterpret this variable's coefficient. Therefore, we need to subcategorize education levels into dummy variables."
   ]
  },
  {
   "cell_type": "code",
   "execution_count": 21,
   "metadata": {},
   "outputs": [],
   "source": [
    "#create empty lists that will later be treated as objects to fill in each education level column.\n",
    "undergrad = []\n",
    "grad = []\n",
    "prof = []\n",
    "\n",
    "#create function that takes in education level as argument and add dummy varaible values (0 or 1) in corresponding education\n",
    "#level column.\n",
    "def edu_lvl(val):\n",
    "    if val == 1:\n",
    "        undergrad.append(1)\n",
    "        grad.append(0)\n",
    "        prof.append(0)\n",
    "    elif val == 2:\n",
    "        undergrad.append(0)\n",
    "        grad.append(1)\n",
    "        prof.append(0)\n",
    "    elif val == 3:\n",
    "        undergrad.append(0)\n",
    "        grad.append(0)\n",
    "        prof.append(1)\n",
    "\n",
    "#execute function for each row value of the 'Education column'.\n",
    "for i in bank_copy1['Education']:\n",
    "    edu_lvl(i)"
   ]
  },
  {
   "cell_type": "code",
   "execution_count": 22,
   "metadata": {},
   "outputs": [],
   "source": [
    "#add dummy variables to columns.\n",
    "bank_copy1.insert(2, \"Undergrad\", undergrad, True)\n",
    "bank_copy1.insert(3, \"Grad\", grad, True)\n",
    "bank_copy1.insert(4, \"Prof\", prof, True)\n",
    "#code borrowed from https://www.geeksforgeeks.org/adding-new-column-to-existing-dataframe-in-pandas/"
   ]
  },
  {
   "cell_type": "code",
   "execution_count": 23,
   "metadata": {},
   "outputs": [
    {
     "data": {
      "text/html": [
       "<div>\n",
       "<style scoped>\n",
       "    .dataframe tbody tr th:only-of-type {\n",
       "        vertical-align: middle;\n",
       "    }\n",
       "\n",
       "    .dataframe tbody tr th {\n",
       "        vertical-align: top;\n",
       "    }\n",
       "\n",
       "    .dataframe thead th {\n",
       "        text-align: right;\n",
       "    }\n",
       "</style>\n",
       "<table border=\"1\" class=\"dataframe\">\n",
       "  <thead>\n",
       "    <tr style=\"text-align: right;\">\n",
       "      <th></th>\n",
       "      <th>Age</th>\n",
       "      <th>Experience</th>\n",
       "      <th>Undergrad</th>\n",
       "      <th>Grad</th>\n",
       "      <th>Prof</th>\n",
       "      <th>Income</th>\n",
       "      <th>Family</th>\n",
       "      <th>CCAvg</th>\n",
       "      <th>Mortgage</th>\n",
       "      <th>Personal Loan</th>\n",
       "      <th>Securities Account</th>\n",
       "      <th>CD Account</th>\n",
       "      <th>Online</th>\n",
       "      <th>CreditCard</th>\n",
       "    </tr>\n",
       "  </thead>\n",
       "  <tbody>\n",
       "    <tr>\n",
       "      <th>0</th>\n",
       "      <td>25</td>\n",
       "      <td>1</td>\n",
       "      <td>1</td>\n",
       "      <td>0</td>\n",
       "      <td>0</td>\n",
       "      <td>49</td>\n",
       "      <td>4</td>\n",
       "      <td>1.6</td>\n",
       "      <td>0</td>\n",
       "      <td>0</td>\n",
       "      <td>1</td>\n",
       "      <td>0</td>\n",
       "      <td>0</td>\n",
       "      <td>0</td>\n",
       "    </tr>\n",
       "    <tr>\n",
       "      <th>1</th>\n",
       "      <td>45</td>\n",
       "      <td>19</td>\n",
       "      <td>1</td>\n",
       "      <td>0</td>\n",
       "      <td>0</td>\n",
       "      <td>34</td>\n",
       "      <td>3</td>\n",
       "      <td>1.5</td>\n",
       "      <td>0</td>\n",
       "      <td>0</td>\n",
       "      <td>1</td>\n",
       "      <td>0</td>\n",
       "      <td>0</td>\n",
       "      <td>0</td>\n",
       "    </tr>\n",
       "    <tr>\n",
       "      <th>2</th>\n",
       "      <td>39</td>\n",
       "      <td>15</td>\n",
       "      <td>1</td>\n",
       "      <td>0</td>\n",
       "      <td>0</td>\n",
       "      <td>11</td>\n",
       "      <td>1</td>\n",
       "      <td>1.0</td>\n",
       "      <td>0</td>\n",
       "      <td>0</td>\n",
       "      <td>0</td>\n",
       "      <td>0</td>\n",
       "      <td>0</td>\n",
       "      <td>0</td>\n",
       "    </tr>\n",
       "    <tr>\n",
       "      <th>3</th>\n",
       "      <td>35</td>\n",
       "      <td>9</td>\n",
       "      <td>0</td>\n",
       "      <td>1</td>\n",
       "      <td>0</td>\n",
       "      <td>100</td>\n",
       "      <td>1</td>\n",
       "      <td>2.7</td>\n",
       "      <td>0</td>\n",
       "      <td>0</td>\n",
       "      <td>0</td>\n",
       "      <td>0</td>\n",
       "      <td>0</td>\n",
       "      <td>0</td>\n",
       "    </tr>\n",
       "    <tr>\n",
       "      <th>4</th>\n",
       "      <td>35</td>\n",
       "      <td>8</td>\n",
       "      <td>0</td>\n",
       "      <td>1</td>\n",
       "      <td>0</td>\n",
       "      <td>45</td>\n",
       "      <td>4</td>\n",
       "      <td>1.0</td>\n",
       "      <td>0</td>\n",
       "      <td>0</td>\n",
       "      <td>0</td>\n",
       "      <td>0</td>\n",
       "      <td>0</td>\n",
       "      <td>1</td>\n",
       "    </tr>\n",
       "  </tbody>\n",
       "</table>\n",
       "</div>"
      ],
      "text/plain": [
       "   Age  Experience  Undergrad  Grad  Prof  Income  Family  CCAvg  Mortgage  \\\n",
       "0   25           1          1     0     0      49       4    1.6         0   \n",
       "1   45          19          1     0     0      34       3    1.5         0   \n",
       "2   39          15          1     0     0      11       1    1.0         0   \n",
       "3   35           9          0     1     0     100       1    2.7         0   \n",
       "4   35           8          0     1     0      45       4    1.0         0   \n",
       "\n",
       "   Personal Loan  Securities Account  CD Account  Online  CreditCard  \n",
       "0              0                   1           0       0           0  \n",
       "1              0                   1           0       0           0  \n",
       "2              0                   0           0       0           0  \n",
       "3              0                   0           0       0           0  \n",
       "4              0                   0           0       0           1  "
      ]
     },
     "execution_count": 23,
     "metadata": {},
     "output_type": "execute_result"
    }
   ],
   "source": [
    "del bank_copy1['Education']\n",
    "bank_copy1.head()"
   ]
  },
  {
   "cell_type": "code",
   "execution_count": 24,
   "metadata": {},
   "outputs": [
    {
     "data": {
      "text/html": [
       "<div>\n",
       "<style scoped>\n",
       "    .dataframe tbody tr th:only-of-type {\n",
       "        vertical-align: middle;\n",
       "    }\n",
       "\n",
       "    .dataframe tbody tr th {\n",
       "        vertical-align: top;\n",
       "    }\n",
       "\n",
       "    .dataframe thead th {\n",
       "        text-align: right;\n",
       "    }\n",
       "</style>\n",
       "<table border=\"1\" class=\"dataframe\">\n",
       "  <thead>\n",
       "    <tr style=\"text-align: right;\">\n",
       "      <th></th>\n",
       "      <th>Age</th>\n",
       "      <th>Experience</th>\n",
       "      <th>Undergrad</th>\n",
       "      <th>Grad</th>\n",
       "      <th>Prof</th>\n",
       "      <th>Income</th>\n",
       "      <th>Family</th>\n",
       "      <th>CCAvg</th>\n",
       "      <th>Mortgage</th>\n",
       "      <th>Personal Loan</th>\n",
       "      <th>Securities Account</th>\n",
       "      <th>CD Account</th>\n",
       "      <th>Online</th>\n",
       "      <th>CreditCard</th>\n",
       "    </tr>\n",
       "  </thead>\n",
       "  <tbody>\n",
       "    <tr>\n",
       "      <th>Age</th>\n",
       "      <td>1.00</td>\n",
       "      <td>0.99</td>\n",
       "      <td>-0.03</td>\n",
       "      <td>-0.02</td>\n",
       "      <td>0.05</td>\n",
       "      <td>-0.06</td>\n",
       "      <td>-0.05</td>\n",
       "      <td>-0.05</td>\n",
       "      <td>-0.01</td>\n",
       "      <td>-0.01</td>\n",
       "      <td>-0.00</td>\n",
       "      <td>0.01</td>\n",
       "      <td>0.01</td>\n",
       "      <td>0.01</td>\n",
       "    </tr>\n",
       "    <tr>\n",
       "      <th>Experience</th>\n",
       "      <td>0.99</td>\n",
       "      <td>1.00</td>\n",
       "      <td>-0.00</td>\n",
       "      <td>-0.02</td>\n",
       "      <td>0.02</td>\n",
       "      <td>-0.05</td>\n",
       "      <td>-0.05</td>\n",
       "      <td>-0.05</td>\n",
       "      <td>-0.01</td>\n",
       "      <td>-0.01</td>\n",
       "      <td>-0.00</td>\n",
       "      <td>0.01</td>\n",
       "      <td>0.01</td>\n",
       "      <td>0.01</td>\n",
       "    </tr>\n",
       "    <tr>\n",
       "      <th>Undergrad</th>\n",
       "      <td>-0.03</td>\n",
       "      <td>-0.00</td>\n",
       "      <td>1.00</td>\n",
       "      <td>-0.53</td>\n",
       "      <td>-0.56</td>\n",
       "      <td>0.22</td>\n",
       "      <td>-0.12</td>\n",
       "      <td>0.16</td>\n",
       "      <td>0.04</td>\n",
       "      <td>-0.15</td>\n",
       "      <td>0.01</td>\n",
       "      <td>-0.01</td>\n",
       "      <td>0.00</td>\n",
       "      <td>0.01</td>\n",
       "    </tr>\n",
       "    <tr>\n",
       "      <th>Grad</th>\n",
       "      <td>-0.02</td>\n",
       "      <td>-0.02</td>\n",
       "      <td>-0.53</td>\n",
       "      <td>1.00</td>\n",
       "      <td>-0.41</td>\n",
       "      <td>-0.13</td>\n",
       "      <td>0.14</td>\n",
       "      <td>-0.09</td>\n",
       "      <td>-0.03</td>\n",
       "      <td>0.07</td>\n",
       "      <td>0.01</td>\n",
       "      <td>0.01</td>\n",
       "      <td>0.02</td>\n",
       "      <td>-0.01</td>\n",
       "    </tr>\n",
       "    <tr>\n",
       "      <th>Prof</th>\n",
       "      <td>0.05</td>\n",
       "      <td>0.02</td>\n",
       "      <td>-0.56</td>\n",
       "      <td>-0.41</td>\n",
       "      <td>1.00</td>\n",
       "      <td>-0.11</td>\n",
       "      <td>-0.01</td>\n",
       "      <td>-0.08</td>\n",
       "      <td>-0.01</td>\n",
       "      <td>0.09</td>\n",
       "      <td>-0.01</td>\n",
       "      <td>0.01</td>\n",
       "      <td>-0.02</td>\n",
       "      <td>-0.00</td>\n",
       "    </tr>\n",
       "    <tr>\n",
       "      <th>Income</th>\n",
       "      <td>-0.06</td>\n",
       "      <td>-0.05</td>\n",
       "      <td>0.22</td>\n",
       "      <td>-0.13</td>\n",
       "      <td>-0.11</td>\n",
       "      <td>1.00</td>\n",
       "      <td>-0.16</td>\n",
       "      <td>0.65</td>\n",
       "      <td>0.21</td>\n",
       "      <td>0.50</td>\n",
       "      <td>-0.00</td>\n",
       "      <td>0.17</td>\n",
       "      <td>0.01</td>\n",
       "      <td>-0.00</td>\n",
       "    </tr>\n",
       "    <tr>\n",
       "      <th>Family</th>\n",
       "      <td>-0.05</td>\n",
       "      <td>-0.05</td>\n",
       "      <td>-0.12</td>\n",
       "      <td>0.14</td>\n",
       "      <td>-0.01</td>\n",
       "      <td>-0.16</td>\n",
       "      <td>1.00</td>\n",
       "      <td>-0.11</td>\n",
       "      <td>-0.02</td>\n",
       "      <td>0.06</td>\n",
       "      <td>0.02</td>\n",
       "      <td>0.01</td>\n",
       "      <td>0.01</td>\n",
       "      <td>0.01</td>\n",
       "    </tr>\n",
       "    <tr>\n",
       "      <th>CCAvg</th>\n",
       "      <td>-0.05</td>\n",
       "      <td>-0.05</td>\n",
       "      <td>0.16</td>\n",
       "      <td>-0.09</td>\n",
       "      <td>-0.08</td>\n",
       "      <td>0.65</td>\n",
       "      <td>-0.11</td>\n",
       "      <td>1.00</td>\n",
       "      <td>0.11</td>\n",
       "      <td>0.37</td>\n",
       "      <td>0.02</td>\n",
       "      <td>0.14</td>\n",
       "      <td>-0.00</td>\n",
       "      <td>-0.01</td>\n",
       "    </tr>\n",
       "    <tr>\n",
       "      <th>Mortgage</th>\n",
       "      <td>-0.01</td>\n",
       "      <td>-0.01</td>\n",
       "      <td>0.04</td>\n",
       "      <td>-0.03</td>\n",
       "      <td>-0.01</td>\n",
       "      <td>0.21</td>\n",
       "      <td>-0.02</td>\n",
       "      <td>0.11</td>\n",
       "      <td>1.00</td>\n",
       "      <td>0.14</td>\n",
       "      <td>-0.01</td>\n",
       "      <td>0.09</td>\n",
       "      <td>-0.01</td>\n",
       "      <td>-0.01</td>\n",
       "    </tr>\n",
       "    <tr>\n",
       "      <th>Personal Loan</th>\n",
       "      <td>-0.01</td>\n",
       "      <td>-0.01</td>\n",
       "      <td>-0.15</td>\n",
       "      <td>0.07</td>\n",
       "      <td>0.09</td>\n",
       "      <td>0.50</td>\n",
       "      <td>0.06</td>\n",
       "      <td>0.37</td>\n",
       "      <td>0.14</td>\n",
       "      <td>1.00</td>\n",
       "      <td>0.02</td>\n",
       "      <td>0.32</td>\n",
       "      <td>0.01</td>\n",
       "      <td>0.00</td>\n",
       "    </tr>\n",
       "    <tr>\n",
       "      <th>Securities Account</th>\n",
       "      <td>-0.00</td>\n",
       "      <td>-0.00</td>\n",
       "      <td>0.01</td>\n",
       "      <td>0.01</td>\n",
       "      <td>-0.01</td>\n",
       "      <td>-0.00</td>\n",
       "      <td>0.02</td>\n",
       "      <td>0.02</td>\n",
       "      <td>-0.01</td>\n",
       "      <td>0.02</td>\n",
       "      <td>1.00</td>\n",
       "      <td>0.32</td>\n",
       "      <td>0.01</td>\n",
       "      <td>-0.02</td>\n",
       "    </tr>\n",
       "    <tr>\n",
       "      <th>CD Account</th>\n",
       "      <td>0.01</td>\n",
       "      <td>0.01</td>\n",
       "      <td>-0.01</td>\n",
       "      <td>0.01</td>\n",
       "      <td>0.01</td>\n",
       "      <td>0.17</td>\n",
       "      <td>0.01</td>\n",
       "      <td>0.14</td>\n",
       "      <td>0.09</td>\n",
       "      <td>0.32</td>\n",
       "      <td>0.32</td>\n",
       "      <td>1.00</td>\n",
       "      <td>0.18</td>\n",
       "      <td>0.28</td>\n",
       "    </tr>\n",
       "    <tr>\n",
       "      <th>Online</th>\n",
       "      <td>0.01</td>\n",
       "      <td>0.01</td>\n",
       "      <td>0.00</td>\n",
       "      <td>0.02</td>\n",
       "      <td>-0.02</td>\n",
       "      <td>0.01</td>\n",
       "      <td>0.01</td>\n",
       "      <td>-0.00</td>\n",
       "      <td>-0.01</td>\n",
       "      <td>0.01</td>\n",
       "      <td>0.01</td>\n",
       "      <td>0.18</td>\n",
       "      <td>1.00</td>\n",
       "      <td>0.00</td>\n",
       "    </tr>\n",
       "    <tr>\n",
       "      <th>CreditCard</th>\n",
       "      <td>0.01</td>\n",
       "      <td>0.01</td>\n",
       "      <td>0.01</td>\n",
       "      <td>-0.01</td>\n",
       "      <td>-0.00</td>\n",
       "      <td>-0.00</td>\n",
       "      <td>0.01</td>\n",
       "      <td>-0.01</td>\n",
       "      <td>-0.01</td>\n",
       "      <td>0.00</td>\n",
       "      <td>-0.02</td>\n",
       "      <td>0.28</td>\n",
       "      <td>0.00</td>\n",
       "      <td>1.00</td>\n",
       "    </tr>\n",
       "  </tbody>\n",
       "</table>\n",
       "</div>"
      ],
      "text/plain": [
       "                     Age  Experience  Undergrad  Grad  Prof  Income  Family  \\\n",
       "Age                 1.00        0.99      -0.03 -0.02  0.05   -0.06   -0.05   \n",
       "Experience          0.99        1.00      -0.00 -0.02  0.02   -0.05   -0.05   \n",
       "Undergrad          -0.03       -0.00       1.00 -0.53 -0.56    0.22   -0.12   \n",
       "Grad               -0.02       -0.02      -0.53  1.00 -0.41   -0.13    0.14   \n",
       "Prof                0.05        0.02      -0.56 -0.41  1.00   -0.11   -0.01   \n",
       "Income             -0.06       -0.05       0.22 -0.13 -0.11    1.00   -0.16   \n",
       "Family             -0.05       -0.05      -0.12  0.14 -0.01   -0.16    1.00   \n",
       "CCAvg              -0.05       -0.05       0.16 -0.09 -0.08    0.65   -0.11   \n",
       "Mortgage           -0.01       -0.01       0.04 -0.03 -0.01    0.21   -0.02   \n",
       "Personal Loan      -0.01       -0.01      -0.15  0.07  0.09    0.50    0.06   \n",
       "Securities Account -0.00       -0.00       0.01  0.01 -0.01   -0.00    0.02   \n",
       "CD Account          0.01        0.01      -0.01  0.01  0.01    0.17    0.01   \n",
       "Online              0.01        0.01       0.00  0.02 -0.02    0.01    0.01   \n",
       "CreditCard          0.01        0.01       0.01 -0.01 -0.00   -0.00    0.01   \n",
       "\n",
       "                    CCAvg  Mortgage  Personal Loan  Securities Account  \\\n",
       "Age                 -0.05     -0.01          -0.01               -0.00   \n",
       "Experience          -0.05     -0.01          -0.01               -0.00   \n",
       "Undergrad            0.16      0.04          -0.15                0.01   \n",
       "Grad                -0.09     -0.03           0.07                0.01   \n",
       "Prof                -0.08     -0.01           0.09               -0.01   \n",
       "Income               0.65      0.21           0.50               -0.00   \n",
       "Family              -0.11     -0.02           0.06                0.02   \n",
       "CCAvg                1.00      0.11           0.37                0.02   \n",
       "Mortgage             0.11      1.00           0.14               -0.01   \n",
       "Personal Loan        0.37      0.14           1.00                0.02   \n",
       "Securities Account   0.02     -0.01           0.02                1.00   \n",
       "CD Account           0.14      0.09           0.32                0.32   \n",
       "Online              -0.00     -0.01           0.01                0.01   \n",
       "CreditCard          -0.01     -0.01           0.00               -0.02   \n",
       "\n",
       "                    CD Account  Online  CreditCard  \n",
       "Age                       0.01    0.01        0.01  \n",
       "Experience                0.01    0.01        0.01  \n",
       "Undergrad                -0.01    0.00        0.01  \n",
       "Grad                      0.01    0.02       -0.01  \n",
       "Prof                      0.01   -0.02       -0.00  \n",
       "Income                    0.17    0.01       -0.00  \n",
       "Family                    0.01    0.01        0.01  \n",
       "CCAvg                     0.14   -0.00       -0.01  \n",
       "Mortgage                  0.09   -0.01       -0.01  \n",
       "Personal Loan             0.32    0.01        0.00  \n",
       "Securities Account        0.32    0.01       -0.02  \n",
       "CD Account                1.00    0.18        0.28  \n",
       "Online                    0.18    1.00        0.00  \n",
       "CreditCard                0.28    0.00        1.00  "
      ]
     },
     "execution_count": 24,
     "metadata": {},
     "output_type": "execute_result"
    }
   ],
   "source": [
    "bank_copy1.corr().round(2)"
   ]
  },
  {
   "cell_type": "markdown",
   "metadata": {},
   "source": [
    "Now that we have multiple independent variables, we will be doing a multiple linear regression analysis."
   ]
  },
  {
   "cell_type": "code",
   "execution_count": 25,
   "metadata": {},
   "outputs": [
    {
     "data": {
      "text/html": [
       "<table class=\"simpletable\">\n",
       "<caption>OLS Regression Results</caption>\n",
       "<tr>\n",
       "  <th>Dep. Variable:</th>          <td>CCAvg</td>      <th>  R-squared:         </th> <td>   0.425</td> \n",
       "</tr>\n",
       "<tr>\n",
       "  <th>Model:</th>                   <td>OLS</td>       <th>  Adj. R-squared:    </th> <td>   0.423</td> \n",
       "</tr>\n",
       "<tr>\n",
       "  <th>Method:</th>             <td>Least Squares</td>  <th>  F-statistic:       </th> <td>   306.6</td> \n",
       "</tr>\n",
       "<tr>\n",
       "  <th>Date:</th>             <td>Sun, 28 Jun 2020</td> <th>  Prob (F-statistic):</th>  <td>  0.00</td>  \n",
       "</tr>\n",
       "<tr>\n",
       "  <th>Time:</th>                 <td>16:02:40</td>     <th>  Log-Likelihood:    </th> <td> -8504.2</td> \n",
       "</tr>\n",
       "<tr>\n",
       "  <th>No. Observations:</th>      <td>  5000</td>      <th>  AIC:               </th> <td>1.703e+04</td>\n",
       "</tr>\n",
       "<tr>\n",
       "  <th>Df Residuals:</th>          <td>  4987</td>      <th>  BIC:               </th> <td>1.712e+04</td>\n",
       "</tr>\n",
       "<tr>\n",
       "  <th>Df Model:</th>              <td>    12</td>      <th>                     </th>     <td> </td>    \n",
       "</tr>\n",
       "<tr>\n",
       "  <th>Covariance Type:</th>      <td>nonrobust</td>    <th>                     </th>     <td> </td>    \n",
       "</tr>\n",
       "</table>\n",
       "<table class=\"simpletable\">\n",
       "<tr>\n",
       "           <td></td>             <th>coef</th>     <th>std err</th>      <th>t</th>      <th>P>|t|</th>  <th>[0.025</th>    <th>0.975]</th>  \n",
       "</tr>\n",
       "<tr>\n",
       "  <th>const</th>              <td>   -0.8391</td> <td>    0.306</td> <td>   -2.740</td> <td> 0.006</td> <td>   -1.439</td> <td>   -0.239</td>\n",
       "</tr>\n",
       "<tr>\n",
       "  <th>Age</th>                <td>    0.0594</td> <td>    0.016</td> <td>    3.751</td> <td> 0.000</td> <td>    0.028</td> <td>    0.090</td>\n",
       "</tr>\n",
       "<tr>\n",
       "  <th>Experience</th>         <td>   -0.0624</td> <td>    0.016</td> <td>   -3.946</td> <td> 0.000</td> <td>   -0.093</td> <td>   -0.031</td>\n",
       "</tr>\n",
       "<tr>\n",
       "  <th>Undergrad</th>          <td>   -0.1746</td> <td>    0.100</td> <td>   -1.739</td> <td> 0.082</td> <td>   -0.371</td> <td>    0.022</td>\n",
       "</tr>\n",
       "<tr>\n",
       "  <th>Grad</th>               <td>   -0.3147</td> <td>    0.106</td> <td>   -2.976</td> <td> 0.003</td> <td>   -0.522</td> <td>   -0.107</td>\n",
       "</tr>\n",
       "<tr>\n",
       "  <th>Prof</th>               <td>   -0.3498</td> <td>    0.111</td> <td>   -3.140</td> <td> 0.002</td> <td>   -0.568</td> <td>   -0.131</td>\n",
       "</tr>\n",
       "<tr>\n",
       "  <th>Income</th>             <td>    0.0229</td> <td>    0.001</td> <td>   44.261</td> <td> 0.000</td> <td>    0.022</td> <td>    0.024</td>\n",
       "</tr>\n",
       "<tr>\n",
       "  <th>Family</th>             <td>   -0.0273</td> <td>    0.017</td> <td>   -1.612</td> <td> 0.107</td> <td>   -0.060</td> <td>    0.006</td>\n",
       "</tr>\n",
       "<tr>\n",
       "  <th>Mortgage</th>           <td>   -0.0005</td> <td>    0.000</td> <td>   -2.576</td> <td> 0.010</td> <td>   -0.001</td> <td>   -0.000</td>\n",
       "</tr>\n",
       "<tr>\n",
       "  <th>Personal Loan</th>      <td>    0.4080</td> <td>    0.082</td> <td>    4.986</td> <td> 0.000</td> <td>    0.248</td> <td>    0.568</td>\n",
       "</tr>\n",
       "<tr>\n",
       "  <th>Securities Account</th> <td>    0.0477</td> <td>    0.066</td> <td>    0.727</td> <td> 0.468</td> <td>   -0.081</td> <td>    0.176</td>\n",
       "</tr>\n",
       "<tr>\n",
       "  <th>CD Account</th>         <td>    0.1467</td> <td>    0.095</td> <td>    1.548</td> <td> 0.122</td> <td>   -0.039</td> <td>    0.332</td>\n",
       "</tr>\n",
       "<tr>\n",
       "  <th>Online</th>             <td>   -0.0577</td> <td>    0.039</td> <td>   -1.476</td> <td> 0.140</td> <td>   -0.134</td> <td>    0.019</td>\n",
       "</tr>\n",
       "<tr>\n",
       "  <th>CreditCard</th>         <td>   -0.0413</td> <td>    0.044</td> <td>   -0.948</td> <td> 0.343</td> <td>   -0.127</td> <td>    0.044</td>\n",
       "</tr>\n",
       "</table>\n",
       "<table class=\"simpletable\">\n",
       "<tr>\n",
       "  <th>Omnibus:</th>       <td>234.178</td> <th>  Durbin-Watson:     </th> <td>   1.969</td> \n",
       "</tr>\n",
       "<tr>\n",
       "  <th>Prob(Omnibus):</th> <td> 0.000</td>  <th>  Jarque-Bera (JB):  </th> <td> 597.920</td> \n",
       "</tr>\n",
       "<tr>\n",
       "  <th>Skew:</th>          <td> 0.250</td>  <th>  Prob(JB):          </th> <td>1.46e-130</td>\n",
       "</tr>\n",
       "<tr>\n",
       "  <th>Kurtosis:</th>      <td> 4.619</td>  <th>  Cond. No.          </th> <td>5.28e+17</td> \n",
       "</tr>\n",
       "</table><br/><br/>Warnings:<br/>[1] Standard Errors assume that the covariance matrix of the errors is correctly specified.<br/>[2] The smallest eigenvalue is 3.18e-28. This might indicate that there are<br/>strong multicollinearity problems or that the design matrix is singular."
      ],
      "text/plain": [
       "<class 'statsmodels.iolib.summary.Summary'>\n",
       "\"\"\"\n",
       "                            OLS Regression Results                            \n",
       "==============================================================================\n",
       "Dep. Variable:                  CCAvg   R-squared:                       0.425\n",
       "Model:                            OLS   Adj. R-squared:                  0.423\n",
       "Method:                 Least Squares   F-statistic:                     306.6\n",
       "Date:                Sun, 28 Jun 2020   Prob (F-statistic):               0.00\n",
       "Time:                        16:02:40   Log-Likelihood:                -8504.2\n",
       "No. Observations:                5000   AIC:                         1.703e+04\n",
       "Df Residuals:                    4987   BIC:                         1.712e+04\n",
       "Df Model:                          12                                         \n",
       "Covariance Type:            nonrobust                                         \n",
       "======================================================================================\n",
       "                         coef    std err          t      P>|t|      [0.025      0.975]\n",
       "--------------------------------------------------------------------------------------\n",
       "const                 -0.8391      0.306     -2.740      0.006      -1.439      -0.239\n",
       "Age                    0.0594      0.016      3.751      0.000       0.028       0.090\n",
       "Experience            -0.0624      0.016     -3.946      0.000      -0.093      -0.031\n",
       "Undergrad             -0.1746      0.100     -1.739      0.082      -0.371       0.022\n",
       "Grad                  -0.3147      0.106     -2.976      0.003      -0.522      -0.107\n",
       "Prof                  -0.3498      0.111     -3.140      0.002      -0.568      -0.131\n",
       "Income                 0.0229      0.001     44.261      0.000       0.022       0.024\n",
       "Family                -0.0273      0.017     -1.612      0.107      -0.060       0.006\n",
       "Mortgage              -0.0005      0.000     -2.576      0.010      -0.001      -0.000\n",
       "Personal Loan          0.4080      0.082      4.986      0.000       0.248       0.568\n",
       "Securities Account     0.0477      0.066      0.727      0.468      -0.081       0.176\n",
       "CD Account             0.1467      0.095      1.548      0.122      -0.039       0.332\n",
       "Online                -0.0577      0.039     -1.476      0.140      -0.134       0.019\n",
       "CreditCard            -0.0413      0.044     -0.948      0.343      -0.127       0.044\n",
       "==============================================================================\n",
       "Omnibus:                      234.178   Durbin-Watson:                   1.969\n",
       "Prob(Omnibus):                  0.000   Jarque-Bera (JB):              597.920\n",
       "Skew:                           0.250   Prob(JB):                    1.46e-130\n",
       "Kurtosis:                       4.619   Cond. No.                     5.28e+17\n",
       "==============================================================================\n",
       "\n",
       "Warnings:\n",
       "[1] Standard Errors assume that the covariance matrix of the errors is correctly specified.\n",
       "[2] The smallest eigenvalue is 3.18e-28. This might indicate that there are\n",
       "strong multicollinearity problems or that the design matrix is singular.\n",
       "\"\"\""
      ]
     },
     "execution_count": 25,
     "metadata": {},
     "output_type": "execute_result"
    }
   ],
   "source": [
    "bc1 = bank_copy1\n",
    "X = bc1.iloc[:,]\n",
    "X = X.drop('CCAvg' , axis='columns')\n",
    "Y = bc1.iloc[:,7]\n",
    "\n",
    "x2 = sm.add_constant(X)\n",
    "models = sm.OLS(Y,x2)\n",
    "result = models.fit()\n",
    "result.summary()\n",
    "#code borrowed from Professor Cannon's CIS 242 Lecture_3.pdf."
   ]
  },
  {
   "cell_type": "markdown",
   "metadata": {},
   "source": [
    "#### 3. How different is the relationship described by the two methods? Which approach gives you a \"better\" explanation of the relationship?  Why?"
   ]
  },
  {
   "cell_type": "markdown",
   "metadata": {},
   "source": [
    "The first linear regression model with 'Income' as the only independent variable yielded an R^2 and adjusted R^2 value of 0.417. It makes sense that the value of both measures are the same because there is only one indenpendent variable in the first model. The second model, which is a multiple linear regression model, yields an R^2 value of 0.425 and adjusted R^2 value of 0.423. When modeling with multiple variables, adjusted R^2 is a better indicator of the actual fit of the model as an estimator because R^2 only increases with more variables/predictors, whereas adjusted R^2 does not. Based on this information, we can conclude that the multiple linear regression model provides a \"better\" explanation of the relationship. However, whether a linear model is the best fit or not is yet to be seen, as a log or quadratic regression model might fit the data points better."
   ]
  },
  {
   "cell_type": "markdown",
   "metadata": {},
   "source": [
    "#### 4. You are asked to predict the average credit card balance for a particular customer.  How much would you expect the following customer to owe on their credit card?  \n",
    "\n",
    "Age = 40, Experience = 10, Income = 84, Family = 2, Education =2, Mortgage = 0, Securities Account = 0,Personal Loan = 0, CD Account = 0, Online = 1, and Credit Card = 1."
   ]
  },
  {
   "cell_type": "markdown",
   "metadata": {},
   "source": [
    "Using the coefficients of each independent variable we got from above, we can construct the following multiple regression model:\n",
    "\n",
    "CCAvg = -0.839 + 0.059*Age - 0.062*Experience + 0.023*Income - 0.027*Family - 0.315*Grad - 0.001*Mortgage + 0.048*Securities Account + 0.408*Personal Loan + 0.147*CD Account - 0.058*Online - 0.041*Credit Card\n",
    "\n",
    "We now substitute the values provided in the question into each variable to get an estimated credit card balance:\n",
    "\n",
    "-0.839 + 0.059*40 - 0.062*10 + 0.023*84 - 0.027*2 - 0.315*1 - 0.001*0 + 0.048*0 + 0.408*0 + 0.147*0 - 0.058*1 - 0.041*1 = 2.365\n",
    "\n",
    "The credit card balance is estimated to be 2.365 ($000)"
   ]
  },
  {
   "cell_type": "markdown",
   "metadata": {},
   "source": [
    "#### 5. Now you are asked to build a model to predict whether or not a customer will accept a personal loan.  How will you do that?  What information will you use?  Why?\n"
   ]
  },
  {
   "cell_type": "markdown",
   "metadata": {},
   "source": [
    "Because the target/dependent variable is now a dummy varaible, we will be doing a log regression analysis. This time, CCAvg will be added to the list of independent variables and personal loan will be the dependent/target variable. ZIP code will be discarded for the same reasons as before."
   ]
  },
  {
   "cell_type": "markdown",
   "metadata": {},
   "source": [
    "#### 6. Build the model.  What are the primary variables that might increase the likelihood that a customer will take out a loan?  How do you know that?"
   ]
  },
  {
   "cell_type": "markdown",
   "metadata": {},
   "source": [
    "Because we do not know which variables are strongly correlated with personal loan yet, we will be running the test with all variables except for ZIP code to omit bias in selecting conditions. After running the log regression analysis, we will identify the varaibles with positive coefficients as rimary varaibles that might increase the likelihood of a customer taking out a loan."
   ]
  },
  {
   "cell_type": "code",
   "execution_count": 26,
   "metadata": {},
   "outputs": [],
   "source": [
    "#bring 'Personal Loan' column to te front to make assigning columns to X and Y later easier.\n",
    "bc2 = bc1[['Personal Loan','Age','Experience','Undergrad','Grad','Prof','Income','Family','CCAvg','Mortgage',\n",
    "          'Securities Account','CD Account','Online','CreditCard']]"
   ]
  },
  {
   "cell_type": "code",
   "execution_count": 27,
   "metadata": {},
   "outputs": [
    {
     "name": "stdout",
     "output_type": "stream",
     "text": [
      "(5000, 13)\n",
      "(5000,)\n",
      "Optimization terminated successfully.\n",
      "         Current function value: 0.117230\n",
      "         Iterations 9\n"
     ]
    }
   ],
   "source": [
    "from sklearn.linear_model import LogisticRegression\n",
    "\n",
    "X_loan = bc2.iloc[:,1:]\n",
    "print(X_loan.shape)\n",
    "Y_loan = bc2.iloc[:,0]\n",
    "print(Y_loan.shape)\n",
    "\n",
    "logit = sm.Logit(Y_loan, X_loan)\n",
    "result = logit.fit()\n",
    "#code borrowed from Professor Cannon's CIS 242 Lecture_3.pdf."
   ]
  },
  {
   "cell_type": "code",
   "execution_count": 28,
   "metadata": {},
   "outputs": [
    {
     "data": {
      "text/plain": [
       "Age                     int64\n",
       "Experience              int64\n",
       "Undergrad               int64\n",
       "Grad                    int64\n",
       "Prof                    int64\n",
       "Income                  int64\n",
       "Family                  int64\n",
       "CCAvg                 float64\n",
       "Mortgage                int64\n",
       "Securities Account      int64\n",
       "CD Account              int64\n",
       "Online                  int64\n",
       "CreditCard              int64\n",
       "dtype: object"
      ]
     },
     "execution_count": 28,
     "metadata": {},
     "output_type": "execute_result"
    }
   ],
   "source": [
    "X_loan.dtypes"
   ]
  },
  {
   "cell_type": "code",
   "execution_count": 18,
   "metadata": {},
   "outputs": [
    {
     "data": {
      "text/html": [
       "<table class=\"simpletable\">\n",
       "<caption>Logit Regression Results</caption>\n",
       "<tr>\n",
       "  <th>Dep. Variable:</th>   <td>Personal Loan</td>  <th>  No. Observations:  </th>  <td>  5000</td> \n",
       "</tr>\n",
       "<tr>\n",
       "  <th>Model:</th>               <td>Logit</td>      <th>  Df Residuals:      </th>  <td>  4987</td> \n",
       "</tr>\n",
       "<tr>\n",
       "  <th>Method:</th>               <td>MLE</td>       <th>  Df Model:          </th>  <td>    12</td> \n",
       "</tr>\n",
       "<tr>\n",
       "  <th>Date:</th>          <td>Fri, 07 Feb 2020</td> <th>  Pseudo R-squ.:     </th>  <td>0.6293</td> \n",
       "</tr>\n",
       "<tr>\n",
       "  <th>Time:</th>              <td>02:02:15</td>     <th>  Log-Likelihood:    </th> <td> -586.15</td>\n",
       "</tr>\n",
       "<tr>\n",
       "  <th>converged:</th>           <td>True</td>       <th>  LL-Null:           </th> <td> -1581.0</td>\n",
       "</tr>\n",
       "<tr>\n",
       "  <th> </th>                      <td> </td>        <th>  LLR p-value:       </th>  <td> 0.000</td> \n",
       "</tr>\n",
       "</table>\n",
       "<table class=\"simpletable\">\n",
       "<tr>\n",
       "           <td></td>             <th>coef</th>     <th>std err</th>      <th>z</th>      <th>P>|z|</th>  <th>[0.025</th>    <th>0.975]</th>  \n",
       "</tr>\n",
       "<tr>\n",
       "  <th>Age</th>                <td>   -0.0359</td> <td>    0.067</td> <td>   -0.534</td> <td> 0.593</td> <td>   -0.168</td> <td>    0.096</td>\n",
       "</tr>\n",
       "<tr>\n",
       "  <th>Experience</th>         <td>    0.0450</td> <td>    0.067</td> <td>    0.674</td> <td> 0.500</td> <td>   -0.086</td> <td>    0.176</td>\n",
       "</tr>\n",
       "<tr>\n",
       "  <th>Undergrad</th>          <td>  -12.3108</td> <td>    1.818</td> <td>   -6.773</td> <td> 0.000</td> <td>  -15.873</td> <td>   -8.749</td>\n",
       "</tr>\n",
       "<tr>\n",
       "  <th>Grad</th>               <td>   -8.3454</td> <td>    1.792</td> <td>   -4.658</td> <td> 0.000</td> <td>  -11.857</td> <td>   -4.834</td>\n",
       "</tr>\n",
       "<tr>\n",
       "  <th>Prof</th>               <td>   -8.2468</td> <td>    1.814</td> <td>   -4.547</td> <td> 0.000</td> <td>  -11.802</td> <td>   -4.692</td>\n",
       "</tr>\n",
       "<tr>\n",
       "  <th>Income</th>             <td>    0.0602</td> <td>    0.003</td> <td>   20.289</td> <td> 0.000</td> <td>    0.054</td> <td>    0.066</td>\n",
       "</tr>\n",
       "<tr>\n",
       "  <th>Family</th>             <td>    0.6182</td> <td>    0.077</td> <td>    8.024</td> <td> 0.000</td> <td>    0.467</td> <td>    0.769</td>\n",
       "</tr>\n",
       "<tr>\n",
       "  <th>CCAvg</th>              <td>    0.1634</td> <td>    0.044</td> <td>    3.708</td> <td> 0.000</td> <td>    0.077</td> <td>    0.250</td>\n",
       "</tr>\n",
       "<tr>\n",
       "  <th>Mortgage</th>           <td>    0.0007</td> <td>    0.001</td> <td>    1.196</td> <td> 0.232</td> <td>   -0.000</td> <td>    0.002</td>\n",
       "</tr>\n",
       "<tr>\n",
       "  <th>Securities Account</th> <td>   -0.8701</td> <td>    0.301</td> <td>   -2.894</td> <td> 0.004</td> <td>   -1.459</td> <td>   -0.281</td>\n",
       "</tr>\n",
       "<tr>\n",
       "  <th>CD Account</th>         <td>    3.8389</td> <td>    0.342</td> <td>   11.239</td> <td> 0.000</td> <td>    3.169</td> <td>    4.508</td>\n",
       "</tr>\n",
       "<tr>\n",
       "  <th>Online</th>             <td>   -0.7605</td> <td>    0.166</td> <td>   -4.589</td> <td> 0.000</td> <td>   -1.085</td> <td>   -0.436</td>\n",
       "</tr>\n",
       "<tr>\n",
       "  <th>CreditCard</th>         <td>   -1.0382</td> <td>    0.213</td> <td>   -4.872</td> <td> 0.000</td> <td>   -1.456</td> <td>   -0.621</td>\n",
       "</tr>\n",
       "</table><br/><br/>Possibly complete quasi-separation: A fraction 0.11 of observations can be<br/>perfectly predicted. This might indicate that there is complete<br/>quasi-separation. In this case some parameters will not be identified."
      ],
      "text/plain": [
       "<class 'statsmodels.iolib.summary.Summary'>\n",
       "\"\"\"\n",
       "                           Logit Regression Results                           \n",
       "==============================================================================\n",
       "Dep. Variable:          Personal Loan   No. Observations:                 5000\n",
       "Model:                          Logit   Df Residuals:                     4987\n",
       "Method:                           MLE   Df Model:                           12\n",
       "Date:                Fri, 07 Feb 2020   Pseudo R-squ.:                  0.6293\n",
       "Time:                        02:02:15   Log-Likelihood:                -586.15\n",
       "converged:                       True   LL-Null:                       -1581.0\n",
       "                                        LLR p-value:                     0.000\n",
       "======================================================================================\n",
       "                         coef    std err          z      P>|z|      [0.025      0.975]\n",
       "--------------------------------------------------------------------------------------\n",
       "Age                   -0.0359      0.067     -0.534      0.593      -0.168       0.096\n",
       "Experience             0.0450      0.067      0.674      0.500      -0.086       0.176\n",
       "Undergrad            -12.3108      1.818     -6.773      0.000     -15.873      -8.749\n",
       "Grad                  -8.3454      1.792     -4.658      0.000     -11.857      -4.834\n",
       "Prof                  -8.2468      1.814     -4.547      0.000     -11.802      -4.692\n",
       "Income                 0.0602      0.003     20.289      0.000       0.054       0.066\n",
       "Family                 0.6182      0.077      8.024      0.000       0.467       0.769\n",
       "CCAvg                  0.1634      0.044      3.708      0.000       0.077       0.250\n",
       "Mortgage               0.0007      0.001      1.196      0.232      -0.000       0.002\n",
       "Securities Account    -0.8701      0.301     -2.894      0.004      -1.459      -0.281\n",
       "CD Account             3.8389      0.342     11.239      0.000       3.169       4.508\n",
       "Online                -0.7605      0.166     -4.589      0.000      -1.085      -0.436\n",
       "CreditCard            -1.0382      0.213     -4.872      0.000      -1.456      -0.621\n",
       "======================================================================================\n",
       "\n",
       "Possibly complete quasi-separation: A fraction 0.11 of observations can be\n",
       "perfectly predicted. This might indicate that there is complete\n",
       "quasi-separation. In this case some parameters will not be identified.\n",
       "\"\"\""
      ]
     },
     "execution_count": 18,
     "metadata": {},
     "output_type": "execute_result"
    }
   ],
   "source": [
    "result.summary()"
   ]
  },
  {
   "cell_type": "markdown",
   "metadata": {},
   "source": [
    "Given the result summary, I will only use the variables/predictors with positive coefficients, as they are the variables that might positively affect the likelihood of a person taking out a loan. These variables are:\n",
    "Exprience, Income, Family, CCAvg, Mortgage, and CD Account."
   ]
  },
  {
   "cell_type": "code",
   "execution_count": 19,
   "metadata": {},
   "outputs": [
    {
     "name": "stdout",
     "output_type": "stream",
     "text": [
      "(5000, 6)\n",
      "(5000,)\n",
      "Optimization terminated successfully.\n",
      "         Current function value: 0.312289\n",
      "         Iterations 7\n"
     ]
    }
   ],
   "source": [
    "X_loan2 = bc2.iloc[:,[2,6,7,8,9,10,-3]]\n",
    "X_loan2 = X_loan2.drop('Securities Account', axis='columns')\n",
    "print(X_loan2.shape)\n",
    "Y_loan2 = bank_copy1['Personal Loan']\n",
    "print(Y_loan.shape)\n",
    "\n",
    "logit = sm.Logit(Y_loan2, X_loan2)\n",
    "result = logit.fit()"
   ]
  },
  {
   "cell_type": "code",
   "execution_count": 20,
   "metadata": {},
   "outputs": [
    {
     "data": {
      "text/html": [
       "<div>\n",
       "<style scoped>\n",
       "    .dataframe tbody tr th:only-of-type {\n",
       "        vertical-align: middle;\n",
       "    }\n",
       "\n",
       "    .dataframe tbody tr th {\n",
       "        vertical-align: top;\n",
       "    }\n",
       "\n",
       "    .dataframe thead th {\n",
       "        text-align: right;\n",
       "    }\n",
       "</style>\n",
       "<table border=\"1\" class=\"dataframe\">\n",
       "  <thead>\n",
       "    <tr style=\"text-align: right;\">\n",
       "      <th></th>\n",
       "      <th>Experience</th>\n",
       "      <th>Income</th>\n",
       "      <th>Family</th>\n",
       "      <th>CCAvg</th>\n",
       "      <th>Mortgage</th>\n",
       "      <th>CD Account</th>\n",
       "    </tr>\n",
       "  </thead>\n",
       "  <tbody>\n",
       "    <tr>\n",
       "      <th>0</th>\n",
       "      <td>1</td>\n",
       "      <td>49</td>\n",
       "      <td>4</td>\n",
       "      <td>1.6</td>\n",
       "      <td>0</td>\n",
       "      <td>0</td>\n",
       "    </tr>\n",
       "    <tr>\n",
       "      <th>1</th>\n",
       "      <td>19</td>\n",
       "      <td>34</td>\n",
       "      <td>3</td>\n",
       "      <td>1.5</td>\n",
       "      <td>0</td>\n",
       "      <td>0</td>\n",
       "    </tr>\n",
       "    <tr>\n",
       "      <th>2</th>\n",
       "      <td>15</td>\n",
       "      <td>11</td>\n",
       "      <td>1</td>\n",
       "      <td>1.0</td>\n",
       "      <td>0</td>\n",
       "      <td>0</td>\n",
       "    </tr>\n",
       "  </tbody>\n",
       "</table>\n",
       "</div>"
      ],
      "text/plain": [
       "   Experience  Income  Family  CCAvg  Mortgage  CD Account\n",
       "0           1      49       4    1.6         0           0\n",
       "1          19      34       3    1.5         0           0\n",
       "2          15      11       1    1.0         0           0"
      ]
     },
     "execution_count": 20,
     "metadata": {},
     "output_type": "execute_result"
    }
   ],
   "source": [
    "X_loan2.head(3)"
   ]
  },
  {
   "cell_type": "markdown",
   "metadata": {},
   "source": [
    "We have now built the basis of our log regression model, which provides an accuracy score of 95.7%. We can guess which primary varaibles might increase the likelihood that a customer will take out a loan by identifying variables with positive coefficients. These include experience, having a graduate or professional degree, income, family size, credit card balance, mortgage(albeit being very small), and having a CD account."
   ]
  },
  {
   "cell_type": "markdown",
   "metadata": {},
   "source": [
    "#### 7. Train the model.  What parameter choices are you making?  Why? "
   ]
  },
  {
   "cell_type": "code",
   "execution_count": 21,
   "metadata": {},
   "outputs": [],
   "source": [
    "logreg = LogisticRegression(C=1e9, max_iter=5000)\n",
    "#since there are 4000 rows, I set the max_iter to 5000"
   ]
  },
  {
   "cell_type": "markdown",
   "metadata": {},
   "source": [
    "We will be taking 80% of the randomized sample for training and leave 20% for testing."
   ]
  },
  {
   "cell_type": "code",
   "execution_count": 22,
   "metadata": {},
   "outputs": [
    {
     "name": "stdout",
     "output_type": "stream",
     "text": [
      "(4000, 6) (1000, 6)\n",
      "(4000,) (1000,)\n"
     ]
    }
   ],
   "source": [
    "from sklearn.model_selection import train_test_split\n",
    "\n",
    "X_train, X_test, Y_train, Y_test = train_test_split(X_loan2, Y_loan2, test_size = 0.2,\n",
    "                                                   random_state = 12345)\n",
    "print(X_train.shape, X_test.shape)\n",
    "print(Y_train.shape, Y_test.shape)\n",
    "#code borrowed from Professor Cannon's CIS 242 Lecture_3.pdf."
   ]
  },
  {
   "cell_type": "code",
   "execution_count": 23,
   "metadata": {},
   "outputs": [
    {
     "name": "stdout",
     "output_type": "stream",
     "text": [
      "       Personal Loan\n",
      "count      4000.0000\n",
      "mean          0.0960\n",
      "std           0.2946\n",
      "min           0.0000\n",
      "25%           0.0000\n",
      "50%           0.0000\n",
      "75%           0.0000\n",
      "max           1.0000\n",
      "====================\n",
      "       Personal Loan\n",
      "count      1000.0000\n",
      "mean          0.0960\n",
      "std           0.2947\n",
      "min           0.0000\n",
      "25%           0.0000\n",
      "50%           0.0000\n",
      "75%           0.0000\n",
      "max           1.0000\n"
     ]
    }
   ],
   "source": [
    "print(pd.DataFrame(Y_train).describe())\n",
    "print(\"====================\")\n",
    "print(pd.DataFrame(Y_test).describe())\n",
    "#code borrowed from Professor Cannon's CIS 242 Lecture_3.pdf."
   ]
  },
  {
   "cell_type": "markdown",
   "metadata": {},
   "source": [
    "Randomizing the samples yields the training set and the test set to have the same mean and very close standard deviation values."
   ]
  },
  {
   "cell_type": "code",
   "execution_count": 24,
   "metadata": {},
   "outputs": [
    {
     "data": {
      "text/plain": [
       "LogisticRegression(C=1000000000.0, class_weight=None, dual=False,\n",
       "                   fit_intercept=True, intercept_scaling=1, l1_ratio=None,\n",
       "                   max_iter=5000, multi_class='auto', n_jobs=None, penalty='l2',\n",
       "                   random_state=None, solver='lbfgs', tol=0.0001, verbose=0,\n",
       "                   warm_start=False)"
      ]
     },
     "execution_count": 24,
     "metadata": {},
     "output_type": "execute_result"
    }
   ],
   "source": [
    "logreg.fit(X_train, Y_train)\n",
    "#code borrowed from Professor Cannon's CIS 242 Lecture_3.pdf."
   ]
  },
  {
   "cell_type": "markdown",
   "metadata": {},
   "source": [
    "#### 8. Test the accuracy of your model. What is the overall accuracy of the model? "
   ]
  },
  {
   "cell_type": "code",
   "execution_count": 25,
   "metadata": {},
   "outputs": [
    {
     "name": "stdout",
     "output_type": "stream",
     "text": [
      "Model accuracy: 0.938\n"
     ]
    }
   ],
   "source": [
    "from sklearn.metrics import accuracy_score\n",
    "y_test_predict = logreg.predict(X_test)\n",
    "\n",
    "print(\"Model accuracy:\",accuracy_score(Y_test, y_test_predict))\n",
    "#code borrowed from Professor Cannon's CIS 242 Lecture_3.pdf."
   ]
  },
  {
   "cell_type": "markdown",
   "metadata": {},
   "source": [
    "The overall accuracy of the model comes out to be 93.8%."
   ]
  },
  {
   "cell_type": "markdown",
   "metadata": {},
   "source": [
    "#### 9. Train at least two more versions of the model.  What changes did you make?  Why?"
   ]
  },
  {
   "cell_type": "markdown",
   "metadata": {},
   "source": [
    "In the second model below, we will use all independent variables that we used in Question 6. to see if considering all variables would increase the overall accuracy of the model."
   ]
  },
  {
   "cell_type": "code",
   "execution_count": 26,
   "metadata": {},
   "outputs": [
    {
     "name": "stdout",
     "output_type": "stream",
     "text": [
      "(5000, 13)\n",
      "(5000,)\n",
      "Optimization terminated successfully.\n",
      "         Current function value: 0.117230\n",
      "         Iterations 9\n"
     ]
    }
   ],
   "source": [
    "X_loan3 = bc2.iloc[:,1:]\n",
    "print(X_loan3.shape)\n",
    "Y_loan3 = bc2.iloc[:,0]\n",
    "print(Y_loan3.shape)\n",
    "\n",
    "logit = sm.Logit(Y_loan3, X_loan3)\n",
    "result = logit.fit()"
   ]
  },
  {
   "cell_type": "code",
   "execution_count": 27,
   "metadata": {},
   "outputs": [
    {
     "data": {
      "text/html": [
       "<div>\n",
       "<style scoped>\n",
       "    .dataframe tbody tr th:only-of-type {\n",
       "        vertical-align: middle;\n",
       "    }\n",
       "\n",
       "    .dataframe tbody tr th {\n",
       "        vertical-align: top;\n",
       "    }\n",
       "\n",
       "    .dataframe thead th {\n",
       "        text-align: right;\n",
       "    }\n",
       "</style>\n",
       "<table border=\"1\" class=\"dataframe\">\n",
       "  <thead>\n",
       "    <tr style=\"text-align: right;\">\n",
       "      <th></th>\n",
       "      <th>Age</th>\n",
       "      <th>Experience</th>\n",
       "      <th>Undergrad</th>\n",
       "      <th>Grad</th>\n",
       "      <th>Prof</th>\n",
       "      <th>Income</th>\n",
       "      <th>Family</th>\n",
       "      <th>CCAvg</th>\n",
       "      <th>Mortgage</th>\n",
       "      <th>Securities Account</th>\n",
       "      <th>CD Account</th>\n",
       "      <th>Online</th>\n",
       "      <th>CreditCard</th>\n",
       "    </tr>\n",
       "  </thead>\n",
       "  <tbody>\n",
       "    <tr>\n",
       "      <th>0</th>\n",
       "      <td>25</td>\n",
       "      <td>1</td>\n",
       "      <td>1</td>\n",
       "      <td>0</td>\n",
       "      <td>0</td>\n",
       "      <td>49</td>\n",
       "      <td>4</td>\n",
       "      <td>1.6</td>\n",
       "      <td>0</td>\n",
       "      <td>1</td>\n",
       "      <td>0</td>\n",
       "      <td>0</td>\n",
       "      <td>0</td>\n",
       "    </tr>\n",
       "    <tr>\n",
       "      <th>1</th>\n",
       "      <td>45</td>\n",
       "      <td>19</td>\n",
       "      <td>1</td>\n",
       "      <td>0</td>\n",
       "      <td>0</td>\n",
       "      <td>34</td>\n",
       "      <td>3</td>\n",
       "      <td>1.5</td>\n",
       "      <td>0</td>\n",
       "      <td>1</td>\n",
       "      <td>0</td>\n",
       "      <td>0</td>\n",
       "      <td>0</td>\n",
       "    </tr>\n",
       "    <tr>\n",
       "      <th>2</th>\n",
       "      <td>39</td>\n",
       "      <td>15</td>\n",
       "      <td>1</td>\n",
       "      <td>0</td>\n",
       "      <td>0</td>\n",
       "      <td>11</td>\n",
       "      <td>1</td>\n",
       "      <td>1.0</td>\n",
       "      <td>0</td>\n",
       "      <td>0</td>\n",
       "      <td>0</td>\n",
       "      <td>0</td>\n",
       "      <td>0</td>\n",
       "    </tr>\n",
       "  </tbody>\n",
       "</table>\n",
       "</div>"
      ],
      "text/plain": [
       "   Age  Experience  Undergrad  Grad  Prof  Income  Family  CCAvg  Mortgage  \\\n",
       "0   25           1          1     0     0      49       4    1.6         0   \n",
       "1   45          19          1     0     0      34       3    1.5         0   \n",
       "2   39          15          1     0     0      11       1    1.0         0   \n",
       "\n",
       "   Securities Account  CD Account  Online  CreditCard  \n",
       "0                   1           0       0           0  \n",
       "1                   1           0       0           0  \n",
       "2                   0           0       0           0  "
      ]
     },
     "execution_count": 27,
     "metadata": {},
     "output_type": "execute_result"
    }
   ],
   "source": [
    "X_loan3.head(3)"
   ]
  },
  {
   "cell_type": "code",
   "execution_count": 28,
   "metadata": {},
   "outputs": [
    {
     "name": "stdout",
     "output_type": "stream",
     "text": [
      "(4000, 13) (1000, 13)\n",
      "(4000,) (1000,)\n"
     ]
    }
   ],
   "source": [
    "logreg = LogisticRegression(C=1e9, max_iter=5000)\n",
    "\n",
    "X_train, X_test, Y_train, Y_test = train_test_split(X_loan3, Y_loan3, test_size = 0.2,\n",
    "                                                   random_state = 12345)\n",
    "print(X_train.shape, X_test.shape)\n",
    "print(Y_train.shape, Y_test.shape)"
   ]
  },
  {
   "cell_type": "code",
   "execution_count": 29,
   "metadata": {},
   "outputs": [
    {
     "name": "stdout",
     "output_type": "stream",
     "text": [
      "Model accuracy: 0.957\n"
     ]
    }
   ],
   "source": [
    "logreg.fit(X_train, Y_train)\n",
    "y_test_predict = logreg.predict(X_test)\n",
    "\n",
    "print(\"Model accuracy:\",accuracy_score(Y_test, y_test_predict))"
   ]
  },
  {
   "cell_type": "markdown",
   "metadata": {},
   "source": [
    "When all the other variables were added back, the overall accuracy of the model in fact increased to 95.7%."
   ]
  },
  {
   "cell_type": "markdown",
   "metadata": {},
   "source": [
    "In the third model below, we will use Experience, Income, CCAvg, and Mortgage as independent variables. The reason for this is that when banks assess personal loans, they evaluate the person's employment history, income, and any outstanding debt. For this model, we will treat experience as employment history, income as income, and CCAvg & Mortgage as debt."
   ]
  },
  {
   "cell_type": "code",
   "execution_count": 30,
   "metadata": {},
   "outputs": [
    {
     "data": {
      "text/html": [
       "<div>\n",
       "<style scoped>\n",
       "    .dataframe tbody tr th:only-of-type {\n",
       "        vertical-align: middle;\n",
       "    }\n",
       "\n",
       "    .dataframe tbody tr th {\n",
       "        vertical-align: top;\n",
       "    }\n",
       "\n",
       "    .dataframe thead th {\n",
       "        text-align: right;\n",
       "    }\n",
       "</style>\n",
       "<table border=\"1\" class=\"dataframe\">\n",
       "  <thead>\n",
       "    <tr style=\"text-align: right;\">\n",
       "      <th></th>\n",
       "      <th>Personal Loan</th>\n",
       "      <th>Age</th>\n",
       "      <th>Experience</th>\n",
       "      <th>Undergrad</th>\n",
       "      <th>Grad</th>\n",
       "      <th>Prof</th>\n",
       "      <th>Income</th>\n",
       "      <th>Family</th>\n",
       "      <th>CCAvg</th>\n",
       "      <th>Mortgage</th>\n",
       "      <th>Securities Account</th>\n",
       "      <th>CD Account</th>\n",
       "      <th>Online</th>\n",
       "      <th>CreditCard</th>\n",
       "    </tr>\n",
       "  </thead>\n",
       "  <tbody>\n",
       "    <tr>\n",
       "      <th>0</th>\n",
       "      <td>0</td>\n",
       "      <td>25</td>\n",
       "      <td>1</td>\n",
       "      <td>1</td>\n",
       "      <td>0</td>\n",
       "      <td>0</td>\n",
       "      <td>49</td>\n",
       "      <td>4</td>\n",
       "      <td>1.6</td>\n",
       "      <td>0</td>\n",
       "      <td>1</td>\n",
       "      <td>0</td>\n",
       "      <td>0</td>\n",
       "      <td>0</td>\n",
       "    </tr>\n",
       "    <tr>\n",
       "      <th>1</th>\n",
       "      <td>0</td>\n",
       "      <td>45</td>\n",
       "      <td>19</td>\n",
       "      <td>1</td>\n",
       "      <td>0</td>\n",
       "      <td>0</td>\n",
       "      <td>34</td>\n",
       "      <td>3</td>\n",
       "      <td>1.5</td>\n",
       "      <td>0</td>\n",
       "      <td>1</td>\n",
       "      <td>0</td>\n",
       "      <td>0</td>\n",
       "      <td>0</td>\n",
       "    </tr>\n",
       "    <tr>\n",
       "      <th>2</th>\n",
       "      <td>0</td>\n",
       "      <td>39</td>\n",
       "      <td>15</td>\n",
       "      <td>1</td>\n",
       "      <td>0</td>\n",
       "      <td>0</td>\n",
       "      <td>11</td>\n",
       "      <td>1</td>\n",
       "      <td>1.0</td>\n",
       "      <td>0</td>\n",
       "      <td>0</td>\n",
       "      <td>0</td>\n",
       "      <td>0</td>\n",
       "      <td>0</td>\n",
       "    </tr>\n",
       "  </tbody>\n",
       "</table>\n",
       "</div>"
      ],
      "text/plain": [
       "   Personal Loan  Age  Experience  Undergrad  Grad  Prof  Income  Family  \\\n",
       "0              0   25           1          1     0     0      49       4   \n",
       "1              0   45          19          1     0     0      34       3   \n",
       "2              0   39          15          1     0     0      11       1   \n",
       "\n",
       "   CCAvg  Mortgage  Securities Account  CD Account  Online  CreditCard  \n",
       "0    1.6         0                   1           0       0           0  \n",
       "1    1.5         0                   1           0       0           0  \n",
       "2    1.0         0                   0           0       0           0  "
      ]
     },
     "execution_count": 30,
     "metadata": {},
     "output_type": "execute_result"
    }
   ],
   "source": [
    "bc2.head(3)"
   ]
  },
  {
   "cell_type": "code",
   "execution_count": 31,
   "metadata": {},
   "outputs": [
    {
     "name": "stdout",
     "output_type": "stream",
     "text": [
      "(5000, 4)\n",
      "(5000,)\n",
      "Optimization terminated successfully.\n",
      "         Current function value: 0.387865\n",
      "         Iterations 7\n"
     ]
    }
   ],
   "source": [
    "X_loan4 = bc2.iloc[:,[2,6,8,9]]\n",
    "print(X_loan4.shape)\n",
    "Y_loan4 = bc2.iloc[:,0]\n",
    "print(Y_loan4.shape)\n",
    "\n",
    "logit = sm.Logit(Y_loan4, X_loan4)\n",
    "result = logit.fit()"
   ]
  },
  {
   "cell_type": "code",
   "execution_count": 32,
   "metadata": {},
   "outputs": [
    {
     "data": {
      "text/html": [
       "<div>\n",
       "<style scoped>\n",
       "    .dataframe tbody tr th:only-of-type {\n",
       "        vertical-align: middle;\n",
       "    }\n",
       "\n",
       "    .dataframe tbody tr th {\n",
       "        vertical-align: top;\n",
       "    }\n",
       "\n",
       "    .dataframe thead th {\n",
       "        text-align: right;\n",
       "    }\n",
       "</style>\n",
       "<table border=\"1\" class=\"dataframe\">\n",
       "  <thead>\n",
       "    <tr style=\"text-align: right;\">\n",
       "      <th></th>\n",
       "      <th>Experience</th>\n",
       "      <th>Income</th>\n",
       "      <th>CCAvg</th>\n",
       "      <th>Mortgage</th>\n",
       "    </tr>\n",
       "  </thead>\n",
       "  <tbody>\n",
       "    <tr>\n",
       "      <th>0</th>\n",
       "      <td>1</td>\n",
       "      <td>49</td>\n",
       "      <td>1.6</td>\n",
       "      <td>0</td>\n",
       "    </tr>\n",
       "    <tr>\n",
       "      <th>1</th>\n",
       "      <td>19</td>\n",
       "      <td>34</td>\n",
       "      <td>1.5</td>\n",
       "      <td>0</td>\n",
       "    </tr>\n",
       "    <tr>\n",
       "      <th>2</th>\n",
       "      <td>15</td>\n",
       "      <td>11</td>\n",
       "      <td>1.0</td>\n",
       "      <td>0</td>\n",
       "    </tr>\n",
       "  </tbody>\n",
       "</table>\n",
       "</div>"
      ],
      "text/plain": [
       "   Experience  Income  CCAvg  Mortgage\n",
       "0           1      49    1.6         0\n",
       "1          19      34    1.5         0\n",
       "2          15      11    1.0         0"
      ]
     },
     "execution_count": 32,
     "metadata": {},
     "output_type": "execute_result"
    }
   ],
   "source": [
    "X_loan4.head(3)"
   ]
  },
  {
   "cell_type": "code",
   "execution_count": 33,
   "metadata": {},
   "outputs": [
    {
     "name": "stdout",
     "output_type": "stream",
     "text": [
      "(4000, 4) (1000, 4)\n",
      "(4000,) (1000,)\n"
     ]
    }
   ],
   "source": [
    "logreg = LogisticRegression(C=1e9, max_iter=5000)\n",
    "\n",
    "X_train, X_test, Y_train, Y_test = train_test_split(X_loan4, Y_loan4, test_size = 0.2,\n",
    "                                                   random_state = 12345)\n",
    "print(X_train.shape, X_test.shape)\n",
    "print(Y_train.shape, Y_test.shape)"
   ]
  },
  {
   "cell_type": "code",
   "execution_count": 34,
   "metadata": {},
   "outputs": [
    {
     "name": "stdout",
     "output_type": "stream",
     "text": [
      "Model accuracy: 0.901\n"
     ]
    }
   ],
   "source": [
    "logreg.fit(X_train, Y_train)\n",
    "y_test_predict = logreg.predict(X_test)\n",
    "\n",
    "print(\"Model accuracy:\",accuracy_score(Y_test, y_test_predict))"
   ]
  },
  {
   "cell_type": "markdown",
   "metadata": {},
   "source": [
    "It turns out that the intuitive thought of taking debt-to-income factors as the only independent variables to find the likelihood of a customer taking out a personal loan actually yields a lower overall accuracy."
   ]
  },
  {
   "cell_type": "markdown",
   "metadata": {},
   "source": [
    "#### 10. Did the changes you make help?  Would you recommed it to the VP to target new personal loans? Why or why not? "
   ]
  },
  {
   "cell_type": "markdown",
   "metadata": {},
   "source": [
    "It turns out taking out variables and only adding certain varaibles to the model yields lower accuracy. For this reason, I would not recommend the changes to the VP and stick to taking all independent variables mentioned at the top of this assignment into account when building a prediction model. Afterall, we do not care about the correlation coefficient or the coefficient of determination when it comes to prediction as prediction does not concern about explaining the reason behind the relationships between variables."
   ]
  },
  {
   "cell_type": "markdown",
   "metadata": {},
   "source": [
    "## Working code below"
   ]
  },
  {
   "cell_type": "markdown",
   "metadata": {},
   "source": [
    "All work is shown underneath each question."
   ]
  }
 ],
 "metadata": {
  "kernelspec": {
   "display_name": "Python 3",
   "language": "python",
   "name": "python3"
  },
  "language_info": {
   "codemirror_mode": {
    "name": "ipython",
    "version": 3
   },
   "file_extension": ".py",
   "mimetype": "text/x-python",
   "name": "python",
   "nbconvert_exporter": "python",
   "pygments_lexer": "ipython3",
   "version": "3.7.3"
  }
 },
 "nbformat": 4,
 "nbformat_minor": 2
}
