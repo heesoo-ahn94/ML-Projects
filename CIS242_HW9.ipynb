{
 "cells": [
  {
   "cell_type": "markdown",
   "metadata": {},
   "source": [
    "##### CIS 242\n",
    "\n",
    "## Spring 2020\n",
    "\n",
    "## HOMEWORK ASSIGNMENT 9\n",
    "\n",
    "\n",
    "Please compile your responses use markdown in your Jupyter notebook to answer the questions.  If you prefer, you may also submit a Word or PDF document with the responses along the PDF or HTML version of the completed notebook.   \n",
    "\n",
    "#### Active notebooks (.ipynb files) or raw code (.py files) will NOT be accepted and no points will be given.\n",
    "\n",
    "The code part of the files will not be graded, but they will be checked if necessary to verify your findings and recommendations. Point deductions may occur if there are major discrepancies between your written answers and the output from the code. \n",
    "\n",
    "Please organize your notebook to have the homework responses at the top and the working code underneath.\n",
    "\n",
    "Questions are worth 2 points each for a total of **20 points**.  "
   ]
  },
  {
   "cell_type": "markdown",
   "metadata": {},
   "source": [
    "## Clustering crime - continuted.\n",
    "\n",
    "Remember, you have been hired as a consultant to help the FBI understand how to best support local law enforcement to keep crime rates down.  The FBI has the ability to start one crime prevention program and wants to identify which states are similar enough to benefit from the same program.  They have asked you to help with that identification process.  There is no requirement that the states be located near each other but they need to have similar \"profiles\". \n",
    "\n",
    "The CrimeData.csv file contains data on state level crime in 2014 from the Unified Crime Report from the FBI.  It also contains some other state level information such as population, unemployment rates, and average hourly wages. Definitions for the crime variables can be found here: https://www.ucrdatatool.gov/offenses.cfm\n",
    "\n",
    "You have done some preliminary clustering and now it's time to investigate further. "
   ]
  },
  {
   "cell_type": "markdown",
   "metadata": {},
   "source": [
    "#### 1.  Recall your investigation from HW #8.  Recreate or describe your \"best\" clustering analysis.  Why did you choose this one?"
   ]
  },
  {
   "cell_type": "code",
   "execution_count": 1,
   "metadata": {},
   "outputs": [],
   "source": [
    "import numpy as np\n",
    "import pandas as pd\n",
    "pd.options.display.float_format = '{:.2f}'.format\n",
    "crimes = pd.read_csv('CrimeData.csv')\n",
    "\n",
    "crimes = crimes.set_index('State')"
   ]
  },
  {
   "cell_type": "code",
   "execution_count": 2,
   "metadata": {},
   "outputs": [
    {
     "data": {
      "text/html": [
       "<div>\n",
       "<style scoped>\n",
       "    .dataframe tbody tr th:only-of-type {\n",
       "        vertical-align: middle;\n",
       "    }\n",
       "\n",
       "    .dataframe tbody tr th {\n",
       "        vertical-align: top;\n",
       "    }\n",
       "\n",
       "    .dataframe thead th {\n",
       "        text-align: right;\n",
       "    }\n",
       "</style>\n",
       "<table border=\"1\" class=\"dataframe\">\n",
       "  <thead>\n",
       "    <tr style=\"text-align: right;\">\n",
       "      <th></th>\n",
       "      <th>Population</th>\n",
       "      <th>Murder and nonnegligent manslaughter rate</th>\n",
       "      <th>Legacy rape rate /1</th>\n",
       "      <th>Revised rape rate /2</th>\n",
       "      <th>Robbery rate</th>\n",
       "      <th>Aggravated assault rate</th>\n",
       "      <th>Burglary rate</th>\n",
       "      <th>Larceny-theft rate</th>\n",
       "      <th>Motor vehicle theft rate</th>\n",
       "      <th>Unemployment rate</th>\n",
       "      <th>Average Hourly Wage</th>\n",
       "    </tr>\n",
       "    <tr>\n",
       "      <th>State</th>\n",
       "      <th></th>\n",
       "      <th></th>\n",
       "      <th></th>\n",
       "      <th></th>\n",
       "      <th></th>\n",
       "      <th></th>\n",
       "      <th></th>\n",
       "      <th></th>\n",
       "      <th></th>\n",
       "      <th></th>\n",
       "      <th></th>\n",
       "    </tr>\n",
       "  </thead>\n",
       "  <tbody>\n",
       "    <tr>\n",
       "      <th>Alabama</th>\n",
       "      <td>4849377</td>\n",
       "      <td>5.70</td>\n",
       "      <td>29.60</td>\n",
       "      <td>41.30</td>\n",
       "      <td>96.90</td>\n",
       "      <td>283.40</td>\n",
       "      <td>819.00</td>\n",
       "      <td>2149.50</td>\n",
       "      <td>209.10</td>\n",
       "      <td>6.10</td>\n",
       "      <td>19.66</td>\n",
       "    </tr>\n",
       "    <tr>\n",
       "      <th>Alaska</th>\n",
       "      <td>736732</td>\n",
       "      <td>5.60</td>\n",
       "      <td>75.30</td>\n",
       "      <td>104.70</td>\n",
       "      <td>85.40</td>\n",
       "      <td>440.20</td>\n",
       "      <td>427.60</td>\n",
       "      <td>2096.40</td>\n",
       "      <td>236.00</td>\n",
       "      <td>6.50</td>\n",
       "      <td>25.98</td>\n",
       "    </tr>\n",
       "    <tr>\n",
       "      <th>Arizona</th>\n",
       "      <td>6731484</td>\n",
       "      <td>4.70</td>\n",
       "      <td>36.60</td>\n",
       "      <td>50.20</td>\n",
       "      <td>92.80</td>\n",
       "      <td>252.10</td>\n",
       "      <td>647.10</td>\n",
       "      <td>2289.10</td>\n",
       "      <td>261.30</td>\n",
       "      <td>6.10</td>\n",
       "      <td>21.43</td>\n",
       "    </tr>\n",
       "    <tr>\n",
       "      <th>Arkansas</th>\n",
       "      <td>2966369</td>\n",
       "      <td>5.60</td>\n",
       "      <td>39.80</td>\n",
       "      <td>59.40</td>\n",
       "      <td>69.10</td>\n",
       "      <td>346.00</td>\n",
       "      <td>835.70</td>\n",
       "      <td>2313.50</td>\n",
       "      <td>188.80</td>\n",
       "      <td>5.00</td>\n",
       "      <td>18.24</td>\n",
       "    </tr>\n",
       "    <tr>\n",
       "      <th>California</th>\n",
       "      <td>38802500</td>\n",
       "      <td>4.40</td>\n",
       "      <td>21.60</td>\n",
       "      <td>29.70</td>\n",
       "      <td>125.50</td>\n",
       "      <td>236.60</td>\n",
       "      <td>522.30</td>\n",
       "      <td>1527.40</td>\n",
       "      <td>391.30</td>\n",
       "      <td>6.20</td>\n",
       "      <td>25.91</td>\n",
       "    </tr>\n",
       "  </tbody>\n",
       "</table>\n",
       "</div>"
      ],
      "text/plain": [
       "            Population  Murder and nonnegligent manslaughter rate  \\\n",
       "State                                                               \n",
       "Alabama        4849377                                       5.70   \n",
       "Alaska          736732                                       5.60   \n",
       "Arizona        6731484                                       4.70   \n",
       "Arkansas       2966369                                       5.60   \n",
       "California    38802500                                       4.40   \n",
       "\n",
       "            Legacy rape rate /1  Revised rape rate /2  Robbery rate  \\\n",
       "State                                                                 \n",
       "Alabama                   29.60                 41.30         96.90   \n",
       "Alaska                    75.30                104.70         85.40   \n",
       "Arizona                   36.60                 50.20         92.80   \n",
       "Arkansas                  39.80                 59.40         69.10   \n",
       "California                21.60                 29.70        125.50   \n",
       "\n",
       "            Aggravated assault rate  Burglary rate  Larceny-theft rate  \\\n",
       "State                                                                    \n",
       "Alabama                      283.40         819.00             2149.50   \n",
       "Alaska                       440.20         427.60             2096.40   \n",
       "Arizona                      252.10         647.10             2289.10   \n",
       "Arkansas                     346.00         835.70             2313.50   \n",
       "California                   236.60         522.30             1527.40   \n",
       "\n",
       "            Motor vehicle theft rate  Unemployment rate  Average Hourly Wage  \n",
       "State                                                                         \n",
       "Alabama                       209.10               6.10                19.66  \n",
       "Alaska                        236.00               6.50                25.98  \n",
       "Arizona                       261.30               6.10                21.43  \n",
       "Arkansas                      188.80               5.00                18.24  \n",
       "California                    391.30               6.20                25.91  "
      ]
     },
     "execution_count": 2,
     "metadata": {},
     "output_type": "execute_result"
    }
   ],
   "source": [
    "crimes.head()"
   ]
  },
  {
   "cell_type": "code",
   "execution_count": 3,
   "metadata": {},
   "outputs": [],
   "source": [
    "from sklearn.preprocessing import StandardScaler\n",
    "crimes_num_z = pd.DataFrame(StandardScaler().fit_transform(crimes), columns = crimes.columns, index = crimes.index)"
   ]
  },
  {
   "cell_type": "code",
   "execution_count": 5,
   "metadata": {},
   "outputs": [
    {
     "data": {
      "image/png": "[encoded data removed]",
      "text/plain": [
       "<Figure size 432x288 with 1 Axes>"
      ]
     },
     "metadata": {
      "needs_background": "light"
     },
     "output_type": "display_data"
    }
   ],
   "source": [
    "import matplotlib.pyplot as plt\n",
    "from sklearn_extra.cluster import KMedoids\n",
    "\n",
    "crimes_kmd2 = KMedoids(n_clusters = 2).fit(crimes_num_z)\n",
    "crimes = crimes.assign(kmed=crimes_kmd2.labels_)\n",
    "plt.scatter(crimes_num_z['Unemployment rate'], crimes_num_z['Murder and nonnegligent manslaughter rate'], c=crimes.kmed)\n",
    "plt.scatter(crimes_kmd2.cluster_centers_[:, 0], crimes_kmd2.cluster_centers_[:, 1], c='red', s=50)\n",
    "plt.show()"
   ]
  },
  {
   "cell_type": "markdown",
   "metadata": {},
   "source": [
    "I chose the K medoids method because it seems to yield more centrally located cluster center points since unlike the K mean, it doesn't take the mean value of the object in the cluster. This means that it is less affected by outliers than K mean."
   ]
  },
  {
   "cell_type": "markdown",
   "metadata": {},
   "source": [
    "#### 2. Draw a dendrogram for the crime data.  What changes do you need to make to the data, if any?"
   ]
  },
  {
   "cell_type": "code",
   "execution_count": 6,
   "metadata": {},
   "outputs": [],
   "source": [
    "from scipy.spatial.distance import cdist\n",
    "\n",
    "#create a matrix with Euclidean distances for all observations\n",
    "dis_matrix = pd.DataFrame(cdist(crimes_num_z.values, crimes_num_z.values, metric = 'euclidean'), columns = crimes_num_z.index, index = crimes_num_z.index)\n",
    "\n",
    "#code borrowed from Professor Cannon's Module:Clustering lecture."
   ]
  },
  {
   "cell_type": "code",
   "execution_count": 7,
   "metadata": {},
   "outputs": [],
   "source": [
    "from scipy.cluster.hierarchy import dendrogram, linkage, fcluster\n",
    "from sklearn.cluster import AgglomerativeClustering\n",
    "import scipy.spatial.distance as ssd\n",
    "# convert the redundant n*n square matrix form into a condensed nC2 array\n",
    "distArray = ssd.squareform(dis_matrix) # distArray[{n choose 2}-{n-i choose 2} + (j-i-1)] is the distance between points i and j\n",
    "\n",
    "#code borrowed from Professor Cannon's Module:Clustering lecture."
   ]
  },
  {
   "cell_type": "code",
   "execution_count": 8,
   "metadata": {},
   "outputs": [
    {
     "data": {
      "image/png": "[encoded data removed]",
      "text/plain": [
       "<Figure size 576x432 with 1 Axes>"
      ]
     },
     "metadata": {
      "needs_background": "light"
     },
     "output_type": "display_data"
    }
   ],
   "source": [
    "np.random.seed(123)\n",
    "linked = linkage(distArray, 'ward')\n",
    "plt.figure(figsize=(8, 6))\n",
    "dendrogram(linked, labels = dis_matrix.columns)\n",
    "plt.show()\n",
    "\n",
    "#code borrowed from Professor Cannon's Module:Clustering lecture."
   ]
  },
  {
   "cell_type": "markdown",
   "metadata": {},
   "source": [
    "No changes were needed to be made to the data itself, besides calcualting the Eucledian distance between each data point and creating a dissimilarity matrix."
   ]
  },
  {
   "cell_type": "markdown",
   "metadata": {},
   "source": [
    "#### 3. What distance measure did you use?  Why?"
   ]
  },
  {
   "cell_type": "markdown",
   "metadata": {},
   "source": [
    "As we can see in the K medoids scatter plot in question 1, there are some \"outliers\" that are especially farther away from the rest of the data points. This can presumably affect the result of methods such as single, complete, average, and centroid linkage. Because ward's method minimizes the total within-cluster variance, I would assume it is less affected by outliers and therefore I chose the ward method to measure distance."
   ]
  },
  {
   "cell_type": "markdown",
   "metadata": {},
   "source": [
    "#### 4. How do the clusters from the AGNES algorithm compare with the ones from the k-based clustering approach?  Similarities?  Differences? "
   ]
  },
  {
   "cell_type": "markdown",
   "metadata": {},
   "source": [
    "Differences: AGNES is a hierarchical agglomerative clustering while K-based clustering is a partitioning approach. AGNES also only passes through the data set once, whereas K-based clustering iterates through the data set until max-iteration is reached.\n",
    "\n",
    "Similarities: Both algorithms start with each record as its own cluster (bottom-up approach). In each step, the two clusters with the smallest distance are merged.\n",
    "\n",
    "*referenced Professor Cannon's Module:Clustering lecture."
   ]
  },
  {
   "cell_type": "markdown",
   "metadata": {},
   "source": [
    "#### 5. Draw two additional dendrograms using different distance measures.  Do they suggest a different number of clusters?  "
   ]
  },
  {
   "cell_type": "code",
   "execution_count": 9,
   "metadata": {},
   "outputs": [
    {
     "data": {
      "image/png": "[encoded data removed]",
      "text/plain": [
       "<Figure size 576x432 with 1 Axes>"
      ]
     },
     "metadata": {
      "needs_background": "light"
     },
     "output_type": "display_data"
    }
   ],
   "source": [
    "np.random.seed(123)\n",
    "linked = linkage(distArray, 'centroid')\n",
    "plt.figure(figsize=(8, 6))\n",
    "dendrogram(linked, labels = dis_matrix.columns)\n",
    "plt.show()"
   ]
  },
  {
   "cell_type": "code",
   "execution_count": 10,
   "metadata": {},
   "outputs": [
    {
     "data": {
      "image/png": "[encoded data removed]",
      "text/plain": [
       "<Figure size 576x432 with 1 Axes>"
      ]
     },
     "metadata": {
      "needs_background": "light"
     },
     "output_type": "display_data"
    }
   ],
   "source": [
    "np.random.seed(123)\n",
    "linked = linkage(distArray, 'complete')\n",
    "plt.figure(figsize=(8, 6))\n",
    "dendrogram(linked, labels = dis_matrix.columns)\n",
    "plt.show()"
   ]
  },
  {
   "cell_type": "markdown",
   "metadata": {},
   "source": [
    "The dendrogram itself doesn't tell or suggest us how many clusters we should have, as the questions asks. Rather, we choose where to cut horizontally depending on how many clusters we decide to have. That being said, the ward dendrogram offers the clearest picture of clusters. The complete dendrogram also offers a relatively clear picture of cluster, while it's hard to say the same for the centroid dendrogram.\n",
    "\n",
    "*reference material: https://www.displayr.com/what-is-dendrogram/ and Professos Cannon's Module: Clustering lecture."
   ]
  },
  {
   "cell_type": "markdown",
   "metadata": {},
   "source": [
    "#### 6. Do the hierarchical models suggest a different K than you chose previously?  What will you do with that information?"
   ]
  },
  {
   "cell_type": "markdown",
   "metadata": {},
   "source": [
    "In the previous assignment, we concluded that K=2 is the ideal number of clusters. Based on the heights of the links, the ward dendrogram seems to suggest 3 clusters, while the centroid and complete dendrograms seem to suggest 2 or 3 depending on where we want to cut horizontally. With these three hierarchical models, we can estimate that the ideal K is 2 or 3. With this information, we can test with K=2 and K=3."
   ]
  },
  {
   "cell_type": "markdown",
   "metadata": {},
   "source": [
    "#### 7.  Of the clusters produced by your \"best\" model, which cluster would you recommend for the FBI program?  Why?"
   ]
  },
  {
   "cell_type": "markdown",
   "metadata": {},
   "source": [
    "Based on my previous answers, I will be using the ward dendrogram as my best model. Since we entertained the notion of trying K=2 and K=3, let's start with K=2 first."
   ]
  },
  {
   "cell_type": "code",
   "execution_count": 11,
   "metadata": {},
   "outputs": [],
   "source": [
    "import matplotlib.pyplot as plt\n",
    "from sklearn.cluster import KMeans\n",
    "crimes_km = KMeans(n_clusters = 2, random_state = 1234)\n",
    "kmeans_out = crimes_km.fit_predict(crimes_num_z)\n",
    "crimes = crimes.assign(kmeans=crimes_km.labels_)"
   ]
  },
  {
   "cell_type": "code",
   "execution_count": 12,
   "metadata": {},
   "outputs": [
    {
     "name": "stdout",
     "output_type": "stream",
     "text": [
      "[21 30]\n"
     ]
    }
   ],
   "source": [
    "print(np.bincount(crimes_km.labels_))"
   ]
  },
  {
   "cell_type": "code",
   "execution_count": 13,
   "metadata": {},
   "outputs": [],
   "source": [
    "Clusters = pd.DataFrame(crimes_km.cluster_centers_, columns = crimes_num_z.columns).T"
   ]
  },
  {
   "cell_type": "code",
   "execution_count": 14,
   "metadata": {},
   "outputs": [
    {
     "data": {
      "text/html": [
       "<div>\n",
       "<style scoped>\n",
       "    .dataframe tbody tr th:only-of-type {\n",
       "        vertical-align: middle;\n",
       "    }\n",
       "\n",
       "    .dataframe tbody tr th {\n",
       "        vertical-align: top;\n",
       "    }\n",
       "\n",
       "    .dataframe thead th {\n",
       "        text-align: right;\n",
       "    }\n",
       "</style>\n",
       "<table border=\"1\" class=\"dataframe\">\n",
       "  <thead>\n",
       "    <tr style=\"text-align: right;\">\n",
       "      <th></th>\n",
       "      <th>0</th>\n",
       "      <th>1</th>\n",
       "    </tr>\n",
       "  </thead>\n",
       "  <tbody>\n",
       "    <tr>\n",
       "      <th>Burglary rate</th>\n",
       "      <td>0.94</td>\n",
       "      <td>-0.66</td>\n",
       "    </tr>\n",
       "    <tr>\n",
       "      <th>Aggravated assault rate</th>\n",
       "      <td>0.80</td>\n",
       "      <td>-0.56</td>\n",
       "    </tr>\n",
       "    <tr>\n",
       "      <th>Murder and nonnegligent manslaughter rate</th>\n",
       "      <td>0.75</td>\n",
       "      <td>-0.52</td>\n",
       "    </tr>\n",
       "    <tr>\n",
       "      <th>Unemployment rate</th>\n",
       "      <td>0.68</td>\n",
       "      <td>-0.48</td>\n",
       "    </tr>\n",
       "    <tr>\n",
       "      <th>Larceny-theft rate</th>\n",
       "      <td>0.67</td>\n",
       "      <td>-0.47</td>\n",
       "    </tr>\n",
       "    <tr>\n",
       "      <th>Motor vehicle theft rate</th>\n",
       "      <td>0.66</td>\n",
       "      <td>-0.46</td>\n",
       "    </tr>\n",
       "    <tr>\n",
       "      <th>Robbery rate</th>\n",
       "      <td>0.48</td>\n",
       "      <td>-0.34</td>\n",
       "    </tr>\n",
       "    <tr>\n",
       "      <th>Revised rape rate /2</th>\n",
       "      <td>0.44</td>\n",
       "      <td>-0.31</td>\n",
       "    </tr>\n",
       "    <tr>\n",
       "      <th>Legacy rape rate /1</th>\n",
       "      <td>0.38</td>\n",
       "      <td>-0.27</td>\n",
       "    </tr>\n",
       "    <tr>\n",
       "      <th>Population</th>\n",
       "      <td>0.28</td>\n",
       "      <td>-0.20</td>\n",
       "    </tr>\n",
       "    <tr>\n",
       "      <th>Average Hourly Wage</th>\n",
       "      <td>-0.02</td>\n",
       "      <td>0.01</td>\n",
       "    </tr>\n",
       "  </tbody>\n",
       "</table>\n",
       "</div>"
      ],
      "text/plain": [
       "                                              0     1\n",
       "Burglary rate                              0.94 -0.66\n",
       "Aggravated assault rate                    0.80 -0.56\n",
       "Murder and nonnegligent manslaughter rate  0.75 -0.52\n",
       "Unemployment rate                          0.68 -0.48\n",
       "Larceny-theft rate                         0.67 -0.47\n",
       "Motor vehicle theft rate                   0.66 -0.46\n",
       "Robbery rate                               0.48 -0.34\n",
       "Revised rape rate /2                       0.44 -0.31\n",
       "Legacy rape rate /1                        0.38 -0.27\n",
       "Population                                 0.28 -0.20\n",
       "Average Hourly Wage                       -0.02  0.01"
      ]
     },
     "execution_count": 14,
     "metadata": {},
     "output_type": "execute_result"
    }
   ],
   "source": [
    "Clusters.sort_values(by = [0], ascending = False)"
   ]
  },
  {
   "cell_type": "markdown",
   "metadata": {},
   "source": [
    "When we run with two clusters (K=2), I would recommend the first cluster, cluster '0', to the FBI because it has a much higher crime rate across all types of crime compared to the second cluster. Since the objective is to implement a crime prevention program, it makes sense to implement in in a cluster containing states with higher crime rates across different types of crime. Now let's examine when K=3."
   ]
  },
  {
   "cell_type": "code",
   "execution_count": 15,
   "metadata": {},
   "outputs": [],
   "source": [
    "crimes_km = KMeans(n_clusters = 3, random_state = 1234)\n",
    "kmeans_out = crimes_km.fit_predict(crimes_num_z)\n",
    "crimes = crimes.assign(kmeans=crimes_km.labels_)"
   ]
  },
  {
   "cell_type": "code",
   "execution_count": 16,
   "metadata": {},
   "outputs": [
    {
     "name": "stdout",
     "output_type": "stream",
     "text": [
      "[21 29  1]\n"
     ]
    }
   ],
   "source": [
    "print(np.bincount(crimes_km.labels_))"
   ]
  },
  {
   "cell_type": "code",
   "execution_count": 17,
   "metadata": {},
   "outputs": [],
   "source": [
    "Clusters = pd.DataFrame(crimes_km.cluster_centers_, columns = crimes_num_z.columns).T"
   ]
  },
  {
   "cell_type": "code",
   "execution_count": 18,
   "metadata": {},
   "outputs": [
    {
     "data": {
      "text/html": [
       "<div>\n",
       "<style scoped>\n",
       "    .dataframe tbody tr th:only-of-type {\n",
       "        vertical-align: middle;\n",
       "    }\n",
       "\n",
       "    .dataframe tbody tr th {\n",
       "        vertical-align: top;\n",
       "    }\n",
       "\n",
       "    .dataframe thead th {\n",
       "        text-align: right;\n",
       "    }\n",
       "</style>\n",
       "<table border=\"1\" class=\"dataframe\">\n",
       "  <thead>\n",
       "    <tr style=\"text-align: right;\">\n",
       "      <th></th>\n",
       "      <th>0</th>\n",
       "      <th>1</th>\n",
       "      <th>2</th>\n",
       "    </tr>\n",
       "  </thead>\n",
       "  <tbody>\n",
       "    <tr>\n",
       "      <th>Burglary rate</th>\n",
       "      <td>0.98</td>\n",
       "      <td>-0.71</td>\n",
       "      <td>-0.01</td>\n",
       "    </tr>\n",
       "    <tr>\n",
       "      <th>Unemployment rate</th>\n",
       "      <td>0.59</td>\n",
       "      <td>-0.49</td>\n",
       "      <td>1.74</td>\n",
       "    </tr>\n",
       "    <tr>\n",
       "      <th>Aggravated assault rate</th>\n",
       "      <td>0.58</td>\n",
       "      <td>-0.55</td>\n",
       "      <td>3.62</td>\n",
       "    </tr>\n",
       "    <tr>\n",
       "      <th>Murder and nonnegligent manslaughter rate</th>\n",
       "      <td>0.52</td>\n",
       "      <td>-0.54</td>\n",
       "      <td>4.65</td>\n",
       "    </tr>\n",
       "    <tr>\n",
       "      <th>Larceny-theft rate</th>\n",
       "      <td>0.46</td>\n",
       "      <td>-0.49</td>\n",
       "      <td>4.59</td>\n",
       "    </tr>\n",
       "    <tr>\n",
       "      <th>Motor vehicle theft rate</th>\n",
       "      <td>0.45</td>\n",
       "      <td>-0.46</td>\n",
       "      <td>3.84</td>\n",
       "    </tr>\n",
       "    <tr>\n",
       "      <th>Population</th>\n",
       "      <td>0.36</td>\n",
       "      <td>-0.23</td>\n",
       "      <td>-0.79</td>\n",
       "    </tr>\n",
       "    <tr>\n",
       "      <th>Revised rape rate /2</th>\n",
       "      <td>0.35</td>\n",
       "      <td>-0.32</td>\n",
       "      <td>2.06</td>\n",
       "    </tr>\n",
       "    <tr>\n",
       "      <th>Legacy rape rate /1</th>\n",
       "      <td>0.31</td>\n",
       "      <td>-0.30</td>\n",
       "      <td>2.14</td>\n",
       "    </tr>\n",
       "    <tr>\n",
       "      <th>Robbery rate</th>\n",
       "      <td>0.21</td>\n",
       "      <td>-0.36</td>\n",
       "      <td>5.93</td>\n",
       "    </tr>\n",
       "    <tr>\n",
       "      <th>Average Hourly Wage</th>\n",
       "      <td>-0.26</td>\n",
       "      <td>0.02</td>\n",
       "      <td>4.70</td>\n",
       "    </tr>\n",
       "  </tbody>\n",
       "</table>\n",
       "</div>"
      ],
      "text/plain": [
       "                                              0     1     2\n",
       "Burglary rate                              0.98 -0.71 -0.01\n",
       "Unemployment rate                          0.59 -0.49  1.74\n",
       "Aggravated assault rate                    0.58 -0.55  3.62\n",
       "Murder and nonnegligent manslaughter rate  0.52 -0.54  4.65\n",
       "Larceny-theft rate                         0.46 -0.49  4.59\n",
       "Motor vehicle theft rate                   0.45 -0.46  3.84\n",
       "Population                                 0.36 -0.23 -0.79\n",
       "Revised rape rate /2                       0.35 -0.32  2.06\n",
       "Legacy rape rate /1                        0.31 -0.30  2.14\n",
       "Robbery rate                               0.21 -0.36  5.93\n",
       "Average Hourly Wage                       -0.26  0.02  4.70"
      ]
     },
     "execution_count": 18,
     "metadata": {},
     "output_type": "execute_result"
    }
   ],
   "source": [
    "Clusters.sort_values(by = [0], ascending = False)"
   ]
  },
  {
   "cell_type": "markdown",
   "metadata": {},
   "source": [
    "When K=3, I would recommend thie third cluster, cluster '2', to the FBI because it has higher crime rates across almost all crime types, except for in burglary rate. One interesting thing to note is that while the cluster chosed in K=2 has a lower average hourly wage, the cluster chosen in K=3 actually has a higher average hourly wage. Unemployment rate also happens to be higher in the third cluster, which makes intuitive sense because jobs that pay higher wages also require more skilled people rather than simply more people. This might indicate a large wealth disparity with the majority of the state residents are on the low income class, which could lead to higher crime rates."
   ]
  },
  {
   "cell_type": "markdown",
   "metadata": {},
   "source": [
    "#### 8. Investigate the principle components for the data set.  What changes, if any, do you need to make to the dataset?"
   ]
  },
  {
   "cell_type": "markdown",
   "metadata": {},
   "source": [
    "Since we do not have any categorical varaibles, we do not need to change any of them into dummy varaibles. We also already normalized our data using standard scaler so there are no changes that need to be made to our data."
   ]
  },
  {
   "cell_type": "code",
   "execution_count": 19,
   "metadata": {},
   "outputs": [],
   "source": [
    "from sklearn.decomposition import PCA\n",
    "\n",
    "df = pd.DataFrame(crimes_num_z)\n",
    "pca_crimes = PCA().fit(df)\n",
    "pca_crimes_trans = pca_crimes.transform(df)\n",
    "\n",
    "#code borrowed from Professor Cannon's Module:Clustering lecture."
   ]
  },
  {
   "cell_type": "code",
   "execution_count": 20,
   "metadata": {},
   "outputs": [],
   "source": [
    "crimes.drop(columns=[\"kmed\", \"kmeans\"], inplace = True)"
   ]
  },
  {
   "cell_type": "code",
   "execution_count": 21,
   "metadata": {},
   "outputs": [
    {
     "name": "stdout",
     "output_type": "stream",
     "text": [
      "Total variance:  50751450278800.11\n"
     ]
    }
   ],
   "source": [
    "total_var = 0\n",
    "\n",
    "for column in crimes:\n",
    "    total_var += crimes[column].var()\n",
    "    \n",
    "print('Total variance: ', total_var)"
   ]
  },
  {
   "cell_type": "code",
   "execution_count": 22,
   "metadata": {},
   "outputs": [
    {
     "name": "stdout",
     "output_type": "stream",
     "text": [
      "Population: 50751449981794.07 \n",
      " % of total variability:  1.0\n",
      "\n",
      "Murder and nonnegligent manslaughter rate: 6.343 \n",
      " % of total variability:  0.0\n",
      "\n",
      "Legacy rape rate /1: 128.714 \n",
      " % of total variability:  0.0\n",
      "\n",
      "Revised rape rate /2: 233.195 \n",
      " % of total variability:  0.0\n",
      "\n",
      "Robbery rate: 5659.357 \n",
      " % of total variability:  0.0\n",
      "\n",
      "Aggravated assault rate: 12168.846 \n",
      " % of total variability:  0.0\n",
      "\n",
      "Burglary rate: 33013.213 \n",
      " % of total variability:  0.0\n",
      "\n",
      "Larceny-theft rate: 236124.67 \n",
      " % of total variability:  0.0\n",
      "\n",
      "Motor vehicle theft rate: 9659.042 \n",
      " % of total variability:  0.0\n",
      "\n",
      "Unemployment rate: 1.164 \n",
      " % of total variability:  0.0\n",
      "\n",
      "Average Hourly Wage: 11.502 \n",
      " % of total variability:  0.0\n",
      "\n"
     ]
    }
   ],
   "source": [
    "for column in crimes:\n",
    "    print(column+\":\", round(crimes[column].var(), 3), '\\n','% of total variability: ', \n",
    "          round((crimes[column].var()/total_var), 3))\n",
    "    print('')"
   ]
  },
  {
   "cell_type": "markdown",
   "metadata": {},
   "source": [
    "Population apparently explains all of the variability, probably because more densely poepulated states also have higher crime rates, so let's drop population column to see how the variability of the other variables change."
   ]
  },
  {
   "cell_type": "code",
   "execution_count": 23,
   "metadata": {},
   "outputs": [
    {
     "name": "stdout",
     "output_type": "stream",
     "text": [
      "Total variance:  297006.0448569412\n"
     ]
    }
   ],
   "source": [
    "crimes_2 = crimes.drop(columns = ['Population'])\n",
    "total_var_2 = 0\n",
    "\n",
    "for column in crimes_2:\n",
    "    total_var_2 += crimes_2[column].var()\n",
    "    \n",
    "print('Total variance: ', total_var_2)"
   ]
  },
  {
   "cell_type": "code",
   "execution_count": 27,
   "metadata": {},
   "outputs": [
    {
     "name": "stdout",
     "output_type": "stream",
     "text": [
      "Murder and nonnegligent manslaughter rate: 6.343 \n",
      " % of total variability:  0.0\n",
      "\n",
      "Legacy rape rate /1: 128.714 \n",
      " % of total variability:  0.0\n",
      "\n",
      "Revised rape rate /2: 233.195 \n",
      " % of total variability:  0.001\n",
      "\n",
      "Robbery rate: 5659.357 \n",
      " % of total variability:  0.019\n",
      "\n",
      "Aggravated assault rate: 12168.846 \n",
      " % of total variability:  0.041\n",
      "\n",
      "Burglary rate: 33013.213 \n",
      " % of total variability:  0.111\n",
      "\n",
      "Larceny-theft rate: 236124.67 \n",
      " % of total variability:  0.795\n",
      "\n",
      "Motor vehicle theft rate: 9659.042 \n",
      " % of total variability:  0.033\n",
      "\n",
      "Unemployment rate: 1.164 \n",
      " % of total variability:  0.0\n",
      "\n",
      "Average Hourly Wage: 11.502 \n",
      " % of total variability:  0.0\n",
      "\n"
     ]
    }
   ],
   "source": [
    "for column in crimes_2:\n",
    "    print(column+\":\", round(crimes_2[column].var(), 3), '\\n','% of total variability: ', \n",
    "          round((crimes_2[column].var()/total_var_2), 3))\n",
    "    print('')"
   ]
  },
  {
   "cell_type": "markdown",
   "metadata": {},
   "source": [
    "With this, we identify 'Larcency-theft rate' that account of 79.5% of the total variability and 'Burglary rate' that account of 11.1% of the total variability as the two principal components."
   ]
  },
  {
   "cell_type": "markdown",
   "metadata": {},
   "source": [
    "#### 9. How much variation is explained by the first and second coponents?  How many components does it take to explain 85% of the variability in the data?"
   ]
  },
  {
   "cell_type": "markdown",
   "metadata": {},
   "source": [
    "As explored in question 8, 90.6% of the total variability is explained by the first(Larcency-theft rate) and second (Burglary rate) components. So it takes two components to explain 85% of the variaiblity in the data."
   ]
  },
  {
   "cell_type": "markdown",
   "metadata": {},
   "source": [
    "#### 10. Investigate the loadings.  What do they mean? Can you guess how to interpret the first two principle components? "
   ]
  },
  {
   "cell_type": "code",
   "execution_count": 28,
   "metadata": {},
   "outputs": [
    {
     "name": "stdout",
     "output_type": "stream",
     "text": [
      "[0.91772944 0.08227056]\n"
     ]
    }
   ],
   "source": [
    "pcs = PCA().fit(pd.DataFrame([crimes_2[\"Larceny-theft rate\"], crimes_2[\"Burglary rate\"]]).T)\n",
    "print(pcs.explained_variance_ratio_)"
   ]
  },
  {
   "cell_type": "code",
   "execution_count": 29,
   "metadata": {},
   "outputs": [
    {
     "data": {
      "image/png": "[encoded data removed]",
      "text/plain": [
       "<Figure size 432x288 with 1 Axes>"
      ]
     },
     "metadata": {
      "needs_background": "light"
     },
     "output_type": "display_data"
    }
   ],
   "source": [
    "plt.bar(np.arange(1,3,1), pcs.explained_variance_ratio_*100)\n",
    "plt.xlabel(\"Principal Component\")\n",
    "plt.ylabel(\"% Variance Explained\")\n",
    "plt.title(\"Principal Components versus Percent of Variance Explained\")\n",
    "plt.show()"
   ]
  },
  {
   "cell_type": "code",
   "execution_count": 30,
   "metadata": {},
   "outputs": [
    {
     "data": {
      "text/plain": [
       "array([[ 0.97552683,  0.21988042],\n",
       "       [ 0.21988042, -0.97552683]])"
      ]
     },
     "execution_count": 30,
     "metadata": {},
     "output_type": "execute_result"
    }
   ],
   "source": [
    "pcs.components_"
   ]
  },
  {
   "cell_type": "markdown",
   "metadata": {},
   "source": [
    "The loadings for the first principal component are (0.876, −0.22), and the loadings for the second principal component are (0.22, 0.976)."
   ]
  },
  {
   "cell_type": "markdown",
   "metadata": {},
   "source": [
    "As discussed in question 9, the first principal component explains 90.6% of the variability in the data set. I we are to reduce this two dimensional data set down to one dimensional, we would use the first principal component (Larcency-theft rate)."
   ]
  },
  {
   "cell_type": "markdown",
   "metadata": {},
   "source": [
    "## Working code below"
   ]
  },
  {
   "cell_type": "markdown",
   "metadata": {},
   "source": [
    "All working code is shown under each question."
   ]
  }
 ],
 "metadata": {
  "kernelspec": {
   "display_name": "Python 3",
   "language": "python",
   "name": "python3"
  },
  "language_info": {
   "codemirror_mode": {
    "name": "ipython",
    "version": 3
   },
   "file_extension": ".py",
   "mimetype": "text/x-python",
   "name": "python",
   "nbconvert_exporter": "python",
   "pygments_lexer": "ipython3",
   "version": "3.7.3"
  }
 },
 "nbformat": 4,
 "nbformat_minor": 2
}
