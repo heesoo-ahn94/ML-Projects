{
 "cells": [
  {
   "cell_type": "markdown",
   "metadata": {},
   "source": [
    "##### CIS 242\n",
    "\n",
    "## Spring 2020\n",
    "\n",
    "## HOMEWORK ASSIGNMENT 6\n",
    "\n",
    "\n",
    "Please compile your responses use markdown in your Jupyter notebook to answer the questions.  If you prefer, you may also submit a Word or PDF document with the responses along the PDF or HTML version of the completed notebook.   \n",
    "\n",
    "#### Active notebooks (.ipynb files) or raw code (.py files) will NOT be accepted and no points will be given.\n",
    "\n",
    "The code part of the files will not be graded, but they will be checked if necessary to verify your findings and recommendations. Point deductions may occur if there are major discrepancies between your written answers and the output from the code. \n",
    "\n",
    "Please organize your notebook to have the homework responses at the top and the working code underneath.\n",
    "\n",
    "Questions 1 - 3 are worth 2 points each, questions 4-7 are worth 3 points each and question 8 is worth 5 points for a total of **23 points**.  To get full credit on question 8, you must use complete sentences, avoid unnecessary jargon and make a clear and concise recommendation with explanation.  Points will not be deducted for grammar errors. "
   ]
  },
  {
   "cell_type": "markdown",
   "metadata": {},
   "source": [
    "## Evaluating predictions for Universal Bank\n",
    "\n",
    "Remember: You were recently hired as a data scientist by Universal Bank. You have created a range of predictive models to try to help the VP understand who might take out a personal loan.  Now we need to understand how those models compare."
   ]
  },
  {
   "cell_type": "markdown",
   "metadata": {},
   "source": [
    "#### 1.  Recall the model you would recommend to the VP from assignment #5.  Recreate that output here.  What is the accuracy, precision and recall of the model?  (2 points)"
   ]
  },
  {
   "cell_type": "code",
   "execution_count": 1,
   "metadata": {},
   "outputs": [],
   "source": [
    "import numpy as np\n",
    "import pandas as pd\n",
    "from sklearn.naive_bayes import MultinomialNB\n",
    "from sklearn.neighbors import KNeighborsClassifier\n",
    "from sklearn.linear_model import LogisticRegression\n",
    "from sklearn.tree import DecisionTreeClassifier\n",
    "from sklearn.model_selection import train_test_split\n",
    "from sklearn.metrics import accuracy_score, f1_score, confusion_matrix, precision_score, recall_score, roc_auc_score\n",
    "from sklearn.ensemble import RandomForestClassifier\n",
    "np.random.seed(12345)\n",
    "from sklearn import metrics\n",
    "#code borrowed from Professor Cannon's lecture 6_pdf."
   ]
  },
  {
   "cell_type": "code",
   "execution_count": 2,
   "metadata": {},
   "outputs": [],
   "source": [
    "UB_df = pd.read_csv('UniversalBank.csv')\n",
    "bank = pd.DataFrame(UB_df)\n",
    "bank1 = bank.copy()"
   ]
  },
  {
   "cell_type": "code",
   "execution_count": 3,
   "metadata": {},
   "outputs": [],
   "source": [
    "#create empty lists that will later be treated as objects to fill in each education level column.\n",
    "undergrad = []\n",
    "grad = []\n",
    "prof = []\n",
    "\n",
    "#create function that takes in education level as argument and add dummy varaible values (0 or 1) in corresponding education\n",
    "#level column.\n",
    "def edu_lvl(val):\n",
    "    if val == 1:\n",
    "        undergrad.append(1)\n",
    "        grad.append(0)\n",
    "        prof.append(0)\n",
    "    elif val == 2:\n",
    "        undergrad.append(0)\n",
    "        grad.append(1)\n",
    "        prof.append(0)\n",
    "    elif val == 3:\n",
    "        undergrad.append(0)\n",
    "        grad.append(0)\n",
    "        prof.append(1)\n",
    "\n",
    "#execute function for each row value of the 'Education column'.\n",
    "for i in bank1['Education']:\n",
    "    edu_lvl(i)\n",
    "\n",
    "bank1.insert(2, \"Undergrad\", undergrad, True)\n",
    "bank1.insert(3, \"Grad\", grad, True)\n",
    "bank1.insert(4, \"Prof\", prof, True)\n",
    "del bank1['Education']\n",
    "\n",
    "bank1 = bank1[['Personal Loan','Age','Experience','Undergrad','Grad','Prof','Income','Family','CCAvg','Mortgage',\n",
    "              'Securities Account','CD Account','Online','CreditCard']]"
   ]
  },
  {
   "cell_type": "code",
   "execution_count": 4,
   "metadata": {},
   "outputs": [
    {
     "name": "stdout",
     "output_type": "stream",
     "text": [
      "Optimization terminated successfully.\n",
      "         Current function value: 0.117230\n",
      "         Iterations 9\n",
      "Model accuracy: 0.957\n"
     ]
    }
   ],
   "source": [
    "X = bank1.iloc[:,1:]\n",
    "Y = bank1.iloc[:,0]\n",
    "\n",
    "import statsmodels.api as sm\n",
    "\n",
    "logit = sm.Logit(Y, X)\n",
    "result = logit.fit()\n",
    "\n",
    "logreg = LogisticRegression(C=1e9, max_iter=5000)\n",
    "\n",
    "from sklearn.metrics import accuracy_score\n",
    "\n",
    "X_train, X_test, Y_train, Y_test = train_test_split(X, Y, test_size = 0.2,random_state = 12345)\n",
    "\n",
    "logreg.fit(X_train, Y_train)\n",
    "y_test_predict = logreg.predict(X_test)\n",
    "\n",
    "print(\"Model accuracy:\",accuracy_score(Y_test, y_test_predict))"
   ]
  },
  {
   "cell_type": "markdown",
   "metadata": {},
   "source": [
    "Accuracy of the model is 95.7%."
   ]
  },
  {
   "cell_type": "code",
   "execution_count": 5,
   "metadata": {},
   "outputs": [
    {
     "name": "stdout",
     "output_type": "stream",
     "text": [
      "Log Regression Results\n"
     ]
    },
    {
     "data": {
      "text/html": [
       "<div>\n",
       "<style scoped>\n",
       "    .dataframe tbody tr th:only-of-type {\n",
       "        vertical-align: middle;\n",
       "    }\n",
       "\n",
       "    .dataframe tbody tr th {\n",
       "        vertical-align: top;\n",
       "    }\n",
       "\n",
       "    .dataframe thead th {\n",
       "        text-align: right;\n",
       "    }\n",
       "</style>\n",
       "<table border=\"1\" class=\"dataframe\">\n",
       "  <thead>\n",
       "    <tr style=\"text-align: right;\">\n",
       "      <th>Actual</th>\n",
       "      <th>0</th>\n",
       "      <th>1</th>\n",
       "    </tr>\n",
       "    <tr>\n",
       "      <th>Predicted</th>\n",
       "      <th></th>\n",
       "      <th></th>\n",
       "    </tr>\n",
       "  </thead>\n",
       "  <tbody>\n",
       "    <tr>\n",
       "      <th>0</th>\n",
       "      <td>892</td>\n",
       "      <td>31</td>\n",
       "    </tr>\n",
       "    <tr>\n",
       "      <th>1</th>\n",
       "      <td>12</td>\n",
       "      <td>65</td>\n",
       "    </tr>\n",
       "  </tbody>\n",
       "</table>\n",
       "</div>"
      ],
      "text/plain": [
       "Actual       0   1\n",
       "Predicted         \n",
       "0          892  31\n",
       "1           12  65"
      ]
     },
     "execution_count": 5,
     "metadata": {},
     "output_type": "execute_result"
    }
   ],
   "source": [
    "logreg_results = logreg.predict(X_test)\n",
    "print(\"Log Regression Results\")\n",
    "pd.crosstab(logreg_results,Y_test,rownames = [\"Predicted\"], colnames = [\"Actual\"])"
   ]
  },
  {
   "cell_type": "markdown",
   "metadata": {},
   "source": [
    "Precision: TP/(TP+FP) -> How many positives we predicted correctly out of all the positive predictions we\n",
    "made.<br>\n",
    "TP (True Positive) = 65 <br>\n",
    "FP (False Positive) = 12 <br>\n",
    "Precision: 65/(65+12) = 84.42%. <br>\n",
    "<br>\n",
    "Recall or True Positive Rate:TP/(TP+FN) -> How many positives we predicted correctly out of all the cases that\n",
    "were really positive.<br>\n",
    "FN (False Negative) = 31 <br>\n",
    "Recall: 65/(65+31) = 67.71%"
   ]
  },
  {
   "cell_type": "code",
   "execution_count": 6,
   "metadata": {},
   "outputs": [
    {
     "name": "stdout",
     "output_type": "stream",
     "text": [
      "              precision    recall  f1-score   support\n",
      "\n",
      "           0       0.97      0.99      0.98       904\n",
      "           1       0.84      0.68      0.75        96\n",
      "\n",
      "    accuracy                           0.96      1000\n",
      "   macro avg       0.91      0.83      0.86      1000\n",
      "weighted avg       0.95      0.96      0.95      1000\n",
      "\n"
     ]
    }
   ],
   "source": [
    "from sklearn.metrics import classification_report\n",
    "print(classification_report(Y_test, logreg_results))"
   ]
  },
  {
   "cell_type": "markdown",
   "metadata": {},
   "source": [
    "#### 2. Which measure of model performance is more appropriate for the VP to consider?  Why? (2 points)"
   ]
  },
  {
   "cell_type": "markdown",
   "metadata": {},
   "source": [
    "I believe True Positive Rate/Recall rate would be the appropriate measure for the VP to consider, because the precision rate represents the rate of correctly predicted data points out of all the positive predictions made. This means ultimately, precision rate only concerns with predicted values, whereas the recall rate is based on the actual cases that were positive. This also suggests that if the predictive model is completely off and we predict a vast majority correctly out of all the positive predictions, we could be getting a high precision rate even if the model is inaccruate. An exmaple of such case that was covered in the lecture was the telecom company model in which the model predicted that no one would leave the company's service, which returned a high accruacy but did not account for customers who actually left. The model is terrible at predicting the outcome of minority classes."
   ]
  },
  {
   "cell_type": "markdown",
   "metadata": {},
   "source": [
    "#### 3.  Create a table of the difference performance criteria for all the models you have run so far. (This can be rerun in code or typed in a markdown table). Which are the two that perform best based on the criteria you recommend above?  (2 points)"
   ]
  },
  {
   "cell_type": "code",
   "execution_count": 7,
   "metadata": {},
   "outputs": [],
   "source": [
    "from sklearn.preprocessing import MinMaxScaler"
   ]
  },
  {
   "cell_type": "markdown",
   "metadata": {},
   "source": [
    "NB Model:"
   ]
  },
  {
   "cell_type": "code",
   "execution_count": 8,
   "metadata": {},
   "outputs": [],
   "source": [
    "NB_bank = bank.copy()\n",
    "NB_bank = NB_bank.drop(columns = ['Age','Experience','Income','ZIP Code','Family','CCAvg','Mortgage','Personal Loan'])\n",
    "NB_X = NB_bank.iloc[:,0:]"
   ]
  },
  {
   "cell_type": "code",
   "execution_count": 9,
   "metadata": {},
   "outputs": [],
   "source": [
    "NB_X_train, NB_X_test, Y_train, Y_test = train_test_split(NB_X, Y, test_size = 0.2, random_state = 12345)"
   ]
  },
  {
   "cell_type": "code",
   "execution_count": 10,
   "metadata": {},
   "outputs": [
    {
     "data": {
      "text/plain": [
       "MultinomialNB(alpha=1.0, class_prior=None, fit_prior=True)"
      ]
     },
     "execution_count": 10,
     "metadata": {},
     "output_type": "execute_result"
    }
   ],
   "source": [
    "NB = MultinomialNB()\n",
    "NB.fit(NB_X_train, Y_train)"
   ]
  },
  {
   "cell_type": "code",
   "execution_count": 11,
   "metadata": {},
   "outputs": [
    {
     "name": "stdout",
     "output_type": "stream",
     "text": [
      "NB Results\n"
     ]
    },
    {
     "data": {
      "text/html": [
       "<div>\n",
       "<style scoped>\n",
       "    .dataframe tbody tr th:only-of-type {\n",
       "        vertical-align: middle;\n",
       "    }\n",
       "\n",
       "    .dataframe tbody tr th {\n",
       "        vertical-align: top;\n",
       "    }\n",
       "\n",
       "    .dataframe thead th {\n",
       "        text-align: right;\n",
       "    }\n",
       "</style>\n",
       "<table border=\"1\" class=\"dataframe\">\n",
       "  <thead>\n",
       "    <tr style=\"text-align: right;\">\n",
       "      <th>Actual</th>\n",
       "      <th>0</th>\n",
       "      <th>1</th>\n",
       "    </tr>\n",
       "    <tr>\n",
       "      <th>Predicted</th>\n",
       "      <th></th>\n",
       "      <th></th>\n",
       "    </tr>\n",
       "  </thead>\n",
       "  <tbody>\n",
       "    <tr>\n",
       "      <th>0</th>\n",
       "      <td>904</td>\n",
       "      <td>96</td>\n",
       "    </tr>\n",
       "  </tbody>\n",
       "</table>\n",
       "</div>"
      ],
      "text/plain": [
       "Actual       0   1\n",
       "Predicted         \n",
       "0          904  96"
      ]
     },
     "execution_count": 11,
     "metadata": {},
     "output_type": "execute_result"
    }
   ],
   "source": [
    "NB_results = NB.predict(NB_X_test)\n",
    "print(\"NB Results\")\n",
    "pd.crosstab(NB_results,Y_test,rownames = [\"Predicted\"], colnames = [\"Actual\"])"
   ]
  },
  {
   "cell_type": "markdown",
   "metadata": {},
   "source": [
    "Recall or True Positive Rate:TP/(TP+FN) <br>\n",
    "TP (True Positive) = 0 <br>\n",
    "FN (False Negative) = 96 <br>\n",
    "Recall: 0/(0+96) = 0% <br>\n",
    "The problem with this model is that it did not predict any of them to be true. Therefore the problem of class balance occurs."
   ]
  },
  {
   "cell_type": "code",
   "execution_count": 12,
   "metadata": {},
   "outputs": [
    {
     "name": "stdout",
     "output_type": "stream",
     "text": [
      "              precision    recall  f1-score   support\n",
      "\n",
      "           0       0.90      1.00      0.95       904\n",
      "           1       0.00      0.00      0.00        96\n",
      "\n",
      "    accuracy                           0.90      1000\n",
      "   macro avg       0.45      0.50      0.47      1000\n",
      "weighted avg       0.82      0.90      0.86      1000\n",
      "\n"
     ]
    },
    {
     "name": "stderr",
     "output_type": "stream",
     "text": [
      "C:\\Users\\user\\Anaconda3\\lib\\site-packages\\sklearn\\metrics\\_classification.py:1272: UndefinedMetricWarning: Precision and F-score are ill-defined and being set to 0.0 in labels with no predicted samples. Use `zero_division` parameter to control this behavior.\n",
      "  _warn_prf(average, modifier, msg_start, len(result))\n",
      "C:\\Users\\user\\Anaconda3\\lib\\site-packages\\sklearn\\metrics\\_classification.py:1272: UndefinedMetricWarning: Precision and F-score are ill-defined and being set to 0.0 in labels with no predicted samples. Use `zero_division` parameter to control this behavior.\n",
      "  _warn_prf(average, modifier, msg_start, len(result))\n",
      "C:\\Users\\user\\Anaconda3\\lib\\site-packages\\sklearn\\metrics\\_classification.py:1272: UndefinedMetricWarning: Precision and F-score are ill-defined and being set to 0.0 in labels with no predicted samples. Use `zero_division` parameter to control this behavior.\n",
      "  _warn_prf(average, modifier, msg_start, len(result))\n"
     ]
    }
   ],
   "source": [
    "print(classification_report(Y_test, NB_results))"
   ]
  },
  {
   "cell_type": "markdown",
   "metadata": {},
   "source": [
    "KNN Model:"
   ]
  },
  {
   "cell_type": "code",
   "execution_count": 13,
   "metadata": {},
   "outputs": [],
   "source": [
    "KNN_bank = bank.copy()\n",
    "KNN_bank = KNN_bank.drop(columns = ['Age','Education','ZIP Code','Personal Loan','Securities Account','Online','CreditCard',\n",
    "                                    'Family','Mortgage','CD Account'])"
   ]
  },
  {
   "cell_type": "code",
   "execution_count": 14,
   "metadata": {},
   "outputs": [],
   "source": [
    "KNN_X = KNN_bank.iloc[:,0:]"
   ]
  },
  {
   "cell_type": "code",
   "execution_count": 15,
   "metadata": {},
   "outputs": [],
   "source": [
    "KNN_X_train, KNN_X_test, Y_train, Y_test = train_test_split(KNN_X, Y, test_size = 0.2, random_state = 12345)"
   ]
  },
  {
   "cell_type": "code",
   "execution_count": 16,
   "metadata": {},
   "outputs": [
    {
     "data": {
      "text/plain": [
       "KNeighborsClassifier(algorithm='auto', leaf_size=30, metric='minkowski',\n",
       "                     metric_params=None, n_jobs=None, n_neighbors=20, p=2,\n",
       "                     weights='uniform')"
      ]
     },
     "execution_count": 16,
     "metadata": {},
     "output_type": "execute_result"
    }
   ],
   "source": [
    "KNN = KNeighborsClassifier(n_neighbors = 20)\n",
    "KNN.fit(KNN_X_train, Y_train)"
   ]
  },
  {
   "cell_type": "code",
   "execution_count": 17,
   "metadata": {},
   "outputs": [
    {
     "name": "stdout",
     "output_type": "stream",
     "text": [
      "KNN Results\n"
     ]
    },
    {
     "data": {
      "text/html": [
       "<div>\n",
       "<style scoped>\n",
       "    .dataframe tbody tr th:only-of-type {\n",
       "        vertical-align: middle;\n",
       "    }\n",
       "\n",
       "    .dataframe tbody tr th {\n",
       "        vertical-align: top;\n",
       "    }\n",
       "\n",
       "    .dataframe thead th {\n",
       "        text-align: right;\n",
       "    }\n",
       "</style>\n",
       "<table border=\"1\" class=\"dataframe\">\n",
       "  <thead>\n",
       "    <tr style=\"text-align: right;\">\n",
       "      <th>Actual</th>\n",
       "      <th>0</th>\n",
       "      <th>1</th>\n",
       "    </tr>\n",
       "    <tr>\n",
       "      <th>Predicted</th>\n",
       "      <th></th>\n",
       "      <th></th>\n",
       "    </tr>\n",
       "  </thead>\n",
       "  <tbody>\n",
       "    <tr>\n",
       "      <th>0</th>\n",
       "      <td>885</td>\n",
       "      <td>68</td>\n",
       "    </tr>\n",
       "    <tr>\n",
       "      <th>1</th>\n",
       "      <td>19</td>\n",
       "      <td>28</td>\n",
       "    </tr>\n",
       "  </tbody>\n",
       "</table>\n",
       "</div>"
      ],
      "text/plain": [
       "Actual       0   1\n",
       "Predicted         \n",
       "0          885  68\n",
       "1           19  28"
      ]
     },
     "execution_count": 17,
     "metadata": {},
     "output_type": "execute_result"
    }
   ],
   "source": [
    "KNN_results = KNN.predict(KNN_X_test)\n",
    "print(\"KNN Results\")\n",
    "pd.crosstab(KNN_results,Y_test,rownames = [\"Predicted\"], colnames = [\"Actual\"])"
   ]
  },
  {
   "cell_type": "markdown",
   "metadata": {},
   "source": [
    "Recall or True Positive Rate:TP/(TP+FN) <br>\n",
    "TP (True Positive) = 28 <br>\n",
    "FN (False Negative) = 68 <br>\n",
    "Recall: 28/(28+68) =  29.17% <br>"
   ]
  },
  {
   "cell_type": "code",
   "execution_count": 18,
   "metadata": {},
   "outputs": [
    {
     "name": "stdout",
     "output_type": "stream",
     "text": [
      "              precision    recall  f1-score   support\n",
      "\n",
      "           0       0.93      0.98      0.95       904\n",
      "           1       0.60      0.29      0.39        96\n",
      "\n",
      "    accuracy                           0.91      1000\n",
      "   macro avg       0.76      0.64      0.67      1000\n",
      "weighted avg       0.90      0.91      0.90      1000\n",
      "\n"
     ]
    }
   ],
   "source": [
    "print(classification_report(Y_test, KNN_results))"
   ]
  },
  {
   "cell_type": "markdown",
   "metadata": {},
   "source": [
    "Decision Tree Model:"
   ]
  },
  {
   "cell_type": "code",
   "execution_count": 19,
   "metadata": {},
   "outputs": [],
   "source": [
    "import io\n",
    "\n",
    "DT_bank = bank.copy()\n",
    "DT_bank = DT_bank.drop(columns=['Age','Experience','Personal Loan','Income','ZIP Code','Family','CCAvg','Mortgage'])\n",
    "DT_X = DT_bank.iloc[:,0:]"
   ]
  },
  {
   "cell_type": "code",
   "execution_count": 20,
   "metadata": {},
   "outputs": [],
   "source": [
    "DT_X_train, DT_X_test, Y_train, Y_test = train_test_split(DT_X, Y, test_size = 0.2, random_state=12345)"
   ]
  },
  {
   "cell_type": "code",
   "execution_count": 21,
   "metadata": {},
   "outputs": [
    {
     "data": {
      "text/plain": [
       "DecisionTreeClassifier(ccp_alpha=0.0, class_weight=None, criterion='entropy',\n",
       "                       max_depth=None, max_features=None, max_leaf_nodes=None,\n",
       "                       min_impurity_decrease=0.0, min_impurity_split=None,\n",
       "                       min_samples_leaf=1, min_samples_split=2,\n",
       "                       min_weight_fraction_leaf=0.0, presort='deprecated',\n",
       "                       random_state=None, splitter='best')"
      ]
     },
     "execution_count": 21,
     "metadata": {},
     "output_type": "execute_result"
    }
   ],
   "source": [
    "DT = DecisionTreeClassifier(criterion = \"entropy\")\n",
    "DT.fit(DT_X_train, Y_train)"
   ]
  },
  {
   "cell_type": "code",
   "execution_count": 22,
   "metadata": {},
   "outputs": [
    {
     "name": "stdout",
     "output_type": "stream",
     "text": [
      "DT Results\n"
     ]
    },
    {
     "data": {
      "text/html": [
       "<div>\n",
       "<style scoped>\n",
       "    .dataframe tbody tr th:only-of-type {\n",
       "        vertical-align: middle;\n",
       "    }\n",
       "\n",
       "    .dataframe tbody tr th {\n",
       "        vertical-align: top;\n",
       "    }\n",
       "\n",
       "    .dataframe thead th {\n",
       "        text-align: right;\n",
       "    }\n",
       "</style>\n",
       "<table border=\"1\" class=\"dataframe\">\n",
       "  <thead>\n",
       "    <tr style=\"text-align: right;\">\n",
       "      <th>Actual</th>\n",
       "      <th>0</th>\n",
       "      <th>1</th>\n",
       "    </tr>\n",
       "    <tr>\n",
       "      <th>Predicted</th>\n",
       "      <th></th>\n",
       "      <th></th>\n",
       "    </tr>\n",
       "  </thead>\n",
       "  <tbody>\n",
       "    <tr>\n",
       "      <th>0</th>\n",
       "      <td>896</td>\n",
       "      <td>73</td>\n",
       "    </tr>\n",
       "    <tr>\n",
       "      <th>1</th>\n",
       "      <td>8</td>\n",
       "      <td>23</td>\n",
       "    </tr>\n",
       "  </tbody>\n",
       "</table>\n",
       "</div>"
      ],
      "text/plain": [
       "Actual       0   1\n",
       "Predicted         \n",
       "0          896  73\n",
       "1            8  23"
      ]
     },
     "execution_count": 22,
     "metadata": {},
     "output_type": "execute_result"
    }
   ],
   "source": [
    "DT_results = DT.predict(DT_X_test)\n",
    "print(\"DT Results\")\n",
    "pd.crosstab(DT_results,Y_test,rownames = [\"Predicted\"], colnames = [\"Actual\"])"
   ]
  },
  {
   "cell_type": "markdown",
   "metadata": {},
   "source": [
    "Recall or True Positive Rate:TP/(TP+FN) <br>\n",
    "TP (True Positive) = 23 <br>\n",
    "FN (False Negative) = 73 <br>\n",
    "Recall: 23/(23+73) =  23.96% <br>"
   ]
  },
  {
   "cell_type": "code",
   "execution_count": 23,
   "metadata": {},
   "outputs": [
    {
     "name": "stdout",
     "output_type": "stream",
     "text": [
      "              precision    recall  f1-score   support\n",
      "\n",
      "           0       0.92      0.99      0.96       904\n",
      "           1       0.74      0.24      0.36        96\n",
      "\n",
      "    accuracy                           0.92      1000\n",
      "   macro avg       0.83      0.62      0.66      1000\n",
      "weighted avg       0.91      0.92      0.90      1000\n",
      "\n"
     ]
    }
   ],
   "source": [
    "print(classification_report(Y_test, DT_results))"
   ]
  },
  {
   "cell_type": "markdown",
   "metadata": {},
   "source": [
    "RF Model:"
   ]
  },
  {
   "cell_type": "code",
   "execution_count": 24,
   "metadata": {},
   "outputs": [],
   "source": [
    "RF_bank = DT_bank.copy()\n",
    "RF_X = DT_bank.iloc[:,0:]"
   ]
  },
  {
   "cell_type": "code",
   "execution_count": 25,
   "metadata": {},
   "outputs": [],
   "source": [
    "RF_X_train, RF_X_test, Y_train, Y_test = train_test_split(RF_X, Y, test_size = 0.2, random_state=12345)"
   ]
  },
  {
   "cell_type": "code",
   "execution_count": 26,
   "metadata": {},
   "outputs": [
    {
     "data": {
      "text/plain": [
       "RandomForestClassifier(bootstrap=True, ccp_alpha=0.0, class_weight=None,\n",
       "                       criterion='gini', max_depth=None, max_features='auto',\n",
       "                       max_leaf_nodes=None, max_samples=None,\n",
       "                       min_impurity_decrease=0.0, min_impurity_split=None,\n",
       "                       min_samples_leaf=1, min_samples_split=2,\n",
       "                       min_weight_fraction_leaf=0.0, n_estimators=100,\n",
       "                       n_jobs=None, oob_score=False, random_state=12345,\n",
       "                       verbose=0, warm_start=False)"
      ]
     },
     "execution_count": 26,
     "metadata": {},
     "output_type": "execute_result"
    }
   ],
   "source": [
    "RF = RandomForestClassifier(random_state = 12345)\n",
    "RF.fit(RF_X_train, Y_train)"
   ]
  },
  {
   "cell_type": "code",
   "execution_count": 27,
   "metadata": {},
   "outputs": [
    {
     "name": "stdout",
     "output_type": "stream",
     "text": [
      "RF Results\n"
     ]
    },
    {
     "data": {
      "text/html": [
       "<div>\n",
       "<style scoped>\n",
       "    .dataframe tbody tr th:only-of-type {\n",
       "        vertical-align: middle;\n",
       "    }\n",
       "\n",
       "    .dataframe tbody tr th {\n",
       "        vertical-align: top;\n",
       "    }\n",
       "\n",
       "    .dataframe thead th {\n",
       "        text-align: right;\n",
       "    }\n",
       "</style>\n",
       "<table border=\"1\" class=\"dataframe\">\n",
       "  <thead>\n",
       "    <tr style=\"text-align: right;\">\n",
       "      <th>Actual</th>\n",
       "      <th>0</th>\n",
       "      <th>1</th>\n",
       "    </tr>\n",
       "    <tr>\n",
       "      <th>Predicted</th>\n",
       "      <th></th>\n",
       "      <th></th>\n",
       "    </tr>\n",
       "  </thead>\n",
       "  <tbody>\n",
       "    <tr>\n",
       "      <th>0</th>\n",
       "      <td>892</td>\n",
       "      <td>73</td>\n",
       "    </tr>\n",
       "    <tr>\n",
       "      <th>1</th>\n",
       "      <td>12</td>\n",
       "      <td>23</td>\n",
       "    </tr>\n",
       "  </tbody>\n",
       "</table>\n",
       "</div>"
      ],
      "text/plain": [
       "Actual       0   1\n",
       "Predicted         \n",
       "0          892  73\n",
       "1           12  23"
      ]
     },
     "execution_count": 27,
     "metadata": {},
     "output_type": "execute_result"
    }
   ],
   "source": [
    "RF_results = RF.predict(RF_X_test)\n",
    "print(\"RF Results\")\n",
    "pd.crosstab(RF_results,Y_test,rownames = [\"Predicted\"], colnames = [\"Actual\"])"
   ]
  },
  {
   "cell_type": "markdown",
   "metadata": {},
   "source": [
    "Recall or True Positive Rate:TP/(TP+FN) <br>\n",
    "TP (True Positive) = 23 <br>\n",
    "FN (False Negative) = 73 <br>\n",
    "Recall: 23/(23+73) =  23.96% <br>"
   ]
  },
  {
   "cell_type": "code",
   "execution_count": 28,
   "metadata": {},
   "outputs": [
    {
     "name": "stdout",
     "output_type": "stream",
     "text": [
      "              precision    recall  f1-score   support\n",
      "\n",
      "           0       0.92      0.99      0.95       904\n",
      "           1       0.66      0.24      0.35        96\n",
      "\n",
      "    accuracy                           0.92      1000\n",
      "   macro avg       0.79      0.61      0.65      1000\n",
      "weighted avg       0.90      0.92      0.90      1000\n",
      "\n"
     ]
    }
   ],
   "source": [
    "print(classification_report(Y_test, RF_results))"
   ]
  },
  {
   "cell_type": "markdown",
   "metadata": {},
   "source": [
    "According to the recall rates, log regression model and KNN model are the two that perform best with recall rates of 67.61% and 29.17% respectively."
   ]
  },
  {
   "cell_type": "markdown",
   "metadata": {},
   "source": [
    "#### 4.  Chart the ROC curves for the two models and compare the areas under the curves.  Is there a marked difference their shapes or areas? Why do you think that is? Does this change your recommendation for \"best\" model? (3 points)"
   ]
  },
  {
   "cell_type": "code",
   "execution_count": 29,
   "metadata": {},
   "outputs": [
    {
     "data": {
      "image/png": "[encoded data removed]",
      "text/plain": [
       "<Figure size 432x288 with 1 Axes>"
      ]
     },
     "metadata": {
      "needs_background": "light"
     },
     "output_type": "display_data"
    }
   ],
   "source": [
    "from sklearn.metrics import plot_roc_curve\n",
    "import matplotlib.pyplot as plt\n",
    "logreg_disp = plot_roc_curve(logreg, X_test, Y_test)\n",
    "KNN_disp = plot_roc_curve(KNN, KNN_X_test, Y_test, ax=logreg_disp.ax_)\n",
    "\n",
    "#code borrowed from Professor Cannon's lecture 6_pdf."
   ]
  },
  {
   "cell_type": "markdown",
   "metadata": {},
   "source": [
    "As mentioned in the lecture notes, \"The ROC (receiver operating characteristics) curve displays the true positive rate (sensitivity) against the false positive rate (1-specificity). The closer the curve follows the left hand border and then the top left border of the ROC space, the more accurate the model.\" <br>\n",
    "This supports my choice of advising the VP to use the recall rate with the log regression model as it bases the rate on the number of customers who actually took out personal loans(TP), rather than the number of customers that the model predicts will take out a personal loan. We can see that the curve of the log regression in the graph above converges closely to 1.0 on the y-axis (True Positve Rate) and converges closely to 0.0 on the x-axis (False Positive Rate). This follows the pattern mentioned in the lecture notes referenced above that \"The closer the curve follows the left hand border and then the top left border of the ROC space, the more accurate the model\"."
   ]
  },
  {
   "cell_type": "code",
   "execution_count": 30,
   "metadata": {},
   "outputs": [
    {
     "name": "stdout",
     "output_type": "stream",
     "text": [
      "Logistic:  0.8319044985250739\n",
      "KNN:  0.6353244837758112\n"
     ]
    }
   ],
   "source": [
    "logreg_disp.figure_.suptitle(\"ROC curve comparison\")\n",
    "plt.show()\n",
    "\n",
    "print(\"Logistic: \" , metrics.roc_auc_score(Y_test, logreg_results))\n",
    "print(\"KNN: \" , metrics.roc_auc_score(Y_test, KNN_results))\n",
    "\n",
    "#code borrowed from Professor Cannon's lecture 6_pdf."
   ]
  },
  {
   "cell_type": "markdown",
   "metadata": {},
   "source": [
    "#### 5. Run a bagged version of the two models.  What parameter settings did you choose?  Does the result change your decision about the \"best\" model? (3 points)"
   ]
  },
  {
   "cell_type": "code",
   "execution_count": 31,
   "metadata": {},
   "outputs": [
    {
     "name": "stdout",
     "output_type": "stream",
     "text": [
      "OOB 0.96025\n",
      "Bagged log_reg model:                precision    recall  f1-score   support\n",
      "\n",
      "           0       0.97      0.99      0.98       904\n",
      "           1       0.83      0.67      0.74        96\n",
      "\n",
      "    accuracy                           0.95      1000\n",
      "   macro avg       0.90      0.83      0.86      1000\n",
      "weighted avg       0.95      0.95      0.95      1000\n",
      "\n"
     ]
    }
   ],
   "source": [
    "from sklearn.ensemble import BaggingClassifier\n",
    "\n",
    "LogReg_bag = BaggingClassifier(n_estimators=30, base_estimator=logreg, oob_score=True, random_state=0)\n",
    "LogReg_bag.fit(X_train,Y_train)\n",
    "print('OOB', LogReg_bag.oob_score_)\n",
    "\n",
    "predicted=LogReg_bag.predict(X_test)\n",
    "print(\"Bagged log_reg model: \", metrics.classification_report(Y_test, predicted))"
   ]
  },
  {
   "cell_type": "code",
   "execution_count": 32,
   "metadata": {},
   "outputs": [
    {
     "name": "stdout",
     "output_type": "stream",
     "text": [
      "OOB 0.908\n",
      "Bagged KNN model:                precision    recall  f1-score   support\n",
      "\n",
      "           0       0.93      0.98      0.95       904\n",
      "           1       0.59      0.31      0.41        96\n",
      "\n",
      "    accuracy                           0.91      1000\n",
      "   macro avg       0.76      0.64      0.68      1000\n",
      "weighted avg       0.90      0.91      0.90      1000\n",
      "\n"
     ]
    }
   ],
   "source": [
    "KNN_bag = BaggingClassifier(n_estimators=30, base_estimator=KNN, oob_score=True, random_state=0)\n",
    "KNN_bag.fit(KNN_X_train,Y_train)\n",
    "print('OOB', KNN_bag.oob_score_)\n",
    "\n",
    "predicted=KNN_bag.predict(KNN_X_test)\n",
    "print(\"Bagged KNN model: \", metrics.classification_report(Y_test, predicted))"
   ]
  },
  {
   "cell_type": "markdown",
   "metadata": {},
   "source": [
    "As a general rule of thumb in statistics, a sample size of less than 30 is considered a small sample, so n_estimator parameter is set to 30 as done in the lecture notes. The base_estimator parameter is set to 'logreg' and 'KNN' respectively as those are the models we want to replicate to get a larger sample size to bag. <br>\n",
    "Bagging actually results in a 1% reduction from 68% to 67& in the log regression model's recall rate, while the KNN model's increases by 2% from 29% to 31%. My decision on the \"best model\" does not change as the log regression model still has a significantly higher recall rate than the KNN model."
   ]
  },
  {
   "cell_type": "markdown",
   "metadata": {},
   "source": [
    "#### 6. Run a boosted version of the two models.  What parameter settings did you choose?  Does the result change your decision about the \"best\" model? (3 points)"
   ]
  },
  {
   "cell_type": "code",
   "execution_count": 33,
   "metadata": {},
   "outputs": [
    {
     "name": "stdout",
     "output_type": "stream",
     "text": [
      "logregboost:               precision    recall  f1-score   support\n",
      "\n",
      "           0       0.96      0.99      0.97       904\n",
      "           1       0.84      0.65      0.73        96\n",
      "\n",
      "    accuracy                           0.95      1000\n",
      "   macro avg       0.90      0.82      0.85      1000\n",
      "weighted avg       0.95      0.95      0.95      1000\n",
      "\n"
     ]
    }
   ],
   "source": [
    "from sklearn.ensemble import AdaBoostClassifier\n",
    "\n",
    "logregboost = AdaBoostClassifier(LogisticRegression(solver = 'lbfgs', C=1e9, max_iter = 1000000000),n_estimators=200)\n",
    "logregboost.fit(X_train, Y_train)\n",
    "\n",
    "print(\"logregboost: \" + str(metrics.classification_report(Y_test, logregboost.predict(X_test))))"
   ]
  },
  {
   "cell_type": "code",
   "execution_count": 34,
   "metadata": {},
   "outputs": [
    {
     "data": {
      "text/html": [
       "<div>\n",
       "<style scoped>\n",
       "    .dataframe tbody tr th:only-of-type {\n",
       "        vertical-align: middle;\n",
       "    }\n",
       "\n",
       "    .dataframe tbody tr th {\n",
       "        vertical-align: top;\n",
       "    }\n",
       "\n",
       "    .dataframe thead th {\n",
       "        text-align: right;\n",
       "    }\n",
       "</style>\n",
       "<table border=\"1\" class=\"dataframe\">\n",
       "  <thead>\n",
       "    <tr style=\"text-align: right;\">\n",
       "      <th></th>\n",
       "      <th>Precision</th>\n",
       "      <th>Recall</th>\n",
       "      <th>f1-score</th>\n",
       "    </tr>\n",
       "  </thead>\n",
       "  <tbody>\n",
       "    <tr>\n",
       "      <th>Log_reg</th>\n",
       "      <td>0.84</td>\n",
       "      <td>0.68</td>\n",
       "      <td>0.75</td>\n",
       "    </tr>\n",
       "    <tr>\n",
       "      <th>Bagged log_reg</th>\n",
       "      <td>0.83</td>\n",
       "      <td>0.67</td>\n",
       "      <td>0.74</td>\n",
       "    </tr>\n",
       "    <tr>\n",
       "      <th>Boosted log_reg</th>\n",
       "      <td>0.84</td>\n",
       "      <td>0.65</td>\n",
       "      <td>0.73</td>\n",
       "    </tr>\n",
       "  </tbody>\n",
       "</table>\n",
       "</div>"
      ],
      "text/plain": [
       "                 Precision  Recall  f1-score\n",
       "Log_reg               0.84    0.68      0.75\n",
       "Bagged log_reg        0.83    0.67      0.74\n",
       "Boosted log_reg       0.84    0.65      0.73"
      ]
     },
     "execution_count": 34,
     "metadata": {},
     "output_type": "execute_result"
    }
   ],
   "source": [
    "measurements = {'Precision':[.84,.83,.84], 'Recall':[.68,.67,.65], 'f1-score':[.75,.74,.73]}\n",
    "m_df = pd.DataFrame(measurements,index=['Log_reg','Bagged log_reg','Boosted log_reg'])\n",
    "m_df"
   ]
  },
  {
   "cell_type": "markdown",
   "metadata": {},
   "source": [
    "The results of the boosted version as well as the previously generated bagged version are interesting because they are both lower than the recall rate of the first version of the log regression (68%). It's interesting because both bagging and boosting takes an ensemble of weak learners and creates a stronger model, but perhaps the reason why they yield lower recall rates is because both versions are overfitting the data with more samples and therefore it's becoming less closer to the true positive results. The KNN model cannot be boosted presumably because it is a lazy learner and therefore we cannot \"train\" it. Not being able to train the model results in no weighting to penalize inaccurately predicted results, and therefore we cannot boost it as boosting requires weights."
   ]
  },
  {
   "cell_type": "markdown",
   "metadata": {},
   "source": [
    "#### 7.  Try addressing the class imbalance by using one of the three approches outlined in class.  Does it improve the performance of your \"best\" model?  (3 points) "
   ]
  },
  {
   "cell_type": "markdown",
   "metadata": {},
   "source": [
    "Oversample the minority class by matching sampling size to half of majority sample size: <br>\n",
    "In question 1, the number of people that did not take out a personal loan was 892+12 = 904 and the number of people that took out a personal loan was 96. The class imbalance was at an approximate ratio of 10.6:1 (major:minor) so we will try to reduce the gap."
   ]
  },
  {
   "cell_type": "code",
   "execution_count": 35,
   "metadata": {},
   "outputs": [
    {
     "name": "stdout",
     "output_type": "stream",
     "text": [
      "(3616, 14)\n",
      "(384, 14)\n",
      "3616\n"
     ]
    }
   ],
   "source": [
    "from sklearn.utils import resample\n",
    "\n",
    "X = pd.concat([X_train, Y_train], axis=1)\n",
    "\n",
    "no_loan = X[X['Personal Loan']==0]\n",
    "loan = X[X['Personal Loan']==1]\n",
    "\n",
    "print(no_loan.shape)\n",
    "print(loan.shape)\n",
    "print(len(no_loan))\n",
    "#code borrowed from Professor Cannon's lecture 6_pdf."
   ]
  },
  {
   "cell_type": "code",
   "execution_count": 36,
   "metadata": {},
   "outputs": [
    {
     "data": {
      "text/plain": [
       "0    3616\n",
       "1    1808\n",
       "Name: Personal Loan, dtype: int64"
      ]
     },
     "execution_count": 36,
     "metadata": {},
     "output_type": "execute_result"
    }
   ],
   "source": [
    "# upsample minority\n",
    "loan_upsampled = resample(loan, replace=True, n_samples=int(len(no_loan)/2), random_state=27)\n",
    "\n",
    "# combine majority and upsampled minority\n",
    "upsampled = pd.concat([no_loan, loan_upsampled])\n",
    "upsampled['Personal Loan'].value_counts()\n",
    "#code borrowed from Professor Cannon's lecture 6_pdf."
   ]
  },
  {
   "cell_type": "code",
   "execution_count": 37,
   "metadata": {},
   "outputs": [
    {
     "data": {
      "text/plain": [
       "LogisticRegression(C=1000000000.0, class_weight=None, dual=False,\n",
       "                   fit_intercept=True, intercept_scaling=1, l1_ratio=None,\n",
       "                   max_iter=5000, multi_class='auto', n_jobs=None, penalty='l2',\n",
       "                   random_state=None, solver='lbfgs', tol=0.0001, verbose=0,\n",
       "                   warm_start=False)"
      ]
     },
     "execution_count": 37,
     "metadata": {},
     "output_type": "execute_result"
    }
   ],
   "source": [
    "Y_train = upsampled['Personal Loan']\n",
    "X_train = upsampled.drop('Personal Loan', axis=1)\n",
    "\n",
    "logreg = LogisticRegression(solver = 'lbfgs', C=1e9, max_iter = 5000)\n",
    "logreg.fit(X_train, Y_train)"
   ]
  },
  {
   "cell_type": "code",
   "execution_count": 38,
   "metadata": {},
   "outputs": [
    {
     "name": "stdout",
     "output_type": "stream",
     "text": [
      "accuracy of logistic: 0.933\n",
      "Logit Results\n"
     ]
    },
    {
     "data": {
      "text/html": [
       "<div>\n",
       "<style scoped>\n",
       "    .dataframe tbody tr th:only-of-type {\n",
       "        vertical-align: middle;\n",
       "    }\n",
       "\n",
       "    .dataframe tbody tr th {\n",
       "        vertical-align: top;\n",
       "    }\n",
       "\n",
       "    .dataframe thead th {\n",
       "        text-align: right;\n",
       "    }\n",
       "</style>\n",
       "<table border=\"1\" class=\"dataframe\">\n",
       "  <thead>\n",
       "    <tr style=\"text-align: right;\">\n",
       "      <th>Actual</th>\n",
       "      <th>0</th>\n",
       "      <th>1</th>\n",
       "    </tr>\n",
       "    <tr>\n",
       "      <th>Predicted</th>\n",
       "      <th></th>\n",
       "      <th></th>\n",
       "    </tr>\n",
       "  </thead>\n",
       "  <tbody>\n",
       "    <tr>\n",
       "      <th>0</th>\n",
       "      <td>849</td>\n",
       "      <td>12</td>\n",
       "    </tr>\n",
       "    <tr>\n",
       "      <th>1</th>\n",
       "      <td>55</td>\n",
       "      <td>84</td>\n",
       "    </tr>\n",
       "  </tbody>\n",
       "</table>\n",
       "</div>"
      ],
      "text/plain": [
       "Actual       0   1\n",
       "Predicted         \n",
       "0          849  12\n",
       "1           55  84"
      ]
     },
     "execution_count": 38,
     "metadata": {},
     "output_type": "execute_result"
    }
   ],
   "source": [
    "print(\"accuracy of logistic: \" + str(metrics.accuracy_score(Y_test, logreg.predict(X_test))))\n",
    "print(\"Logit Results\")\n",
    "pd.crosstab(logreg.predict(X_test),Y_test,rownames = [\"Predicted\"], colnames = [\"Actual\"])"
   ]
  },
  {
   "cell_type": "markdown",
   "metadata": {},
   "source": [
    "Recall or True Positive Rate:TP/(TP+FN) -> How many positives we predicted correctly out of all the cases that\n",
    "were really positive.<br>\n",
    "TP (True Positive) = 84 <br>\n",
    "FN (False Negative) = 12 <br>\n",
    "Recall: 84/(84+12) = 87.5% <br>\n",
    "Oversampling the minority class ('Personal Loan' = 1) by upscaling it to the have of the sample size of the majority class ('Personal Loan' = 0) increased the recall rate from 67.71% to 87.5%, thus improving it."
   ]
  },
  {
   "cell_type": "markdown",
   "metadata": {},
   "source": [
    "#### 8. Of all the models you have run for the VP of Universal Bank (Logistic, KNN, NB, DT, RF), and all the tricks we have used to find the \"best\" model, which one wins? Why? Write a short paragraph for the VP explaining your approach and your final recommendation. (5 points)"
   ]
  },
  {
   "cell_type": "markdown",
   "metadata": {},
   "source": [
    "I would recommend the log regression model and the recall rate produced from oversampling the minority class. The reason behind this choice is not simply because the log regression model has the highest accuracy, but because it has the highest recall rate which can further be improved by reducing class imbalance between the majority('Peronal Loan'=0) and minority('Peronal Loan'=1) classes. As discussed in question 2, <br> \n",
    "\"the precision rate represents the rate of correctly predicted data points out of all the positive predictions made. This means ultimately, precision rate only concerns with predicted values, whereas the recall rate is based on the actual cases that were positive. This also suggests that if the predictive model is completely off and we predict a vast majority correctly out of all the positive predictions, we could be getting a high precision rate even if the model is inaccruate.\" <br>\n",
    "If we create a ROC curve for every model we have run so far, we can see the visual comparison between their accuracies in getting the actual values correctly, not the predicted values:"
   ]
  },
  {
   "cell_type": "code",
   "execution_count": 39,
   "metadata": {},
   "outputs": [
    {
     "data": {
      "image/png": "[encoded data removed]",
      "text/plain": [
       "<Figure size 432x288 with 1 Axes>"
      ]
     },
     "metadata": {
      "needs_background": "light"
     },
     "output_type": "display_data"
    },
    {
     "name": "stdout",
     "output_type": "stream",
     "text": [
      "Logistic:  0.8319044985250739\n",
      "KNN:  0.6353244837758112\n",
      "RF:  0.6131544985250738\n",
      "DT:  0.6153668879056047\n",
      "NB:  0.5\n"
     ]
    }
   ],
   "source": [
    "logreg_disp = plot_roc_curve(logreg, X_test, Y_test)\n",
    "KNN_disp = plot_roc_curve(KNN, KNN_X_test, Y_test, ax=logreg_disp.ax_)\n",
    "RF_disp = plot_roc_curve(RF, RF_X_test, Y_test, ax=logreg_disp.ax_)\n",
    "DT_disp = plot_roc_curve(DT, DT_X_test, Y_test, ax=logreg_disp.ax_)\n",
    "NB_disp = plot_roc_curve(NB, NB_X_test, Y_test, ax=logreg_disp.ax_)\n",
    "\n",
    "logreg_disp.figure_.suptitle(\"ROC curve comparison\")\n",
    "plt.show()\n",
    "\n",
    "print(\"Logistic: \" , metrics.roc_auc_score(Y_test, logreg_results))\n",
    "print(\"KNN: \" , metrics.roc_auc_score(Y_test, KNN_results))\n",
    "print(\"RF: \" , metrics.roc_auc_score(Y_test,RF_results))\n",
    "print(\"DT: \" , metrics.roc_auc_score(Y_test, DT_results))\n",
    "print(\"NB: \" , metrics.roc_auc_score(Y_test, NB_results))"
   ]
  },
  {
   "cell_type": "markdown",
   "metadata": {},
   "source": [
    "As we can see, the log regression model displays the highest TPR and the lowest FPR. In conclusion, if the VP wants to know which model is best at predicting which of the bank's customers will take out a personal loan based on previous data on customer who did/did not take out personal loans, the log regression model would be the best choice to train with the 'UniversalBank.csv' raw data."
   ]
  },
  {
   "cell_type": "markdown",
   "metadata": {},
   "source": [
    "## Working code below"
   ]
  },
  {
   "cell_type": "markdown",
   "metadata": {},
   "source": [
    "All working code is shown under each question."
   ]
  }
 ],
 "metadata": {
  "kernelspec": {
   "display_name": "Python 3",
   "language": "python",
   "name": "python3"
  },
  "language_info": {
   "codemirror_mode": {
    "name": "ipython",
    "version": 3
   },
   "file_extension": ".py",
   "mimetype": "text/x-python",
   "name": "python",
   "nbconvert_exporter": "python",
   "pygments_lexer": "ipython3",
   "version": "3.7.3"
  }
 },
 "nbformat": 4,
 "nbformat_minor": 2
}
