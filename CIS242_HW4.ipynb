{
 "cells": [
  {
   "cell_type": "markdown",
   "metadata": {},
   "source": [
    "## CIS 242\n",
    "\n",
    "## Spring 2020\n",
    "\n",
    "## HOMEWORK ASSIGNMENT 4\n",
    "\n",
    "Please compile your responses use markdown in your Jupyter notebook to answer the questions.  If you prefer, you may also submit a Word or PDF document with the responses along the PDF or HTML version of the completed notebook.   \n",
    "\n",
    "#### Active notebooks (.ipynb files) or raw code (.py files) will NOT be accepted and no points will be given.\n",
    "\n",
    "The code part of the files will not be graded, but they will be checked if necessary to verify your findings and recommendations. Point deductions may occur if there are major discrepancies between your written answers and the output from the code. \n",
    "\n",
    "Please organize your notebook to have the homework responses at the top and the working code underneath.\n",
    "\n",
    "Each question is worth 2 points for a total of **24 points**.\n"
   ]
  },
  {
   "cell_type": "markdown",
   "metadata": {},
   "source": [
    "## Predicting Loans for Universal Bank\n",
    "\n",
    "Remember: You were recently hired as a data scientist by Universal Bank. The bank’s Vice President is interested learning what predictive analytics can do for the bank. She supplies you with a dataset containing information on a sample of customers. Here is a description of each variable in the Universal Bank dataset:\n",
    "\n",
    "* Age: Customer’s age in years\n",
    "* Experience: Number of years of professional work experience\n",
    "* Income: Annual income in thousands of dollars (\\$000)\n",
    "* Zip code: Zip code of home address\n",
    "* Family: Customer’s family size\n",
    "* CC Avg: Average spending on credit cards per month in thousands of dollars (\\$000)\n",
    "* Education: Education level where 1 = Undergraduate; 2 = Graduate; and 3=Advanced/Professional\n",
    "* Mortgage: Value of house mortgage if any; in thousands of dollar (\\$000)\n",
    "* Personal.Loan: Did the customer accept a personal loan offered in the bank’s last campaign? 1=Yes; 0 = No.\n",
    "* Securities.Account: Does the customer have a securities account with the bank? 1 = Yes; 0 = No.\n",
    "* CD.Account: Does the customer have a certificate of deposit (CD) account with the bank? 1 = Yes; 0 = No.\n",
    "* Online: Does the customer use Internet banking facilities? 1 = Yes; 0 = No.\n",
    "* Credit.Card: Does the customer use a credit card issued by Universal Bank? 1 = Yes; 0 = No.\n"
   ]
  },
  {
   "cell_type": "markdown",
   "metadata": {},
   "source": [
    "You have already investigated these data and built a logistic regression model to help understand the personal loan market.  Now the VP wants to investigate other predictive models."
   ]
  },
  {
   "cell_type": "markdown",
   "metadata": {},
   "source": [
    "#### 1. You are asked to create a NB model to predict personal loans.  What variables will you use?  Why?"
   ]
  },
  {
   "cell_type": "markdown",
   "metadata": {},
   "source": [
    "We will start of with a Multinomial NB model. For this model, we will use categorical variables as they are most appropriate to use in an Multinomial NB model. These variables are Education, Securities Account, CD Account, Online, and CreditCard."
   ]
  },
  {
   "cell_type": "markdown",
   "metadata": {},
   "source": [
    "#### 2. Do you need to make any changes to the data?  If so, what do you change and why?  If not, why not?"
   ]
  },
  {
   "cell_type": "markdown",
   "metadata": {},
   "source": [
    "No, because all the variables mentioned above are categorical and therefore already expressed as discrete varaibles. This means we do not need to use the ordinal encoder to transform them into catergorical values."
   ]
  },
  {
   "cell_type": "markdown",
   "metadata": {},
   "source": [
    "#### 3. Train a NB model.  What set up or parameter choices did you make?  Why?"
   ]
  },
  {
   "cell_type": "markdown",
   "metadata": {},
   "source": [
    "Model 1.\n",
    "For the first model, we will use all the binomial/multinomial/categorical variables to see if having more variables in the Multinomial Naive Bayes model increases predictive accuracy. (Variables: Education, Securities Account, CD Account, Online, CreditCard)"
   ]
  },
  {
   "cell_type": "code",
   "execution_count": 1,
   "metadata": {},
   "outputs": [],
   "source": [
    "import numpy as np\n",
    "import pandas as pd\n",
    "\n",
    "UB_df = pd.read_csv('UniversalBank.csv')\n",
    "bank = pd.DataFrame(UB_df)\n",
    "\n",
    "#make copy of bank dataframe to manipulate according to need.\n",
    "bank_copy = bank\n",
    "\n",
    "from sklearn.naive_bayes import MultinomialNB"
   ]
  },
  {
   "cell_type": "code",
   "execution_count": 2,
   "metadata": {},
   "outputs": [
    {
     "data": {
      "text/html": [
       "<div>\n",
       "<style scoped>\n",
       "    .dataframe tbody tr th:only-of-type {\n",
       "        vertical-align: middle;\n",
       "    }\n",
       "\n",
       "    .dataframe tbody tr th {\n",
       "        vertical-align: top;\n",
       "    }\n",
       "\n",
       "    .dataframe thead th {\n",
       "        text-align: right;\n",
       "    }\n",
       "</style>\n",
       "<table border=\"1\" class=\"dataframe\">\n",
       "  <thead>\n",
       "    <tr style=\"text-align: right;\">\n",
       "      <th></th>\n",
       "      <th>Education</th>\n",
       "      <th>Securities Account</th>\n",
       "      <th>CD Account</th>\n",
       "      <th>Online</th>\n",
       "      <th>CreditCard</th>\n",
       "    </tr>\n",
       "  </thead>\n",
       "  <tbody>\n",
       "    <tr>\n",
       "      <th>0</th>\n",
       "      <td>1</td>\n",
       "      <td>1</td>\n",
       "      <td>0</td>\n",
       "      <td>0</td>\n",
       "      <td>0</td>\n",
       "    </tr>\n",
       "    <tr>\n",
       "      <th>1</th>\n",
       "      <td>1</td>\n",
       "      <td>1</td>\n",
       "      <td>0</td>\n",
       "      <td>0</td>\n",
       "      <td>0</td>\n",
       "    </tr>\n",
       "    <tr>\n",
       "      <th>2</th>\n",
       "      <td>1</td>\n",
       "      <td>0</td>\n",
       "      <td>0</td>\n",
       "      <td>0</td>\n",
       "      <td>0</td>\n",
       "    </tr>\n",
       "    <tr>\n",
       "      <th>3</th>\n",
       "      <td>2</td>\n",
       "      <td>0</td>\n",
       "      <td>0</td>\n",
       "      <td>0</td>\n",
       "      <td>0</td>\n",
       "    </tr>\n",
       "    <tr>\n",
       "      <th>4</th>\n",
       "      <td>2</td>\n",
       "      <td>0</td>\n",
       "      <td>0</td>\n",
       "      <td>0</td>\n",
       "      <td>1</td>\n",
       "    </tr>\n",
       "  </tbody>\n",
       "</table>\n",
       "</div>"
      ],
      "text/plain": [
       "   Education  Securities Account  CD Account  Online  CreditCard\n",
       "0          1                   1           0       0           0\n",
       "1          1                   1           0       0           0\n",
       "2          1                   0           0       0           0\n",
       "3          2                   0           0       0           0\n",
       "4          2                   0           0       0           1"
      ]
     },
     "execution_count": 2,
     "metadata": {},
     "output_type": "execute_result"
    }
   ],
   "source": [
    "#create dataframe with only column values of varaibles mentioned in question 1.\n",
    "bank_indep1 = bank_copy.drop(columns = ['Age','Experience','Income','ZIP Code','Family','CCAvg','Mortgage','Personal Loan'])\n",
    "#create separate object with just the personal loan results.\n",
    "bank_dep = bank.iloc[:, -5]\n",
    "\n",
    "bank_indep1.head()"
   ]
  },
  {
   "cell_type": "markdown",
   "metadata": {},
   "source": [
    "We will be taking 80% of the randomized sample for training and leave 20% for testing as we did in the last assignment."
   ]
  },
  {
   "cell_type": "code",
   "execution_count": 3,
   "metadata": {},
   "outputs": [
    {
     "data": {
      "text/plain": [
       "MultinomialNB(alpha=1.0, class_prior=None, fit_prior=True)"
      ]
     },
     "execution_count": 3,
     "metadata": {},
     "output_type": "execute_result"
    }
   ],
   "source": [
    "from sklearn.model_selection import train_test_split\n",
    "\n",
    "X=bank_indep1\n",
    "Y=bank_dep\n",
    "\n",
    "X_train, X_test, Y_train, Y_test = train_test_split(X, Y, test_size = 0.2, random_state=12345)\n",
    "\n",
    "NB=MultinomialNB()\n",
    "NB.fit(X_train,Y_train)\n",
    "#code borrowed from Professor Cannon's CIS 242 Lecture_4.pdf."
   ]
  },
  {
   "cell_type": "markdown",
   "metadata": {},
   "source": [
    "#### 4. Test the accuracy of your model.  What is the overall accuracy of the model? What did it do well?  What did it not do well?\n"
   ]
  },
  {
   "cell_type": "code",
   "execution_count": 4,
   "metadata": {},
   "outputs": [
    {
     "name": "stdout",
     "output_type": "stream",
     "text": [
      "Model accuracy: 0.904\n"
     ]
    },
    {
     "data": {
      "text/html": [
       "<div>\n",
       "<style scoped>\n",
       "    .dataframe tbody tr th:only-of-type {\n",
       "        vertical-align: middle;\n",
       "    }\n",
       "\n",
       "    .dataframe tbody tr th {\n",
       "        vertical-align: top;\n",
       "    }\n",
       "\n",
       "    .dataframe thead th {\n",
       "        text-align: right;\n",
       "    }\n",
       "</style>\n",
       "<table border=\"1\" class=\"dataframe\">\n",
       "  <thead>\n",
       "    <tr style=\"text-align: right;\">\n",
       "      <th>Actual</th>\n",
       "      <th>0</th>\n",
       "      <th>1</th>\n",
       "    </tr>\n",
       "    <tr>\n",
       "      <th>Predicted</th>\n",
       "      <th></th>\n",
       "      <th></th>\n",
       "    </tr>\n",
       "  </thead>\n",
       "  <tbody>\n",
       "    <tr>\n",
       "      <th>0</th>\n",
       "      <td>904</td>\n",
       "      <td>96</td>\n",
       "    </tr>\n",
       "  </tbody>\n",
       "</table>\n",
       "</div>"
      ],
      "text/plain": [
       "Actual       0   1\n",
       "Predicted         \n",
       "0          904  96"
      ]
     },
     "execution_count": 4,
     "metadata": {},
     "output_type": "execute_result"
    }
   ],
   "source": [
    "from sklearn.metrics import accuracy_score\n",
    "nb_pred = NB.predict(X_test)\n",
    "\n",
    "print('Model accuracy:', accuracy_score(Y_test, nb_pred))\n",
    "pd.crosstab(nb_pred, Y_test, rownames = [\"Predicted\"], colnames = [\"Actual\"])\n",
    "#code borrowed from Professor Cannon's CIS 242 Lecture_4.pdf."
   ]
  },
  {
   "cell_type": "markdown",
   "metadata": {},
   "source": [
    "The overall accuracy of this Naive Bayes model is 90.4%"
   ]
  },
  {
   "cell_type": "markdown",
   "metadata": {},
   "source": [
    "#### 5. Train at least two more versions of the model.  What changes did you make?  Why?  What was the outcome?"
   ]
  },
  {
   "cell_type": "markdown",
   "metadata": {},
   "source": [
    "Model 2.\n",
    "For the second model, we will use the GaussianNB to take in continuous varaibles that had positive coefficients in relation to Personal Loan last assignment. (Variables: Experience, Income, CCAvg)"
   ]
  },
  {
   "cell_type": "code",
   "execution_count": 5,
   "metadata": {},
   "outputs": [
    {
     "data": {
      "text/html": [
       "<div>\n",
       "<style scoped>\n",
       "    .dataframe tbody tr th:only-of-type {\n",
       "        vertical-align: middle;\n",
       "    }\n",
       "\n",
       "    .dataframe tbody tr th {\n",
       "        vertical-align: top;\n",
       "    }\n",
       "\n",
       "    .dataframe thead th {\n",
       "        text-align: right;\n",
       "    }\n",
       "</style>\n",
       "<table border=\"1\" class=\"dataframe\">\n",
       "  <thead>\n",
       "    <tr style=\"text-align: right;\">\n",
       "      <th></th>\n",
       "      <th>Experience</th>\n",
       "      <th>Income</th>\n",
       "      <th>CCAvg</th>\n",
       "    </tr>\n",
       "  </thead>\n",
       "  <tbody>\n",
       "    <tr>\n",
       "      <th>0</th>\n",
       "      <td>1</td>\n",
       "      <td>49</td>\n",
       "      <td>1.6</td>\n",
       "    </tr>\n",
       "    <tr>\n",
       "      <th>1</th>\n",
       "      <td>19</td>\n",
       "      <td>34</td>\n",
       "      <td>1.5</td>\n",
       "    </tr>\n",
       "    <tr>\n",
       "      <th>2</th>\n",
       "      <td>15</td>\n",
       "      <td>11</td>\n",
       "      <td>1.0</td>\n",
       "    </tr>\n",
       "    <tr>\n",
       "      <th>3</th>\n",
       "      <td>9</td>\n",
       "      <td>100</td>\n",
       "      <td>2.7</td>\n",
       "    </tr>\n",
       "    <tr>\n",
       "      <th>4</th>\n",
       "      <td>8</td>\n",
       "      <td>45</td>\n",
       "      <td>1.0</td>\n",
       "    </tr>\n",
       "  </tbody>\n",
       "</table>\n",
       "</div>"
      ],
      "text/plain": [
       "   Experience  Income  CCAvg\n",
       "0           1      49    1.6\n",
       "1          19      34    1.5\n",
       "2          15      11    1.0\n",
       "3           9     100    2.7\n",
       "4           8      45    1.0"
      ]
     },
     "execution_count": 5,
     "metadata": {},
     "output_type": "execute_result"
    }
   ],
   "source": [
    "bank_indep2 = bank_copy.drop(columns = ['Age','Education','ZIP Code','Personal Loan','Securities Account','Online',\n",
    "                                        'CreditCard','Family','Mortgage','CD Account'])\n",
    "bank_indep2.head()"
   ]
  },
  {
   "cell_type": "code",
   "execution_count": 6,
   "metadata": {},
   "outputs": [
    {
     "name": "stdout",
     "output_type": "stream",
     "text": [
      "Model accuracy: 0.886\n"
     ]
    },
    {
     "data": {
      "text/html": [
       "<div>\n",
       "<style scoped>\n",
       "    .dataframe tbody tr th:only-of-type {\n",
       "        vertical-align: middle;\n",
       "    }\n",
       "\n",
       "    .dataframe tbody tr th {\n",
       "        vertical-align: top;\n",
       "    }\n",
       "\n",
       "    .dataframe thead th {\n",
       "        text-align: right;\n",
       "    }\n",
       "</style>\n",
       "<table border=\"1\" class=\"dataframe\">\n",
       "  <thead>\n",
       "    <tr style=\"text-align: right;\">\n",
       "      <th>Actual</th>\n",
       "      <th>0</th>\n",
       "      <th>1</th>\n",
       "    </tr>\n",
       "    <tr>\n",
       "      <th>Predicted</th>\n",
       "      <th></th>\n",
       "      <th></th>\n",
       "    </tr>\n",
       "  </thead>\n",
       "  <tbody>\n",
       "    <tr>\n",
       "      <th>0</th>\n",
       "      <td>830</td>\n",
       "      <td>40</td>\n",
       "    </tr>\n",
       "    <tr>\n",
       "      <th>1</th>\n",
       "      <td>74</td>\n",
       "      <td>56</td>\n",
       "    </tr>\n",
       "  </tbody>\n",
       "</table>\n",
       "</div>"
      ],
      "text/plain": [
       "Actual       0   1\n",
       "Predicted         \n",
       "0          830  40\n",
       "1           74  56"
      ]
     },
     "execution_count": 6,
     "metadata": {},
     "output_type": "execute_result"
    }
   ],
   "source": [
    "X2=bank_indep2\n",
    "Y2=bank_dep\n",
    "\n",
    "from sklearn.naive_bayes import GaussianNB\n",
    "gnb = GaussianNB()\n",
    "\n",
    "X2_train, X2_test, Y2_train, Y2_test = train_test_split(X2, Y2, test_size = 0.2, random_state=12345)\n",
    "gnb.fit(X2_train,Y2_train)\n",
    "gnb_pred = gnb.predict(X2_test)\n",
    "\n",
    "print('Model accuracy:', accuracy_score(Y2_test, gnb_pred))\n",
    "pd.crosstab(gnb_pred, Y2_test, rownames = [\"Predicted\"], colnames = [\"Actual\"])"
   ]
  },
  {
   "cell_type": "markdown",
   "metadata": {},
   "source": [
    "The overall accuracy of this Gaussian Naive Bayes model is 88.6%"
   ]
  },
  {
   "cell_type": "markdown",
   "metadata": {},
   "source": [
    "Model 3. \n",
    "In this model, we will only use continuous variables with the Gaussian Naive Bayes model to compare the model's accuracy with model 1. (Variables: Age, Experience, Income, CCAvg, Mortgage)"
   ]
  },
  {
   "cell_type": "code",
   "execution_count": 7,
   "metadata": {},
   "outputs": [
    {
     "data": {
      "text/html": [
       "<div>\n",
       "<style scoped>\n",
       "    .dataframe tbody tr th:only-of-type {\n",
       "        vertical-align: middle;\n",
       "    }\n",
       "\n",
       "    .dataframe tbody tr th {\n",
       "        vertical-align: top;\n",
       "    }\n",
       "\n",
       "    .dataframe thead th {\n",
       "        text-align: right;\n",
       "    }\n",
       "</style>\n",
       "<table border=\"1\" class=\"dataframe\">\n",
       "  <thead>\n",
       "    <tr style=\"text-align: right;\">\n",
       "      <th></th>\n",
       "      <th>Age</th>\n",
       "      <th>Experience</th>\n",
       "      <th>Income</th>\n",
       "      <th>CCAvg</th>\n",
       "      <th>Mortgage</th>\n",
       "    </tr>\n",
       "  </thead>\n",
       "  <tbody>\n",
       "    <tr>\n",
       "      <th>0</th>\n",
       "      <td>25</td>\n",
       "      <td>1</td>\n",
       "      <td>49</td>\n",
       "      <td>1.6</td>\n",
       "      <td>0</td>\n",
       "    </tr>\n",
       "    <tr>\n",
       "      <th>1</th>\n",
       "      <td>45</td>\n",
       "      <td>19</td>\n",
       "      <td>34</td>\n",
       "      <td>1.5</td>\n",
       "      <td>0</td>\n",
       "    </tr>\n",
       "    <tr>\n",
       "      <th>2</th>\n",
       "      <td>39</td>\n",
       "      <td>15</td>\n",
       "      <td>11</td>\n",
       "      <td>1.0</td>\n",
       "      <td>0</td>\n",
       "    </tr>\n",
       "    <tr>\n",
       "      <th>3</th>\n",
       "      <td>35</td>\n",
       "      <td>9</td>\n",
       "      <td>100</td>\n",
       "      <td>2.7</td>\n",
       "      <td>0</td>\n",
       "    </tr>\n",
       "    <tr>\n",
       "      <th>4</th>\n",
       "      <td>35</td>\n",
       "      <td>8</td>\n",
       "      <td>45</td>\n",
       "      <td>1.0</td>\n",
       "      <td>0</td>\n",
       "    </tr>\n",
       "  </tbody>\n",
       "</table>\n",
       "</div>"
      ],
      "text/plain": [
       "   Age  Experience  Income  CCAvg  Mortgage\n",
       "0   25           1      49    1.6         0\n",
       "1   45          19      34    1.5         0\n",
       "2   39          15      11    1.0         0\n",
       "3   35           9     100    2.7         0\n",
       "4   35           8      45    1.0         0"
      ]
     },
     "execution_count": 7,
     "metadata": {},
     "output_type": "execute_result"
    }
   ],
   "source": [
    "bank_indep3 = bank_copy.drop(columns = ['Education','ZIP Code','Family','Personal Loan','Securities Account','CD Account',\n",
    "                                       'Online','CreditCard'])\n",
    "bank_indep3.head()"
   ]
  },
  {
   "cell_type": "code",
   "execution_count": 8,
   "metadata": {},
   "outputs": [
    {
     "name": "stdout",
     "output_type": "stream",
     "text": [
      "Model accuracy: 0.883\n"
     ]
    },
    {
     "data": {
      "text/html": [
       "<div>\n",
       "<style scoped>\n",
       "    .dataframe tbody tr th:only-of-type {\n",
       "        vertical-align: middle;\n",
       "    }\n",
       "\n",
       "    .dataframe tbody tr th {\n",
       "        vertical-align: top;\n",
       "    }\n",
       "\n",
       "    .dataframe thead th {\n",
       "        text-align: right;\n",
       "    }\n",
       "</style>\n",
       "<table border=\"1\" class=\"dataframe\">\n",
       "  <thead>\n",
       "    <tr style=\"text-align: right;\">\n",
       "      <th>Actual</th>\n",
       "      <th>0</th>\n",
       "      <th>1</th>\n",
       "    </tr>\n",
       "    <tr>\n",
       "      <th>Predicted</th>\n",
       "      <th></th>\n",
       "      <th></th>\n",
       "    </tr>\n",
       "  </thead>\n",
       "  <tbody>\n",
       "    <tr>\n",
       "      <th>0</th>\n",
       "      <td>828</td>\n",
       "      <td>41</td>\n",
       "    </tr>\n",
       "    <tr>\n",
       "      <th>1</th>\n",
       "      <td>76</td>\n",
       "      <td>55</td>\n",
       "    </tr>\n",
       "  </tbody>\n",
       "</table>\n",
       "</div>"
      ],
      "text/plain": [
       "Actual       0   1\n",
       "Predicted         \n",
       "0          828  41\n",
       "1           76  55"
      ]
     },
     "execution_count": 8,
     "metadata": {},
     "output_type": "execute_result"
    }
   ],
   "source": [
    "X3=bank_indep3\n",
    "Y3=bank_dep\n",
    "\n",
    "X3_train, X3_test, Y3_train, Y3_test = train_test_split(X3, Y3, test_size = 0.2, random_state=12345)\n",
    "gnb.fit(X3_train,Y3_train)\n",
    "gnb_pred2 = gnb.predict(X3_test)\n",
    "\n",
    "print('Model accuracy:', accuracy_score(Y3_test, gnb_pred2))\n",
    "pd.crosstab(gnb_pred2, Y3_test, rownames = [\"Predicted\"], colnames = [\"Actual\"])"
   ]
  },
  {
   "cell_type": "markdown",
   "metadata": {},
   "source": [
    "The overall accuracy of this Gaussian Naive Bayes model is 88.3%"
   ]
  },
  {
   "cell_type": "markdown",
   "metadata": {},
   "source": [
    "It turns out with this data set, model 1 shows the highest overall predictive accuracy."
   ]
  },
  {
   "cell_type": "markdown",
   "metadata": {},
   "source": [
    "#### 6. Now you are asked to create a KNN model to predict personal loans.  What variables will you use?  Why?"
   ]
  },
  {
   "cell_type": "markdown",
   "metadata": {},
   "source": [
    "We will use the same varaibles as NB model 2, as none of the variables in model 2 are categorical and it has a higher accuracy than model 3. We discussed in class that the KNN model does not work with categorical variables if they are not represented as numerical data types, so we will only be using the ones in model 2. (Variables: Experience, Income, CCAvg)"
   ]
  },
  {
   "cell_type": "markdown",
   "metadata": {},
   "source": [
    "#### 7. Do you need to make any changes to the data?  How is this similar or different to the NB model?  Why?"
   ]
  },
  {
   "cell_type": "markdown",
   "metadata": {},
   "source": [
    "We need to standardize the data since distance calculations are affected by different scale of variables, similar to having to standardize data for the NB model."
   ]
  },
  {
   "cell_type": "code",
   "execution_count": 9,
   "metadata": {},
   "outputs": [],
   "source": [
    "from sklearn.preprocessing import MinMaxScaler\n",
    "X2= MinMaxScaler().fit_transform(X2)"
   ]
  },
  {
   "cell_type": "markdown",
   "metadata": {},
   "source": [
    "#### 8. Train a KNN model. What set up or parameter choices did you make? Why?"
   ]
  },
  {
   "cell_type": "markdown",
   "metadata": {},
   "source": [
    "KNN model 1. Chose 2 for n_neighbors parameter because there are only two outcomes for 'Personal Loan' and chose 'Euclidian' as metric parameter because it's the most widely used method when calculating 2-dimensional distance between two points."
   ]
  },
  {
   "cell_type": "code",
   "execution_count": 10,
   "metadata": {},
   "outputs": [
    {
     "data": {
      "text/plain": [
       "KNeighborsClassifier(algorithm='auto', leaf_size=30, metric='euclidean',\n",
       "                     metric_params=None, n_jobs=None, n_neighbors=2, p=2,\n",
       "                     weights='uniform')"
      ]
     },
     "execution_count": 10,
     "metadata": {},
     "output_type": "execute_result"
    }
   ],
   "source": [
    "from sklearn.neighbors import KNeighborsClassifier\n",
    "\n",
    "np.random.seed(123)\n",
    "train = X2_train\n",
    "test = X2_test\n",
    "pred_knn = KNeighborsClassifier(n_neighbors = 2, metric = \"euclidean\")\n",
    "pred_knn.fit(X2_train, Y2_train)\n",
    "#code borrowed from Professor Cannon's CIS 242 Lecture_4.pdf."
   ]
  },
  {
   "cell_type": "markdown",
   "metadata": {},
   "source": [
    "#### 9. Test the accuracy of your model. What is the overall accuracy of the model? What did it do well? What did it not do well?"
   ]
  },
  {
   "cell_type": "code",
   "execution_count": 11,
   "metadata": {},
   "outputs": [
    {
     "name": "stdout",
     "output_type": "stream",
     "text": [
      "Model accuracy: 0.909\n"
     ]
    },
    {
     "data": {
      "text/html": [
       "<div>\n",
       "<style scoped>\n",
       "    .dataframe tbody tr th:only-of-type {\n",
       "        vertical-align: middle;\n",
       "    }\n",
       "\n",
       "    .dataframe tbody tr th {\n",
       "        vertical-align: top;\n",
       "    }\n",
       "\n",
       "    .dataframe thead th {\n",
       "        text-align: right;\n",
       "    }\n",
       "</style>\n",
       "<table border=\"1\" class=\"dataframe\">\n",
       "  <thead>\n",
       "    <tr style=\"text-align: right;\">\n",
       "      <th>Actual</th>\n",
       "      <th>0</th>\n",
       "      <th>1</th>\n",
       "    </tr>\n",
       "    <tr>\n",
       "      <th>Predicted</th>\n",
       "      <th></th>\n",
       "      <th></th>\n",
       "    </tr>\n",
       "  </thead>\n",
       "  <tbody>\n",
       "    <tr>\n",
       "      <th>0</th>\n",
       "      <td>886</td>\n",
       "      <td>73</td>\n",
       "    </tr>\n",
       "    <tr>\n",
       "      <th>1</th>\n",
       "      <td>18</td>\n",
       "      <td>23</td>\n",
       "    </tr>\n",
       "  </tbody>\n",
       "</table>\n",
       "</div>"
      ],
      "text/plain": [
       "Actual       0   1\n",
       "Predicted         \n",
       "0          886  73\n",
       "1           18  23"
      ]
     },
     "execution_count": 11,
     "metadata": {},
     "output_type": "execute_result"
    }
   ],
   "source": [
    "knn_pred = pred_knn.predict(X2_test)\n",
    "\n",
    "print('Model accuracy:', accuracy_score(Y2_test, knn_pred))\n",
    "pd.crosstab(knn_pred, Y2_test, rownames = [\"Predicted\"], colnames = [\"Actual\"])"
   ]
  },
  {
   "cell_type": "markdown",
   "metadata": {},
   "source": [
    "Overall accuracy of this KNN model 1 comes out to be 90.9%. Accuracy came out to be quite high so the model performed well, but it might've been affected by outliers as KNN models are known to be susceptible to. We know there are no missing values in the Universal Bank dataset so that's not an issue."
   ]
  },
  {
   "cell_type": "markdown",
   "metadata": {},
   "source": [
    "#### 10. What changes can you make that might affect the KNN model?  Train at least two more models.   What is the result?"
   ]
  },
  {
   "cell_type": "markdown",
   "metadata": {},
   "source": [
    "KNN Model 2. Using only NB model 1 variables this time. These varaibles are categorical but represented in numeric data types so the KNN model can compute them."
   ]
  },
  {
   "cell_type": "code",
   "execution_count": 12,
   "metadata": {},
   "outputs": [
    {
     "data": {
      "text/plain": [
       "KNeighborsClassifier(algorithm='auto', leaf_size=30, metric='euclidean',\n",
       "                     metric_params=None, n_jobs=None, n_neighbors=2, p=2,\n",
       "                     weights='uniform')"
      ]
     },
     "execution_count": 12,
     "metadata": {},
     "output_type": "execute_result"
    }
   ],
   "source": [
    "train = X_train\n",
    "test = X_test\n",
    "pred_knn = KNeighborsClassifier(n_neighbors = 2, metric = \"euclidean\")\n",
    "pred_knn.fit(X_train, Y_train)"
   ]
  },
  {
   "cell_type": "code",
   "execution_count": 13,
   "metadata": {},
   "outputs": [
    {
     "data": {
      "text/plain": [
       "<Figure size 640x480 with 1 Axes>"
      ]
     },
     "metadata": {},
     "output_type": "display_data"
    }
   ],
   "source": [
    "import matplotlib.pyplot as plt\n",
    "plt.scatter(X['CreditCard'],Y)\n",
    "plt.xlabel('Credit Card, 1=yes 0=no')\n",
    "plt.ylabel('Personal Loan, 1=yes 0=no')\n",
    "plt.show()\n",
    "#this is just an example to show if there are any noticeable patterns between one of the variables,'CreditCard', and 'Personal Loan'."
   ]
  },
  {
   "cell_type": "code",
   "execution_count": 14,
   "metadata": {},
   "outputs": [
    {
     "name": "stdout",
     "output_type": "stream",
     "text": [
      "Model accuracy: 0.916\n"
     ]
    },
    {
     "data": {
      "text/html": [
       "<div>\n",
       "<style scoped>\n",
       "    .dataframe tbody tr th:only-of-type {\n",
       "        vertical-align: middle;\n",
       "    }\n",
       "\n",
       "    .dataframe tbody tr th {\n",
       "        vertical-align: top;\n",
       "    }\n",
       "\n",
       "    .dataframe thead th {\n",
       "        text-align: right;\n",
       "    }\n",
       "</style>\n",
       "<table border=\"1\" class=\"dataframe\">\n",
       "  <thead>\n",
       "    <tr style=\"text-align: right;\">\n",
       "      <th>Actual</th>\n",
       "      <th>0</th>\n",
       "      <th>1</th>\n",
       "    </tr>\n",
       "    <tr>\n",
       "      <th>Predicted</th>\n",
       "      <th></th>\n",
       "      <th></th>\n",
       "    </tr>\n",
       "  </thead>\n",
       "  <tbody>\n",
       "    <tr>\n",
       "      <th>0</th>\n",
       "      <td>900</td>\n",
       "      <td>80</td>\n",
       "    </tr>\n",
       "    <tr>\n",
       "      <th>1</th>\n",
       "      <td>4</td>\n",
       "      <td>16</td>\n",
       "    </tr>\n",
       "  </tbody>\n",
       "</table>\n",
       "</div>"
      ],
      "text/plain": [
       "Actual       0   1\n",
       "Predicted         \n",
       "0          900  80\n",
       "1            4  16"
      ]
     },
     "execution_count": 14,
     "metadata": {},
     "output_type": "execute_result"
    }
   ],
   "source": [
    "knn_pred = pred_knn.predict(X_test)\n",
    "\n",
    "print('Model accuracy:', accuracy_score(Y_test, knn_pred))\n",
    "pd.crosstab(knn_pred, Y_test, rownames = [\"Predicted\"], colnames = [\"Actual\"])"
   ]
  },
  {
   "cell_type": "markdown",
   "metadata": {},
   "source": [
    "Overall accuracy of this KNN model 2 comes out to be 91.6%."
   ]
  },
  {
   "cell_type": "markdown",
   "metadata": {},
   "source": [
    "KNN model 3. For this model, we will use the variables from NB model 3, which were all continuous variables. (Variables: Age, Experience, Income, CCAvg, Mortgage)"
   ]
  },
  {
   "cell_type": "code",
   "execution_count": 15,
   "metadata": {},
   "outputs": [],
   "source": [
    "X3= MinMaxScaler().fit_transform(X3)\n",
    "#scale standardization is necessary as in KNN model 1 because the scales of variables are vastly different."
   ]
  },
  {
   "cell_type": "code",
   "execution_count": 16,
   "metadata": {},
   "outputs": [
    {
     "data": {
      "text/plain": [
       "KNeighborsClassifier(algorithm='auto', leaf_size=30, metric='euclidean',\n",
       "                     metric_params=None, n_jobs=None, n_neighbors=2, p=2,\n",
       "                     weights='uniform')"
      ]
     },
     "execution_count": 16,
     "metadata": {},
     "output_type": "execute_result"
    }
   ],
   "source": [
    "train = X3_train\n",
    "test = X3_test\n",
    "pred_knn = KNeighborsClassifier(n_neighbors = 2, metric = \"euclidean\")\n",
    "pred_knn.fit(X3_train, Y3_train)"
   ]
  },
  {
   "cell_type": "code",
   "execution_count": 17,
   "metadata": {},
   "outputs": [
    {
     "name": "stdout",
     "output_type": "stream",
     "text": [
      "Model accuracy: 0.904\n"
     ]
    },
    {
     "data": {
      "text/html": [
       "<div>\n",
       "<style scoped>\n",
       "    .dataframe tbody tr th:only-of-type {\n",
       "        vertical-align: middle;\n",
       "    }\n",
       "\n",
       "    .dataframe tbody tr th {\n",
       "        vertical-align: top;\n",
       "    }\n",
       "\n",
       "    .dataframe thead th {\n",
       "        text-align: right;\n",
       "    }\n",
       "</style>\n",
       "<table border=\"1\" class=\"dataframe\">\n",
       "  <thead>\n",
       "    <tr style=\"text-align: right;\">\n",
       "      <th>Actual</th>\n",
       "      <th>0</th>\n",
       "      <th>1</th>\n",
       "    </tr>\n",
       "    <tr>\n",
       "      <th>Predicted</th>\n",
       "      <th></th>\n",
       "      <th></th>\n",
       "    </tr>\n",
       "  </thead>\n",
       "  <tbody>\n",
       "    <tr>\n",
       "      <th>0</th>\n",
       "      <td>887</td>\n",
       "      <td>79</td>\n",
       "    </tr>\n",
       "    <tr>\n",
       "      <th>1</th>\n",
       "      <td>17</td>\n",
       "      <td>17</td>\n",
       "    </tr>\n",
       "  </tbody>\n",
       "</table>\n",
       "</div>"
      ],
      "text/plain": [
       "Actual       0   1\n",
       "Predicted         \n",
       "0          887  79\n",
       "1           17  17"
      ]
     },
     "execution_count": 17,
     "metadata": {},
     "output_type": "execute_result"
    }
   ],
   "source": [
    "knn_pred = pred_knn.predict(X3_test)\n",
    "\n",
    "print('Model accuracy:', accuracy_score(Y3_test, knn_pred))\n",
    "pd.crosstab(knn_pred, Y3_test, rownames = [\"Predicted\"], colnames = [\"Actual\"])"
   ]
  },
  {
   "cell_type": "markdown",
   "metadata": {},
   "source": [
    "Overall accuracy of this KNN model 2 comes out to be 90.4%."
   ]
  },
  {
   "cell_type": "markdown",
   "metadata": {},
   "source": [
    "#### 11. What are the relative strengths and weaknesses of the various models?  Mention at least 3 points. "
   ]
  },
  {
   "cell_type": "markdown",
   "metadata": {},
   "source": [
    "Strengths of NB model: \n",
    "1. It's generative compared to KNN so it handles missing values much better.\n",
    "2. Despite the independence assumption being rarely true, the model performs very well.\n",
    "3. Because it's a non-lazy supervised training model, it requires less training data set.\n",
    "\n",
    "Weaknesses of NB model:\n",
    "1. The independence assumption among predictors very rarely holds true in real life.\n",
    "2. If a categorical variable that was not introduced in the training set is introduced in the test set, it is automatically assigned 0 probabilty and the model will be unable to make predictions with it.\n",
    "\n",
    "Strenghts of KNN model:\n",
    "1. No training period is required, so adding new data is seamless.\n",
    "2. The algorithm is simple and easy to implement due to few parameters.\n",
    "3. Makes no assumptions that are mostly untrue in real life.\n",
    "\n",
    "Weaknesses of KNN model:\n",
    "1. Always have to convert categorical varaibles into dummy/numeric type variables.\n",
    "2. Scaling is crucial since it measures distances and not scaling leads to wrong predictions.\n",
    "3. Sensitive to outliers and missing values."
   ]
  },
  {
   "cell_type": "markdown",
   "metadata": {},
   "source": [
    "#### 12. What would you recommend to the VP?  Why? Remember, you have 3 different models (and their variants) to choose from.  "
   ]
  },
  {
   "cell_type": "markdown",
   "metadata": {},
   "source": [
    "I would recommend using the KNN model with categorical variables that were used in KNN model 2 and NB model 1. Normally it would make little sense to use categorical variables for a KNN model but fortunately in this dataset, all teh categorical varaibles are represented as dummy/numeric data types so the KNN model can actually run its algorithm and produce an overall accuracy of 91.6%. With this model, we can use Education, Securities Account, CD Account, Online, and CreditCard varaibles to predict whether a customer will take out a personal loan or not more than 9 out of 10 times."
   ]
  },
  {
   "cell_type": "markdown",
   "metadata": {},
   "source": [
    "## Final project group members:  with whom are you working on your final project?\n",
    "Please make sure one member of your group posts the names of people in your group to [this Google doc](https://docs.google.com/spreadsheets/d/15s2RIzZ7SqFMqi5ZAsUdmTrboNrQI2TKb0P2AbNpU9Q/edit?usp=sharing) before class on **February 13**.  If you have fewer than 4 members, please indicate if you would be open to an additional collaborators by using the terms \"Open\" or \"Closed\" to describe your group. \n",
    "\n",
    "If you have not yet found/formed a group, look for groups marked \"Open\" to see about joining them.  Or post that you are a one person \"Open\" group so that others can find you. "
   ]
  },
  {
   "cell_type": "markdown",
   "metadata": {},
   "source": [
    "## Quick survey: \n",
    "Please take a minute to provide feedback on how you think the course is going so far [using this link](https://docs.google.com/forms/d/16XmbU7PtVFAqv3aOGPwBIkmOD_IeMGVELde4ZOmCyeI/edit)\n",
    "\n",
    "The responses are anonymous and will be helpful for me to understand how I can try to make sure you get the most out of the class. \n",
    "\n",
    "### If we get a response rate of 75% or above, everyone gets an extra point on this assignment!  That means that 75% of the class provides honest feedback and not 75% of the class says nice things.  :-)"
   ]
  },
  {
   "cell_type": "markdown",
   "metadata": {},
   "source": [
    "## Working code below"
   ]
  },
  {
   "cell_type": "markdown",
   "metadata": {},
   "source": [
    "All work is shown underneath each question."
   ]
  }
 ],
 "metadata": {
  "kernelspec": {
   "display_name": "Python 3",
   "language": "python",
   "name": "python3"
  },
  "language_info": {
   "codemirror_mode": {
    "name": "ipython",
    "version": 3
   },
   "file_extension": ".py",
   "mimetype": "text/x-python",
   "name": "python",
   "nbconvert_exporter": "python",
   "pygments_lexer": "ipython3",
   "version": "3.7.3"
  }
 },
 "nbformat": 4,
 "nbformat_minor": 2
}
